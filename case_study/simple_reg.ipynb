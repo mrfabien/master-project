{
 "cells": [
  {
   "cell_type": "code",
   "execution_count": 1,
   "metadata": {},
   "outputs": [],
   "source": [
    "# creation of a simple regression model with the mean of each variable in datasets_3h folder\n",
    "# and the mean of the target variable in the training set\n",
    "\n",
    "import pandas as pd\n",
    "import numpy as np\n",
    "import os\n",
    "from sklearn.linear_model import LinearRegression\n",
    "from sklearn.metrics import mean_squared_error\n",
    "from sklearn.model_selection import train_test_split\n",
    "from sklearn.preprocessing import StandardScaler\n"
   ]
  },
  {
   "cell_type": "code",
   "execution_count": 6,
   "metadata": {},
   "outputs": [
    {
     "name": "stdout",
     "output_type": "stream",
     "text": [
      "10m_u_component_of_wind\n",
      "10m_v_component_of_wind\n",
      "2m_dewpoint_temperature\n",
      "2m_temperature\n",
      "cloud_base_height\n",
      "convective_available_potential_energy\n",
      "convective_inhibition\n",
      "convective_precipitation\n",
      "convective_rain_rate\n",
      "convective_snowfall\n",
      "geopotential_500\n",
      "geopotential_1000\n",
      "high_cloud_cover\n",
      "instantaneous_10m_wind_gust\n",
      "k_index\n",
      "large_scale_precipitation\n",
      "large_scale_snowfall\n",
      "mean_large_scale_precipitation_rate\n",
      "mean_top_net_long_wave_radiation_flux\n",
      "mean_top_net_short_wave_radiation_flux\n",
      "mean_total_precipitation_rate\n",
      "mean_sea_level_pressure\n",
      "mean_surface_latent_heat_flux\n",
      "mean_surface_net_long_wave_radiation_flux\n",
      "mean_surface_net_short_wave_radiation_flux\n",
      "mean_vertically_integrated_moisture_divergence\n",
      "surface_pressure\n",
      "total_precipitation\n",
      "total_totals_index\n"
     ]
    }
   ],
   "source": [
    "# test 2\n",
    "\n",
    "# open each csv file and read it into a pandas dataframe\n",
    "name_of_variables = pd.read_csv('/Users/fabienaugsburger/Documents/GitHub/master-project/datasets/variable_list_24_v2_1.csv')\n",
    "name_of_variables = name_of_variables['variable'].tolist()\n",
    "\n",
    "# Create a new list of variables\n",
    "new_name_of_variables = []\n",
    "for variable in name_of_variables:\n",
    "    if variable == 'geopotential':\n",
    "        new_name_of_variables.extend(['geopotential_500', 'geopotential_1000'])\n",
    "    else:\n",
    "        new_name_of_variables.append(variable)\n",
    "\n",
    "# Iterate over the new list of variables\n",
    "for i in range(0, len(new_name_of_variables)):\n",
    "\n",
    "    print(new_name_of_variables[i])\n",
    "\n",
    "    locals()[f'max_{new_name_of_variables[i]}'] = pd.DataFrame()\n",
    "    locals()[f'min_{new_name_of_variables[i]}'] = pd.DataFrame()\n",
    "    locals()[f'mean_{new_name_of_variables[i]}'] = pd.DataFrame()\n",
    "    locals()[f'sigma_{new_name_of_variables[i]}'] = pd.DataFrame()\n",
    "\n",
    "    for j in range (1,96+1):\n",
    "        if 'geopotential' in new_name_of_variables[i]:\n",
    "            for k in [500, 1000]:\n",
    "                df_max_temp = pd.read_csv('/Users/fabienaugsburger/Documents/GitHub/master-project/datasets_3h/geopotential/storm_' + str(j) + '/max_'+ str(j) + '_' + str(k) + '.csv')\n",
    "                df_min_temp = pd.read_csv('/Users/fabienaugsburger/Documents/GitHub/master-project/datasets_3h/geopotential/storm_' + str(j) + '/min_'+ str(j) + '_' + str(k) + '.csv')\n",
    "                df_mean_temp = pd.read_csv('/Users/fabienaugsburger/Documents/GitHub/master-project/datasets_3h/geopotential/storm_' + str(j) + '/mean_'+ str(j) + '_' + str(k) + '.csv')\n",
    "                df_sigma_temp = pd.read_csv('/Users/fabienaugsburger/Documents/GitHub/master-project/datasets_3h/geopotential/storm_' + str(j) + '/std_'+ str(j) + '_' + str(k) + '.csv')\n",
    "\n",
    "        else:\n",
    "            df_max_temp = pd.read_csv('/Users/fabienaugsburger/Documents/GitHub/master-project/datasets_3h/' + new_name_of_variables[i] + '/storm_' + str(j) + '/max_'+ str(j) + '_0.csv')\n",
    "            df_min_temp = pd.read_csv('/Users/fabienaugsburger/Documents/GitHub/master-project/datasets_3h/' + new_name_of_variables[i] + '/storm_' + str(j) + '/min_'+ str(j) + '_0.csv')\n",
    "            df_mean_temp = pd.read_csv('/Users/fabienaugsburger/Documents/GitHub/master-project/datasets_3h/' + new_name_of_variables[i] + '/storm_' + str(j) + '/mean_'+ str(j) + '_0.csv')\n",
    "            df_sigma_temp = pd.read_csv('/Users/fabienaugsburger/Documents/GitHub/master-project/datasets_3h/' + new_name_of_variables[i] + '/storm_' + str(j) + '/std_'+ str(j) + '_0.csv')\n",
    "\n",
    "        df_max_temp = df_max_temp.drop(columns = ['Unnamed: 0'])\n",
    "        df_min_temp = df_min_temp.drop(columns = ['Unnamed: 0'])\n",
    "        df_mean_temp = df_mean_temp.drop(columns = ['Unnamed: 0'])\n",
    "        df_sigma_temp = df_sigma_temp.drop(columns = ['Unnamed: 0'])\n",
    "\n",
    "        locals()[f'max_{new_name_of_variables[i]}'] = pd.concat([locals()[f'max_{new_name_of_variables[i]}'], df_max_temp], axis=0)\n",
    "        locals()[f'min_{new_name_of_variables[i]}'] = pd.concat([locals()[f'min_{new_name_of_variables[i]}'], df_min_temp], axis=0)\n",
    "        locals()[f'mean_{new_name_of_variables[i]}'] = pd.concat([locals()[f'mean_{new_name_of_variables[i]}'], df_mean_temp], axis=0)\n",
    "        locals()[f'sigma_{new_name_of_variables[i]}'] = pd.concat([locals()[f'sigma_{new_name_of_variables[i]}'], df_sigma_temp], axis=0)"
   ]
  },
  {
   "cell_type": "code",
   "execution_count": 7,
   "metadata": {},
   "outputs": [],
   "source": [
    "name_of_variables = new_name_of_variables\n",
    "\n",
    "# remove variable with only one repetitive value in each statistic\n",
    "for i in range (0, len(name_of_variables)):\n",
    "    var_name = name_of_variables[i]\n",
    "    for stat in ['max', 'min', 'mean', 'sigma']:\n",
    "        df = locals()[f'{stat}_{var_name}']\n",
    "        cols_to_drop = [col for col in df.columns if df[col].nunique() <= 1]\n",
    "        locals()[f'{stat}_{var_name}'] = df.drop(columns=cols_to_drop)\n",
    "\n",
    "# drop nan values and remove empty dataframes\n",
    "kept_variables = []\n",
    "for i in range (0, len(name_of_variables)):\n",
    "    var_name = name_of_variables[i]\n",
    "    for stat in ['max', 'min', 'mean', 'sigma']:\n",
    "        df = locals()[f'{stat}_{var_name}']\n",
    "        df = df.dropna()\n",
    "        if not df.empty:\n",
    "            locals()[f'{stat}_{var_name}'] = df\n",
    "            if var_name not in kept_variables:\n",
    "                kept_variables.append(var_name)\n",
    "        else:\n",
    "            del locals()[f'{stat}_{var_name}']\n",
    "\n",
    "'''del max_high_cloud_cover\n",
    "del min_high_cloud_cover'''\n",
    "\n",
    "# update name_of_variables to only include kept variables\n",
    "name_of_variables = pd.Series(kept_variables)"
   ]
  },
  {
   "cell_type": "code",
   "execution_count": 30,
   "metadata": {},
   "outputs": [],
   "source": [
    "# the target variable is the mean of instanteneous_10m_wind_gust\n",
    "variable_w_high_corr= ['mean_large_scale_precipitation', 'mean_total_precipitation','mean_mean_large_scale_precipitation_rate','mean_large_scale_snowfall']\n",
    "# mean_low_tropospheric_vertical_velocity??\n",
    "# create a dataframe with the target variable\n",
    "\n",
    "target_variable = mean_instantaneous_10m_wind_gust\n",
    "x_variable = mean_total_precipitation\n",
    "\n",
    "# split the data into a training and a test set\n",
    "X_train, X_test, y_train, y_test = train_test_split(x_variable, target_variable, test_size=0.2, random_state=42)"
   ]
  },
  {
   "cell_type": "code",
   "execution_count": 32,
   "metadata": {},
   "outputs": [
    {
     "name": "stdout",
     "output_type": "stream",
     "text": [
      "The mean squared error of the model with mean_large_scale_precipitation as the independent variable is 0.06319021937398077\n",
      "The mean squared error of the model with mean_total_precipitation as the independent variable is 0.06923697814313828\n",
      "The mean squared error of the model with mean_mean_large_scale_precipitation_rate as the independent variable is 0.0633238140785473\n",
      "The mean squared error of the model with mean_large_scale_snowfall as the independent variable is 0.07187408704374666\n"
     ]
    }
   ],
   "source": [
    "for x_var in variable_w_high_corr:\n",
    "    X_train, X_test, y_train, y_test = train_test_split(locals()[f'{x_var}'], target_variable, test_size=0.2, random_state=42)\n",
    "    # create a linear regression model\n",
    "    model = LinearRegression()\n",
    "\n",
    "    # fit the model to the training data\n",
    "    model.fit(X_train, y_train)\n",
    "\n",
    "    # make predictions on the test set\n",
    "    y_pred = model.predict(X_test)\n",
    "\n",
    "    # calculate the mean squared error of the model\n",
    "    mse = mean_squared_error(y_test, y_pred)\n",
    "    print(f'The mean squared error of the model with {x_var} as the independent variable is {mse}')"
   ]
  },
  {
   "cell_type": "code",
   "execution_count": 24,
   "metadata": {},
   "outputs": [
    {
     "data": {
      "text/html": [
       "<style>#sk-container-id-3 {color: black;background-color: white;}#sk-container-id-3 pre{padding: 0;}#sk-container-id-3 div.sk-toggleable {background-color: white;}#sk-container-id-3 label.sk-toggleable__label {cursor: pointer;display: block;width: 100%;margin-bottom: 0;padding: 0.3em;box-sizing: border-box;text-align: center;}#sk-container-id-3 label.sk-toggleable__label-arrow:before {content: \"▸\";float: left;margin-right: 0.25em;color: #696969;}#sk-container-id-3 label.sk-toggleable__label-arrow:hover:before {color: black;}#sk-container-id-3 div.sk-estimator:hover label.sk-toggleable__label-arrow:before {color: black;}#sk-container-id-3 div.sk-toggleable__content {max-height: 0;max-width: 0;overflow: hidden;text-align: left;background-color: #f0f8ff;}#sk-container-id-3 div.sk-toggleable__content pre {margin: 0.2em;color: black;border-radius: 0.25em;background-color: #f0f8ff;}#sk-container-id-3 input.sk-toggleable__control:checked~div.sk-toggleable__content {max-height: 200px;max-width: 100%;overflow: auto;}#sk-container-id-3 input.sk-toggleable__control:checked~label.sk-toggleable__label-arrow:before {content: \"▾\";}#sk-container-id-3 div.sk-estimator input.sk-toggleable__control:checked~label.sk-toggleable__label {background-color: #d4ebff;}#sk-container-id-3 div.sk-label input.sk-toggleable__control:checked~label.sk-toggleable__label {background-color: #d4ebff;}#sk-container-id-3 input.sk-hidden--visually {border: 0;clip: rect(1px 1px 1px 1px);clip: rect(1px, 1px, 1px, 1px);height: 1px;margin: -1px;overflow: hidden;padding: 0;position: absolute;width: 1px;}#sk-container-id-3 div.sk-estimator {font-family: monospace;background-color: #f0f8ff;border: 1px dotted black;border-radius: 0.25em;box-sizing: border-box;margin-bottom: 0.5em;}#sk-container-id-3 div.sk-estimator:hover {background-color: #d4ebff;}#sk-container-id-3 div.sk-parallel-item::after {content: \"\";width: 100%;border-bottom: 1px solid gray;flex-grow: 1;}#sk-container-id-3 div.sk-label:hover label.sk-toggleable__label {background-color: #d4ebff;}#sk-container-id-3 div.sk-serial::before {content: \"\";position: absolute;border-left: 1px solid gray;box-sizing: border-box;top: 0;bottom: 0;left: 50%;z-index: 0;}#sk-container-id-3 div.sk-serial {display: flex;flex-direction: column;align-items: center;background-color: white;padding-right: 0.2em;padding-left: 0.2em;position: relative;}#sk-container-id-3 div.sk-item {position: relative;z-index: 1;}#sk-container-id-3 div.sk-parallel {display: flex;align-items: stretch;justify-content: center;background-color: white;position: relative;}#sk-container-id-3 div.sk-item::before, #sk-container-id-3 div.sk-parallel-item::before {content: \"\";position: absolute;border-left: 1px solid gray;box-sizing: border-box;top: 0;bottom: 0;left: 50%;z-index: -1;}#sk-container-id-3 div.sk-parallel-item {display: flex;flex-direction: column;z-index: 1;position: relative;background-color: white;}#sk-container-id-3 div.sk-parallel-item:first-child::after {align-self: flex-end;width: 50%;}#sk-container-id-3 div.sk-parallel-item:last-child::after {align-self: flex-start;width: 50%;}#sk-container-id-3 div.sk-parallel-item:only-child::after {width: 0;}#sk-container-id-3 div.sk-dashed-wrapped {border: 1px dashed gray;margin: 0 0.4em 0.5em 0.4em;box-sizing: border-box;padding-bottom: 0.4em;background-color: white;}#sk-container-id-3 div.sk-label label {font-family: monospace;font-weight: bold;display: inline-block;line-height: 1.2em;}#sk-container-id-3 div.sk-label-container {text-align: center;}#sk-container-id-3 div.sk-container {/* jupyter's `normalize.less` sets `[hidden] { display: none; }` but bootstrap.min.css set `[hidden] { display: none !important; }` so we also need the `!important` here to be able to override the default hidden behavior on the sphinx rendered scikit-learn.org. See: https://github.com/scikit-learn/scikit-learn/issues/21755 */display: inline-block !important;position: relative;}#sk-container-id-3 div.sk-text-repr-fallback {display: none;}</style><div id=\"sk-container-id-3\" class=\"sk-top-container\"><div class=\"sk-text-repr-fallback\"><pre>LinearRegression()</pre><b>In a Jupyter environment, please rerun this cell to show the HTML representation or trust the notebook. <br />On GitHub, the HTML representation is unable to render, please try loading this page with nbviewer.org.</b></div><div class=\"sk-container\" hidden><div class=\"sk-item\"><div class=\"sk-estimator sk-toggleable\"><input class=\"sk-toggleable__control sk-hidden--visually\" id=\"sk-estimator-id-3\" type=\"checkbox\" checked><label for=\"sk-estimator-id-3\" class=\"sk-toggleable__label sk-toggleable__label-arrow\">LinearRegression</label><div class=\"sk-toggleable__content\"><pre>LinearRegression()</pre></div></div></div></div></div>"
      ],
      "text/plain": [
       "LinearRegression()"
      ]
     },
     "execution_count": 24,
     "metadata": {},
     "output_type": "execute_result"
    }
   ],
   "source": [
    "# train the model\n",
    "model = LinearRegression()\n",
    "model.fit(X_train, y_train)"
   ]
  },
  {
   "cell_type": "code",
   "execution_count": 25,
   "metadata": {},
   "outputs": [
    {
     "name": "stdout",
     "output_type": "stream",
     "text": [
      "0.06923697814313828\n"
     ]
    }
   ],
   "source": [
    "# make predictions\n",
    "y_pred = model.predict(X_test)\n",
    "\n",
    "# calculate the mean squared error\n",
    "mse = mean_squared_error(y_test, y_pred)\n",
    "print(mse)"
   ]
  },
  {
   "cell_type": "code",
   "execution_count": 26,
   "metadata": {},
   "outputs": [
    {
     "name": "stdout",
     "output_type": "stream",
     "text": [
      "0.7751150756182278\n"
     ]
    }
   ],
   "source": [
    "# standardize the data\n",
    "scaler = StandardScaler()\n",
    "scaler.fit(X_train)\n",
    "scaler.fit(y_train)\n",
    "X_train = scaler.transform(X_train)\n",
    "X_test = scaler.transform(X_test)\n",
    "y_train = scaler.transform(y_train)\n",
    "y_test = scaler.transform(y_test)\n",
    "\n",
    "# train the model\n",
    "model = LinearRegression()\n",
    "model.fit(X_train, y_train)\n",
    "\n",
    "# make predictions\n",
    "y_pred = model.predict(X_test)\n",
    "\n",
    "# calculate the mean squared error\n",
    "mse = mean_squared_error(y_test, y_pred)\n",
    "print(mse)"
   ]
  },
  {
   "cell_type": "code",
   "execution_count": 33,
   "metadata": {},
   "outputs": [
    {
     "name": "stdout",
     "output_type": "stream",
     "text": [
      "The mean squared error of the model with mean_large_scale_precipitation as the independent variable is 0.7074209906708323\n",
      "The mean squared error of the model with mean_total_precipitation as the independent variable is 0.7751150756182278\n",
      "The mean squared error of the model with mean_mean_large_scale_precipitation_rate as the independent variable is 0.7089165971062966\n",
      "The mean squared error of the model with mean_large_scale_snowfall as the independent variable is 0.8046377803937472\n"
     ]
    }
   ],
   "source": [
    "for x_var in variable_w_high_corr:\n",
    "    X_train, X_test, y_train, y_test = train_test_split(locals()[f'{x_var}'], target_variable, test_size=0.2, random_state=42)\n",
    "    # standardize the data\n",
    "    scaler = StandardScaler()\n",
    "    scaler.fit(X_train)\n",
    "    scaler.fit(y_train)\n",
    "    X_train = scaler.transform(X_train)\n",
    "    X_test = scaler.transform(X_test)\n",
    "    y_train = scaler.transform(y_train)\n",
    "    y_test = scaler.transform(y_test)\n",
    "\n",
    "    # train the model\n",
    "    model = LinearRegression()\n",
    "    model.fit(X_train, y_train)\n",
    "\n",
    "    # make predictions\n",
    "    y_pred = model.predict(X_test)\n",
    "\n",
    "    # calculate the mean squared error\n",
    "    mse = mean_squared_error(y_test, y_pred)\n",
    "    print(f'The mean squared error of the model with {x_var} as the independent variable is {mse}')"
   ]
  }
 ],
 "metadata": {
  "kernelspec": {
   "display_name": "master",
   "language": "python",
   "name": "python3"
  },
  "language_info": {
   "codemirror_mode": {
    "name": "ipython",
    "version": 3
   },
   "file_extension": ".py",
   "mimetype": "text/x-python",
   "name": "python",
   "nbconvert_exporter": "python",
   "pygments_lexer": "ipython3",
   "version": "3.11.5"
  }
 },
 "nbformat": 4,
 "nbformat_minor": 2
}
