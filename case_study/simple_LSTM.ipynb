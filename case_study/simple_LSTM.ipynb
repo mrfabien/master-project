{
 "cells": [
  {
   "cell_type": "code",
   "execution_count": 1,
   "metadata": {},
   "outputs": [],
   "source": [
    "# creation of a simple regression model with the mean of each variable in datasets_3h folder\n",
    "# and the mean of the target variable in the training set\n",
    "\n",
    "import pandas as pd\n",
    "import numpy as np\n",
    "import os\n",
    "from sklearn.linear_model import LinearRegression\n",
    "from sklearn.metrics import mean_squared_error\n",
    "from sklearn.model_selection import train_test_split\n",
    "from sklearn.preprocessing import StandardScaler\n",
    "import matplotlib.pyplot as plt\n"
   ]
  },
  {
   "cell_type": "code",
   "execution_count": 2,
   "metadata": {},
   "outputs": [
    {
     "data": {
      "text/plain": [
       "[<matplotlib.lines.Line2D at 0x169671690>]"
      ]
     },
     "execution_count": 2,
     "metadata": {},
     "output_type": "execute_result"
    },
    {
     "data": {
      "image/png": "[encoded data removed]",
      "text/plain": [
       "<Figure size 640x480 with 1 Axes>"
      ]
     },
     "metadata": {},
     "output_type": "display_data"
    }
   ],
   "source": [
    "one_storm = pd.read_csv('/Users/fabienaugsburger/Documents/GitHub/master-project/datasets_3h/instantaneous_10m_wind_gust/storm_1/max_1_0.csv')\n",
    "one_storm = np.asarray(one_storm['0'])\n",
    "plt.plot(one_storm, label='True', lw=0, marker='o')"
   ]
  },
  {
   "cell_type": "code",
   "execution_count": 3,
   "metadata": {},
   "outputs": [
    {
     "data": {
      "text/plain": [
       "\"# test 2\\n\\n# open each csv file and read it into a pandas dataframe\\nname_of_variables = pd.read_csv('/Users/fabienaugsburger/Documents/GitHub/master-project/variable_list_24_v2_1.csv')\\nname_of_variables = name_of_variables['variable'].tolist()\\n\\n# Create a new list of variables\\nnew_name_of_variables = []\\nfor variable in name_of_variables:\\n    if variable == 'geopotential':\\n        new_name_of_variables.extend(['geopotential_500', 'geopotential_1000'])\\n    else:\\n        new_name_of_variables.append(variable)\\n\\n# Iterate over the new list of variables\\nfor i in range(0, len(new_name_of_variables)):\\n\\n    print(new_name_of_variables[i])\\n\\n    locals()[f'max_{new_name_of_variables[i]}'] = pd.DataFrame()\\n    locals()[f'min_{new_name_of_variables[i]}'] = pd.DataFrame()\\n    locals()[f'mean_{new_name_of_variables[i]}'] = pd.DataFrame()\\n    locals()[f'sigma_{new_name_of_variables[i]}'] = pd.DataFrame()\\n\\n    for j in range (1,96+1):\\n        if 'geopotential' in new_name_of_variables[i]:\\n            for k in [500, 1000]:\\n                df_max_temp = pd.read_csv('/Users/fabienaugsburger/Documents/GitHub/master-project/datasets_3h/geopotential/storm_' + str(j) + '/max_'+ str(j) + '_' + str(k) + '.csv')\\n                df_min_temp = pd.read_csv('/Users/fabienaugsburger/Documents/GitHub/master-project/datasets_3h/geopotential/storm_' + str(j) + '/min_'+ str(j) + '_' + str(k) + '.csv')\\n                df_mean_temp = pd.read_csv('/Users/fabienaugsburger/Documents/GitHub/master-project/datasets_3h/geopotential/storm_' + str(j) + '/mean_'+ str(j) + '_' + str(k) + '.csv')\\n                df_sigma_temp = pd.read_csv('/Users/fabienaugsburger/Documents/GitHub/master-project/datasets_3h/geopotential/storm_' + str(j) + '/std_'+ str(j) + '_' + str(k) + '.csv')\\n\\n        else:\\n            df_max_temp = pd.read_csv('/Users/fabienaugsburger/Documents/GitHub/master-project/datasets_3h/' + new_name_of_variables[i] + '/storm_' + str(j) + '/max_'+ str(j) + '_0.csv')\\n            df_min_temp = pd.read_csv('/Users/fabienaugsburger/Documents/GitHub/master-project/datasets_3h/' + new_name_of_variables[i] + '/storm_' + str(j) + '/min_'+ str(j) + '_0.csv')\\n            df_mean_temp = pd.read_csv('/Users/fabienaugsburger/Documents/GitHub/master-project/datasets_3h/' + new_name_of_variables[i] + '/storm_' + str(j) + '/mean_'+ str(j) + '_0.csv')\\n            df_sigma_temp = pd.read_csv('/Users/fabienaugsburger/Documents/GitHub/master-project/datasets_3h/' + new_name_of_variables[i] + '/storm_' + str(j) + '/std_'+ str(j) + '_0.csv')\\n\\n        df_max_temp = df_max_temp.drop(columns = ['Unnamed: 0'])\\n        df_min_temp = df_min_temp.drop(columns = ['Unnamed: 0'])\\n        df_mean_temp = df_mean_temp.drop(columns = ['Unnamed: 0'])\\n        df_sigma_temp = df_sigma_temp.drop(columns = ['Unnamed: 0'])\\n\\n        locals()[f'max_{new_name_of_variables[i]}'] = pd.concat([locals()[f'max_{new_name_of_variables[i]}'], df_max_temp], axis=0)\\n        locals()[f'min_{new_name_of_variables[i]}'] = pd.concat([locals()[f'min_{new_name_of_variables[i]}'], df_min_temp], axis=0)\\n        locals()[f'mean_{new_name_of_variables[i]}'] = pd.concat([locals()[f'mean_{new_name_of_variables[i]}'], df_mean_temp], axis=0)\\n        locals()[f'sigma_{new_name_of_variables[i]}'] = pd.concat([locals()[f'sigma_{new_name_of_variables[i]}'], df_sigma_temp], axis=0)\""
      ]
     },
     "execution_count": 3,
     "metadata": {},
     "output_type": "execute_result"
    }
   ],
   "source": [
    "'''# test 2\n",
    "\n",
    "# open each csv file and read it into a pandas dataframe\n",
    "name_of_variables = pd.read_csv('/Users/fabienaugsburger/Documents/GitHub/master-project/variable_list_24_v2_1.csv')\n",
    "name_of_variables = name_of_variables['variable'].tolist()\n",
    "\n",
    "# Create a new list of variables\n",
    "new_name_of_variables = []\n",
    "for variable in name_of_variables:\n",
    "    if variable == 'geopotential':\n",
    "        new_name_of_variables.extend(['geopotential_500', 'geopotential_1000'])\n",
    "    else:\n",
    "        new_name_of_variables.append(variable)\n",
    "\n",
    "# Iterate over the new list of variables\n",
    "for i in range(0, len(new_name_of_variables)):\n",
    "\n",
    "    print(new_name_of_variables[i])\n",
    "\n",
    "    locals()[f'max_{new_name_of_variables[i]}'] = pd.DataFrame()\n",
    "    locals()[f'min_{new_name_of_variables[i]}'] = pd.DataFrame()\n",
    "    locals()[f'mean_{new_name_of_variables[i]}'] = pd.DataFrame()\n",
    "    locals()[f'sigma_{new_name_of_variables[i]}'] = pd.DataFrame()\n",
    "\n",
    "    for j in range (1,96+1):\n",
    "        if 'geopotential' in new_name_of_variables[i]:\n",
    "            for k in [500, 1000]:\n",
    "                df_max_temp = pd.read_csv('/Users/fabienaugsburger/Documents/GitHub/master-project/datasets_3h/geopotential/storm_' + str(j) + '/max_'+ str(j) + '_' + str(k) + '.csv')\n",
    "                df_min_temp = pd.read_csv('/Users/fabienaugsburger/Documents/GitHub/master-project/datasets_3h/geopotential/storm_' + str(j) + '/min_'+ str(j) + '_' + str(k) + '.csv')\n",
    "                df_mean_temp = pd.read_csv('/Users/fabienaugsburger/Documents/GitHub/master-project/datasets_3h/geopotential/storm_' + str(j) + '/mean_'+ str(j) + '_' + str(k) + '.csv')\n",
    "                df_sigma_temp = pd.read_csv('/Users/fabienaugsburger/Documents/GitHub/master-project/datasets_3h/geopotential/storm_' + str(j) + '/std_'+ str(j) + '_' + str(k) + '.csv')\n",
    "\n",
    "        else:\n",
    "            df_max_temp = pd.read_csv('/Users/fabienaugsburger/Documents/GitHub/master-project/datasets_3h/' + new_name_of_variables[i] + '/storm_' + str(j) + '/max_'+ str(j) + '_0.csv')\n",
    "            df_min_temp = pd.read_csv('/Users/fabienaugsburger/Documents/GitHub/master-project/datasets_3h/' + new_name_of_variables[i] + '/storm_' + str(j) + '/min_'+ str(j) + '_0.csv')\n",
    "            df_mean_temp = pd.read_csv('/Users/fabienaugsburger/Documents/GitHub/master-project/datasets_3h/' + new_name_of_variables[i] + '/storm_' + str(j) + '/mean_'+ str(j) + '_0.csv')\n",
    "            df_sigma_temp = pd.read_csv('/Users/fabienaugsburger/Documents/GitHub/master-project/datasets_3h/' + new_name_of_variables[i] + '/storm_' + str(j) + '/std_'+ str(j) + '_0.csv')\n",
    "\n",
    "        df_max_temp = df_max_temp.drop(columns = ['Unnamed: 0'])\n",
    "        df_min_temp = df_min_temp.drop(columns = ['Unnamed: 0'])\n",
    "        df_mean_temp = df_mean_temp.drop(columns = ['Unnamed: 0'])\n",
    "        df_sigma_temp = df_sigma_temp.drop(columns = ['Unnamed: 0'])\n",
    "\n",
    "        locals()[f'max_{new_name_of_variables[i]}'] = pd.concat([locals()[f'max_{new_name_of_variables[i]}'], df_max_temp], axis=0)\n",
    "        locals()[f'min_{new_name_of_variables[i]}'] = pd.concat([locals()[f'min_{new_name_of_variables[i]}'], df_min_temp], axis=0)\n",
    "        locals()[f'mean_{new_name_of_variables[i]}'] = pd.concat([locals()[f'mean_{new_name_of_variables[i]}'], df_mean_temp], axis=0)\n",
    "        locals()[f'sigma_{new_name_of_variables[i]}'] = pd.concat([locals()[f'sigma_{new_name_of_variables[i]}'], df_sigma_temp], axis=0)'''"
   ]
  },
  {
   "cell_type": "code",
   "execution_count": 4,
   "metadata": {},
   "outputs": [
    {
     "name": "stdout",
     "output_type": "stream",
     "text": [
      "10m_u_component_of_wind\n",
      "10m_v_component_of_wind\n",
      "2m_dewpoint_temperature\n",
      "2m_temperature\n",
      "cloud_base_height\n",
      "convective_available_potential_energy\n",
      "convective_inhibition\n",
      "convective_precipitation\n",
      "convective_rain_rate\n",
      "convective_snowfall\n",
      "geopotential_500\n",
      "geopotential_1000\n",
      "high_cloud_cover\n",
      "instantaneous_10m_wind_gust\n",
      "k_index\n",
      "large_scale_precipitation\n",
      "large_scale_snowfall\n",
      "mean_large_scale_precipitation_rate\n",
      "mean_top_net_long_wave_radiation_flux\n",
      "mean_top_net_short_wave_radiation_flux\n",
      "mean_total_precipitation_rate\n",
      "mean_sea_level_pressure\n",
      "mean_surface_latent_heat_flux\n",
      "mean_surface_net_long_wave_radiation_flux\n",
      "mean_surface_net_short_wave_radiation_flux\n",
      "mean_vertically_integrated_moisture_divergence\n",
      "surface_pressure\n",
      "total_precipitation\n",
      "total_totals_index\n"
     ]
    }
   ],
   "source": [
    "# to separate each storm into one column : \n",
    "\n",
    "# open each csv file and read it into a pandas dataframe\n",
    "name_of_variables = pd.read_csv('/Users/fabienaugsburger/Documents/GitHub/master-project/variable_list_24_v2_1.csv')\n",
    "name_of_variables = name_of_variables['variable'].tolist()\n",
    "\n",
    "# Create a new list of variables\n",
    "new_name_of_variables = []\n",
    "for variable in name_of_variables:\n",
    "    if variable == 'geopotential':\n",
    "        new_name_of_variables.extend(['geopotential_500', 'geopotential_1000'])\n",
    "    else:\n",
    "        new_name_of_variables.append(variable)\n",
    "\n",
    "# Iterate over the new list of variables\n",
    "for i in range(0, len(new_name_of_variables)):\n",
    "\n",
    "    print(new_name_of_variables[i])\n",
    "\n",
    "    locals()[f'max_{new_name_of_variables[i]}'] = pd.DataFrame()\n",
    "    locals()[f'min_{new_name_of_variables[i]}'] = pd.DataFrame()\n",
    "    locals()[f'mean_{new_name_of_variables[i]}'] = pd.DataFrame()\n",
    "    locals()[f'sigma_{new_name_of_variables[i]}'] = pd.DataFrame()\n",
    "\n",
    "    for j in range (1,96+1):\n",
    "        if 'geopotential' in new_name_of_variables[i]:\n",
    "            continue\n",
    "            for k in [500, 1000]:\n",
    "                df_max_temp = pd.read_csv('/Users/fabienaugsburger/Documents/GitHub/master-project/datasets_3h/geopotential/storm_' + str(j) + '/max_'+ str(j) + '_' + str(k) + '.csv')\n",
    "                df_min_temp = pd.read_csv('/Users/fabienaugsburger/Documents/GitHub/master-project/datasets_3h/geopotential/storm_' + str(j) + '/min_'+ str(j) + '_' + str(k) + '.csv')\n",
    "                df_mean_temp = pd.read_csv('/Users/fabienaugsburger/Documents/GitHub/master-project/datasets_3h/geopotential/storm_' + str(j) + '/mean_'+ str(j) + '_' + str(k) + '.csv')\n",
    "                df_sigma_temp = pd.read_csv('/Users/fabienaugsburger/Documents/GitHub/master-project/datasets_3h/geopotential/storm_' + str(j) + '/std_'+ str(j) + '_' + str(k) + '.csv')\n",
    "\n",
    "        else:\n",
    "            df_max_temp = pd.read_csv('/Users/fabienaugsburger/Documents/GitHub/master-project/datasets_3h/' + new_name_of_variables[i] + '/storm_' + str(j) + '/max_'+ str(j) + '_0.csv')\n",
    "            df_min_temp = pd.read_csv('/Users/fabienaugsburger/Documents/GitHub/master-project/datasets_3h/' + new_name_of_variables[i] + '/storm_' + str(j) + '/min_'+ str(j) + '_0.csv')\n",
    "            df_mean_temp = pd.read_csv('/Users/fabienaugsburger/Documents/GitHub/master-project/datasets_3h/' + new_name_of_variables[i] + '/storm_' + str(j) + '/mean_'+ str(j) + '_0.csv')\n",
    "            df_sigma_temp = pd.read_csv('/Users/fabienaugsburger/Documents/GitHub/master-project/datasets_3h/' + new_name_of_variables[i] + '/storm_' + str(j) + '/std_'+ str(j) + '_0.csv')\n",
    "\n",
    "        df_max_temp = df_max_temp.drop(columns = ['Unnamed: 0'])\n",
    "        df_min_temp = df_min_temp.drop(columns = ['Unnamed: 0'])\n",
    "        df_mean_temp = df_mean_temp.drop(columns = ['Unnamed: 0'])\n",
    "        df_sigma_temp = df_sigma_temp.drop(columns = ['Unnamed: 0'])\n",
    "\n",
    "        locals()[f'max_{new_name_of_variables[i]}'][f'storm_{j}'] = df_max_temp['0']\n",
    "        locals()[f'min_{new_name_of_variables[i]}'][f'storm_{j}'] = df_min_temp['0']# = pd.concat([locals()[f'min_{new_name_of_variables[i]}'], df_min_temp], axis=0)\n",
    "        locals()[f'mean_{new_name_of_variables[i]}'][f'storm_{j}'] = df_mean_temp['0'] #= pd.concat([locals()[f'mean_{new_name_of_variables[i]}'], df_mean_temp], axis=0)\n",
    "        locals()[f'sigma_{new_name_of_variables[i]}'][f'storm_{j}'] = df_sigma_temp['0'] #= pd.concat([locals()[f'sigma_{new_name_of_variables[i]}'], df_sigma_temp], axis=0)\n",
    "\n",
    "for k in [500, 1000]:\n",
    "    locals()[f'max_geopotential_{k}'] = pd.DataFrame()\n",
    "    locals()[f'min_geopotential_{k}'] = pd.DataFrame()\n",
    "    locals()[f'mean_geopotential_{k}'] = pd.DataFrame()\n",
    "    locals()[f'sigma_geopotential_{k}'] = pd.DataFrame()\n",
    "    for j in range (1,96+1):\n",
    "        df_max_temp = pd.read_csv('/Users/fabienaugsburger/Documents/GitHub/master-project/datasets_3h/geopotential/storm_' + str(j) + '/max_'+ str(j) + '_' + str(k) + '.csv')\n",
    "        df_min_temp = pd.read_csv('/Users/fabienaugsburger/Documents/GitHub/master-project/datasets_3h/geopotential/storm_' + str(j) + '/min_'+ str(j) + '_' + str(k) + '.csv')\n",
    "        df_mean_temp = pd.read_csv('/Users/fabienaugsburger/Documents/GitHub/master-project/datasets_3h/geopotential/storm_' + str(j) + '/mean_'+ str(j) + '_' + str(k) + '.csv')\n",
    "        df_sigma_temp = pd.read_csv('/Users/fabienaugsburger/Documents/GitHub/master-project/datasets_3h/geopotential/storm_' + str(j) + '/std_'+ str(j) + '_' + str(k) + '.csv')\n",
    "\n",
    "        df_max_temp = df_max_temp.drop(columns = ['Unnamed: 0'])\n",
    "        df_min_temp = df_min_temp.drop(columns = ['Unnamed: 0'])\n",
    "        df_mean_temp = df_mean_temp.drop(columns = ['Unnamed: 0'])\n",
    "        df_sigma_temp = df_sigma_temp.drop(columns = ['Unnamed: 0'])\n",
    "\n",
    "        locals()[f'max_geopotential_{k}'][f'storm_{j}'] = df_max_temp['0']\n",
    "        locals()[f'min_geopotential_{k}'][f'storm_{j}'] = df_min_temp['0']# = pd.concat([locals()[f'min_{new_name_of_variables[i]}'], df_min_temp], axis=0)\n",
    "        locals()[f'mean_geopotential_{k}'][f'storm_{j}'] = df_mean_temp['0'] #= pd.concat([locals()[f'mean_{new_name_of_variables[i]}'], df_mean_temp], axis=0)\n",
    "        locals()[f'sigma_geopotential_{k}'][f'storm_{j}'] = df_sigma_temp['0']\n"
   ]
  },
  {
   "cell_type": "code",
   "execution_count": 5,
   "metadata": {},
   "outputs": [
    {
     "data": {
      "text/plain": [
       "\"def process_storm_data(variable_list_path, data_folder_path):\\n    # Read the list of variables\\n    name_of_variables = pd.read_csv(variable_list_path)\\n    name_of_variables = name_of_variables['variable'].tolist()\\n\\n    # Create a new list of variables\\n    new_name_of_variables = []\\n    for variable in name_of_variables:\\n        if variable == 'geopotential':\\n            new_name_of_variables.extend(['geopotential_500', 'geopotential_1000'])\\n        else:\\n            new_name_of_variables.append(variable)\\n\\n    # Create dictionaries to hold the DataFrames\\n    max_dfs = {}\\n    min_dfs = {}\\n    mean_dfs = {}\\n    sigma_dfs = {}\\n\\n    # Iterate over the new list of variables\\n    for var in new_name_of_variables:\\n        max_dfs[var] = pd.DataFrame()\\n        min_dfs[var] = pd.DataFrame()\\n        mean_dfs[var] = pd.DataFrame()\\n        sigma_dfs[var] = pd.DataFrame()\\n\\n        for storm_num in range(1, 97):\\n            if 'geopotential' in var:\\n                continue  # Skipped to be handled later\\n            else:\\n                file_suffix = '0'\\n                paths = {\\n                    'max': f'{data_folder_path}/{var}/storm_{storm_num}/max_{storm_num}_{file_suffix}.csv',\\n                    'min': f'{data_folder_path}/{var}/storm_{storm_num}/min_{storm_num}_{file_suffix}.csv',\\n                    'mean': f'{data_folder_path}/{var}/storm_{storm_num}/mean_{storm_num}_{file_suffix}.csv',\\n                    'sigma': f'{data_folder_path}/{var}/storm_{storm_num}/std_{storm_num}_{file_suffix}.csv'\\n                }\\n\\n                df_max_temp = pd.read_csv(paths['max']).drop(columns=['Unnamed: 0'])\\n                df_min_temp = pd.read_csv(paths['min']).drop(columns=['Unnamed: 0'])\\n                df_mean_temp = pd.read_csv(paths['mean']).drop(columns=['Unnamed: 0'])\\n                df_sigma_temp = pd.read_csv(paths['sigma']).drop(columns=['Unnamed: 0'])\\n\\n                max_dfs[var][f'storm_{storm_num}'] = df_max_temp['0']\\n                min_dfs[var][f'storm_{storm_num}'] = df_min_temp['0']\\n                mean_dfs[var][f'storm_{storm_num}'] = df_mean_temp['0']\\n                sigma_dfs[var][f'storm_{storm_num}'] = df_sigma_temp['0']\\n\\n    for level in [500, 1000]:\\n        var = f'geopotential_{level}'\\n        max_dfs[var] = pd.DataFrame()\\n        min_dfs[var] = pd.DataFrame()\\n        mean_dfs[var] = pd.DataFrame()\\n        sigma_dfs[var] = pd.DataFrame()\\n\\n        for storm_num in range(1, 97):\\n            paths = {\\n                'max': f'{data_folder_path}/geopotential/storm_{storm_num}/max_{storm_num}_{level}.csv',\\n                'min': f'{data_folder_path}/geopotential/storm_{storm_num}/min_{storm_num}_{level}.csv',\\n                'mean': f'{data_folder_path}/geopotential/storm_{storm_num}/mean_{storm_num}_{level}.csv',\\n                'sigma': f'{data_folder_path}/geopotential/storm_{storm_num}/std_{storm_num}_{level}.csv'\\n            }\\n\\n            df_max_temp = pd.read_csv(paths['max']).drop(columns=['Unnamed: 0'])\\n            df_min_temp = pd.read_csv(paths['min']).drop(columns=['Unnamed: 0'])\\n            df_mean_temp = pd.read_csv(paths['mean']).drop(columns=['Unnamed: 0'])\\n            df_sigma_temp = pd.read_csv(paths['sigma']).drop(columns=['Unnamed: 0'])\\n\\n            max_dfs[var][f'storm_{storm_num}'] = df_max_temp['0']\\n            min_dfs[var][f'storm_{storm_num}'] = df_min_temp['0']\\n            mean_dfs[var][f'storm_{storm_num}'] = df_mean_temp['0']\\n            sigma_dfs[var][f'storm_{storm_num}'] = df_sigma_temp['0']\\n\\n    return max_dfs, min_dfs, mean_dfs, sigma_dfs\\n\\n# Example usage:\\nvariable_list_path = '/Users/fabienaugsburger/Documents/GitHub/master-project/variable_list_24_v2_1.csv'\\ndata_folder_path = '/Users/fabienaugsburger/Documents/GitHub/master-project/datasets_3h'\\nmax_dfs, min_dfs, mean_dfs, sigma_dfs = process_storm_data(variable_list_path, data_folder_path)\\n\\nname_of_variables = pd.read_csv('/Users/fabienaugsburger/Documents/GitHub/master-project/variable_list_24_v2_1.csv')\\nname_of_variables = name_of_variables['variable'].tolist()\\n\\nnew_name_of_variables = []\\nfor variable in name_of_variables:\\n        if variable == 'geopotential':\\n            new_name_of_variables.extend(['geopotential_500', 'geopotential_1000'])\\n        else:\\n            new_name_of_variables.append(variable)\""
      ]
     },
     "execution_count": 5,
     "metadata": {},
     "output_type": "execute_result"
    }
   ],
   "source": [
    "'''def process_storm_data(variable_list_path, data_folder_path):\n",
    "    # Read the list of variables\n",
    "    name_of_variables = pd.read_csv(variable_list_path)\n",
    "    name_of_variables = name_of_variables['variable'].tolist()\n",
    "\n",
    "    # Create a new list of variables\n",
    "    new_name_of_variables = []\n",
    "    for variable in name_of_variables:\n",
    "        if variable == 'geopotential':\n",
    "            new_name_of_variables.extend(['geopotential_500', 'geopotential_1000'])\n",
    "        else:\n",
    "            new_name_of_variables.append(variable)\n",
    "\n",
    "    # Create dictionaries to hold the DataFrames\n",
    "    max_dfs = {}\n",
    "    min_dfs = {}\n",
    "    mean_dfs = {}\n",
    "    sigma_dfs = {}\n",
    "\n",
    "    # Iterate over the new list of variables\n",
    "    for var in new_name_of_variables:\n",
    "        max_dfs[var] = pd.DataFrame()\n",
    "        min_dfs[var] = pd.DataFrame()\n",
    "        mean_dfs[var] = pd.DataFrame()\n",
    "        sigma_dfs[var] = pd.DataFrame()\n",
    "\n",
    "        for storm_num in range(1, 97):\n",
    "            if 'geopotential' in var:\n",
    "                continue  # Skipped to be handled later\n",
    "            else:\n",
    "                file_suffix = '0'\n",
    "                paths = {\n",
    "                    'max': f'{data_folder_path}/{var}/storm_{storm_num}/max_{storm_num}_{file_suffix}.csv',\n",
    "                    'min': f'{data_folder_path}/{var}/storm_{storm_num}/min_{storm_num}_{file_suffix}.csv',\n",
    "                    'mean': f'{data_folder_path}/{var}/storm_{storm_num}/mean_{storm_num}_{file_suffix}.csv',\n",
    "                    'sigma': f'{data_folder_path}/{var}/storm_{storm_num}/std_{storm_num}_{file_suffix}.csv'\n",
    "                }\n",
    "\n",
    "                df_max_temp = pd.read_csv(paths['max']).drop(columns=['Unnamed: 0'])\n",
    "                df_min_temp = pd.read_csv(paths['min']).drop(columns=['Unnamed: 0'])\n",
    "                df_mean_temp = pd.read_csv(paths['mean']).drop(columns=['Unnamed: 0'])\n",
    "                df_sigma_temp = pd.read_csv(paths['sigma']).drop(columns=['Unnamed: 0'])\n",
    "\n",
    "                max_dfs[var][f'storm_{storm_num}'] = df_max_temp['0']\n",
    "                min_dfs[var][f'storm_{storm_num}'] = df_min_temp['0']\n",
    "                mean_dfs[var][f'storm_{storm_num}'] = df_mean_temp['0']\n",
    "                sigma_dfs[var][f'storm_{storm_num}'] = df_sigma_temp['0']\n",
    "\n",
    "    for level in [500, 1000]:\n",
    "        var = f'geopotential_{level}'\n",
    "        max_dfs[var] = pd.DataFrame()\n",
    "        min_dfs[var] = pd.DataFrame()\n",
    "        mean_dfs[var] = pd.DataFrame()\n",
    "        sigma_dfs[var] = pd.DataFrame()\n",
    "\n",
    "        for storm_num in range(1, 97):\n",
    "            paths = {\n",
    "                'max': f'{data_folder_path}/geopotential/storm_{storm_num}/max_{storm_num}_{level}.csv',\n",
    "                'min': f'{data_folder_path}/geopotential/storm_{storm_num}/min_{storm_num}_{level}.csv',\n",
    "                'mean': f'{data_folder_path}/geopotential/storm_{storm_num}/mean_{storm_num}_{level}.csv',\n",
    "                'sigma': f'{data_folder_path}/geopotential/storm_{storm_num}/std_{storm_num}_{level}.csv'\n",
    "            }\n",
    "\n",
    "            df_max_temp = pd.read_csv(paths['max']).drop(columns=['Unnamed: 0'])\n",
    "            df_min_temp = pd.read_csv(paths['min']).drop(columns=['Unnamed: 0'])\n",
    "            df_mean_temp = pd.read_csv(paths['mean']).drop(columns=['Unnamed: 0'])\n",
    "            df_sigma_temp = pd.read_csv(paths['sigma']).drop(columns=['Unnamed: 0'])\n",
    "\n",
    "            max_dfs[var][f'storm_{storm_num}'] = df_max_temp['0']\n",
    "            min_dfs[var][f'storm_{storm_num}'] = df_min_temp['0']\n",
    "            mean_dfs[var][f'storm_{storm_num}'] = df_mean_temp['0']\n",
    "            sigma_dfs[var][f'storm_{storm_num}'] = df_sigma_temp['0']\n",
    "\n",
    "    return max_dfs, min_dfs, mean_dfs, sigma_dfs\n",
    "\n",
    "# Example usage:\n",
    "variable_list_path = '/Users/fabienaugsburger/Documents/GitHub/master-project/variable_list_24_v2_1.csv'\n",
    "data_folder_path = '/Users/fabienaugsburger/Documents/GitHub/master-project/datasets_3h'\n",
    "max_dfs, min_dfs, mean_dfs, sigma_dfs = process_storm_data(variable_list_path, data_folder_path)\n",
    "\n",
    "name_of_variables = pd.read_csv('/Users/fabienaugsburger/Documents/GitHub/master-project/variable_list_24_v2_1.csv')\n",
    "name_of_variables = name_of_variables['variable'].tolist()\n",
    "\n",
    "new_name_of_variables = []\n",
    "for variable in name_of_variables:\n",
    "        if variable == 'geopotential':\n",
    "            new_name_of_variables.extend(['geopotential_500', 'geopotential_1000'])\n",
    "        else:\n",
    "            new_name_of_variables.append(variable)'''"
   ]
  },
  {
   "cell_type": "code",
   "execution_count": 6,
   "metadata": {},
   "outputs": [
    {
     "data": {
      "text/plain": [
       "\"\\n# remove variable with only one repetitive value in each statistic\\nfor i in range (0, len(name_of_variables)):\\n    var_name = name_of_variables[i]\\n    for stat in ['max', 'min', 'mean', 'sigma']:\\n        df = locals()[f'{stat}_{var_name}']\\n        cols_to_drop = [col for col in df.columns if df[col].nunique() <= 1]\\n        locals()[f'{stat}_{var_name}'] = df.drop(columns=cols_to_drop)\\n\\n# drop nan values and remove empty dataframes\\nkept_variables = []\\nfor i in range (0, len(name_of_variables)):\\n    var_name = name_of_variables[i]\\n    for stat in ['max', 'min', 'mean', 'sigma']:\\n        df = locals()[f'{stat}_{var_name}']\\n        df = df.dropna()\\n        if not df.empty:\\n            locals()[f'{stat}_{var_name}'] = df\\n            if var_name not in kept_variables:\\n                kept_variables.append(var_name)\\n        else:\\n            del locals()[f'{stat}_{var_name}']\\n\\ndel max_high_cloud_cover\\ndel min_high_cloud_cover\\n\\n# update name_of_variables to only include kept variables\\nname_of_variables = pd.Series(kept_variables)\""
      ]
     },
     "execution_count": 6,
     "metadata": {},
     "output_type": "execute_result"
    }
   ],
   "source": [
    "\n",
    "'''\n",
    "# remove variable with only one repetitive value in each statistic\n",
    "for i in range (0, len(name_of_variables)):\n",
    "    var_name = name_of_variables[i]\n",
    "    for stat in ['max', 'min', 'mean', 'sigma']:\n",
    "        df = locals()[f'{stat}_{var_name}']\n",
    "        cols_to_drop = [col for col in df.columns if df[col].nunique() <= 1]\n",
    "        locals()[f'{stat}_{var_name}'] = df.drop(columns=cols_to_drop)\n",
    "\n",
    "# drop nan values and remove empty dataframes\n",
    "kept_variables = []\n",
    "for i in range (0, len(name_of_variables)):\n",
    "    var_name = name_of_variables[i]\n",
    "    for stat in ['max', 'min', 'mean', 'sigma']:\n",
    "        df = locals()[f'{stat}_{var_name}']\n",
    "        df = df.dropna()\n",
    "        if not df.empty:\n",
    "            locals()[f'{stat}_{var_name}'] = df\n",
    "            if var_name not in kept_variables:\n",
    "                kept_variables.append(var_name)\n",
    "        else:\n",
    "            del locals()[f'{stat}_{var_name}']\n",
    "\n",
    "del max_high_cloud_cover\n",
    "del min_high_cloud_cover\n",
    "\n",
    "# update name_of_variables to only include kept variables\n",
    "name_of_variables = pd.Series(kept_variables)'''"
   ]
  },
  {
   "cell_type": "code",
   "execution_count": 7,
   "metadata": {},
   "outputs": [
    {
     "data": {
      "text/plain": [
       "'x_variable = mean_total_precipitation\\n\\n# split the data into a training and a test set\\nX_train, X_test, y_train, y_test = train_test_split(x_variable, target_variable, test_size=0.2, random_state=42)'"
      ]
     },
     "execution_count": 7,
     "metadata": {},
     "output_type": "execute_result"
    }
   ],
   "source": [
    "# the target variable is the mean of instanteneous_10m_wind_gust\n",
    "#variable_w_high_corr= ['mean_large_scale_precipitation','mean_total_precipitation','mean_mean_large_scale_precipitation_rate','mean_large_scale_snowfall']\n",
    "#mean_large_scale_precipitation\n",
    "\n",
    "# mean_low_tropospheric_vertical_velocity??\n",
    "# create a dataframe with the target variable\n",
    "\n",
    "#target_variable = mean_instantaneous_10m_wind_gust\n",
    "'''x_variable = mean_total_precipitation\n",
    "\n",
    "# split the data into a training and a test set\n",
    "X_train, X_test, y_train, y_test = train_test_split(x_variable, target_variable, test_size=0.2, random_state=42)'''"
   ]
  },
  {
   "cell_type": "code",
   "execution_count": 8,
   "metadata": {},
   "outputs": [
    {
     "name": "stdout",
     "output_type": "stream",
     "text": [
      "29\n",
      "10\n"
     ]
    },
    {
     "data": {
      "text/plain": [
       "\"df = mean_large_scale_precipitation\\ndf = df.rename(columns={'0':'mean_large_scale_precipitation'})\\n#df['mean_large_scale_precipitation'] = mean_large_scale_precipitation\\ndf['mean_total_precipitation'] = mean_total_precipitation\\ndf['mean_mean_large_scale_precipitation_rate'] = mean_mean_large_scale_precipitation_rate\\ndf['mean_large_scale_snowfall'] = mean_large_scale_snowfall\\n\""
      ]
     },
     "execution_count": 8,
     "metadata": {},
     "output_type": "execute_result"
    }
   ],
   "source": [
    "# store the mean_large_scale_precipitation in a df, set the name as the header of the column and so the same with mean_total_precipitation\n",
    "import random\n",
    "\n",
    "def setup_seed(seed):\n",
    "    random.seed(seed)\n",
    "    np.random.seed(seed)                       \n",
    "setup_seed(42)\n",
    "\n",
    "number_test_storms = round(96*0.3)\n",
    "test_storm_index = random.sample(range(96), number_test_storms)\n",
    "number_validation_storms = round(number_test_storms*1/3)\n",
    "validation_storm_index = random.sample(test_storm_index, number_validation_storms)\n",
    "\n",
    "# order the index of the test_storm_index and validation_storm_index\n",
    "test_storm_index.sort()\n",
    "validation_storm_index.sort()\n",
    "\n",
    "# remove the index of the validation storms from the test_storm_index\n",
    "'''for i in range(0, len(validation_storm_index)):\n",
    "    test_storm_index.remove(validation_storm_index[i])'''\n",
    "\n",
    "# check the number of storms in each set\n",
    "print(len(test_storm_index))\n",
    "print(len(validation_storm_index))\n",
    "\n",
    "# create the training, validation and test set\n",
    "X_train = pd.DataFrame()\n",
    "X_validation = pd.DataFrame()\n",
    "X_test = pd.DataFrame()\n",
    "y_train = pd.DataFrame()\n",
    "y_validation = pd.DataFrame()\n",
    "y_test = pd.DataFrame()\n",
    "\n",
    "if 'instantaneous_10m_wind_gust' in new_name_of_variables:\n",
    "    new_name_of_variables.remove('instantaneous_10m_wind_gust')\n",
    "\n",
    "for x_var in new_name_of_variables: \n",
    "    for storm_number in locals()[f'mean_{x_var}'].columns:\n",
    "        modified_storm_number = f\"{x_var}_{storm_number}\"\n",
    "        if int(storm_number.split('_')[1]) in test_storm_index:\n",
    "            if int(storm_number.split('_')[1]) in validation_storm_index:\n",
    "                X_validation = pd.concat([X_validation, locals()[f'mean_{x_var}'][storm_number]], axis=1) # [storm_number]\n",
    "                X_validation = X_validation.rename(columns={storm_number: modified_storm_number})\n",
    "                #y_validation = pd.concat([y_validation, mean_instantaneous_10m_wind_gust[storm_number]], axis=1)\n",
    "            else:\n",
    "                X_test = pd.concat([X_test, locals()[f'mean_{x_var}'][storm_number]], axis=1)\n",
    "                X_test = X_test.rename(columns={storm_number: modified_storm_number})\n",
    "                #y_test = pd.concat([y_test, locals()[f'mean_instantaneous_10m_wind_gust'][storm_number]], axis=1)\n",
    "        else:\n",
    "            X_train = pd.concat([X_train, locals()[f'mean_{x_var}'][storm_number]], axis=1)\n",
    "            X_train = X_train.rename(columns={storm_number: modified_storm_number})\n",
    "            #y_train = pd.concat([y_train, locals()[f'mean_instantaneous_10m_wind_gust'][storm_number]], axis=1)\n",
    "\n",
    "for storm_number in mean_instantaneous_10m_wind_gust.columns:\n",
    "    modified_storm_number = f\"mean_instantaneous_10m_wind_gust_{storm_number}\"\n",
    "    if int(storm_number.split('_')[1]) in test_storm_index:\n",
    "        if int(storm_number.split('_')[1]) in validation_storm_index:\n",
    "            y_validation = pd.concat([y_validation, mean_instantaneous_10m_wind_gust[storm_number]], axis=1)\n",
    "            y_validation = y_validation.rename(columns={storm_number: modified_storm_number})\n",
    "        else:\n",
    "            y_test = pd.concat([y_test, mean_instantaneous_10m_wind_gust[storm_number]], axis=1)\n",
    "            y_test = y_test.rename(columns={storm_number: modified_storm_number})\n",
    "    else:\n",
    "        y_train = pd.concat([y_train, mean_instantaneous_10m_wind_gust[storm_number]], axis=1)\n",
    "        y_train = y_train.rename(columns={storm_number: modified_storm_number})\n",
    "\n",
    "\n",
    "'''df = mean_large_scale_precipitation\n",
    "df = df.rename(columns={'0':'mean_large_scale_precipitation'})\n",
    "#df['mean_large_scale_precipitation'] = mean_large_scale_precipitation\n",
    "df['mean_total_precipitation'] = mean_total_precipitation\n",
    "df['mean_mean_large_scale_precipitation_rate'] = mean_mean_large_scale_precipitation_rate\n",
    "df['mean_large_scale_snowfall'] = mean_large_scale_snowfall\n",
    "'''"
   ]
  },
  {
   "cell_type": "code",
   "execution_count": 9,
   "metadata": {},
   "outputs": [
    {
     "data": {
      "text/plain": [
       "'combined_df = combine_columns(df)\\nprint(combined_df)'"
      ]
     },
     "execution_count": 9,
     "metadata": {},
     "output_type": "execute_result"
    }
   ],
   "source": [
    "def combine_columns(df):\n",
    "    # Extract variable names from column names\n",
    "    columns_info = [col.rsplit('_', 2) for col in df.columns]\n",
    "    \n",
    "    # Create a dictionary to hold grouped columns\n",
    "    grouped_columns = {}\n",
    "    for var, unit, storm in columns_info:\n",
    "        variable_name = f\"{var}\"#_{unit}\"\n",
    "        if variable_name not in grouped_columns:\n",
    "            grouped_columns[variable_name] = []\n",
    "        grouped_columns[variable_name].append(f\"{var}_{unit}_{storm}\")\n",
    "    \n",
    "    # Create a new dataframe to hold the combined columns\n",
    "    combined_df = pd.DataFrame()\n",
    "    \n",
    "    for variable, cols in grouped_columns.items():\n",
    "        # Combine the columns for each variable\n",
    "        combined_variable_df = pd.concat([df[col] for col in cols], ignore_index=True) #.dropna()\n",
    "        combined_df[variable] = combined_variable_df\n",
    "        #combined_df = combined_df.dropna(axis=0, how='any')\n",
    "    \n",
    "    return combined_df\n",
    "\n",
    "# Example usage\n",
    "'''data = {\n",
    "    '2m_dewpoint_temperature_storm_1': [1, 2, None, 4],\n",
    "    '2m_dewpoint_temperature_storm_2': [None, 5, 6, None],\n",
    "    '2m_dewpoint_temperature_storm_3': [7, None, 9, 10],\n",
    "    'other_variable_storm_1': [10, 20, 30, 40],\n",
    "    'other_variable_storm_2': [None, 25, 35, None],\n",
    "}\n",
    "\n",
    "df = pd.DataFrame(data)'''\n",
    "'''combined_df = combine_columns(df)\n",
    "print(combined_df)'''"
   ]
  },
  {
   "cell_type": "code",
   "execution_count": 10,
   "metadata": {},
   "outputs": [],
   "source": [
    "#target_variable = mean_instantaneous_10m_wind_gust\n",
    "\n",
    "\n",
    "'''X_train_reshape = X_train.values.reshape((X_train.shape[0], X_train.shape[1]))\n",
    "X_test_reshape = X_test.values.reshape((X_test.shape[0], X_test.shape[1]))\n",
    "y_train_reshape = y_train.values.reshape((y_train.shape[0], y_train.shape[1]))\n",
    "y_test_reshape = y_test.values.reshape((y_test.shape[0], y_test.shape[1]))'''\n",
    "\n",
    "# reshape all X and y such as the shape is (all the storms, all the variables)\n",
    "# Merge the columns\n",
    "\n",
    "X_train_new= combine_columns(X_train)\n",
    "X_test_new= combine_columns(X_test)\n",
    "X_validation_new= combine_columns(X_validation)\n",
    "\n",
    "y_train_new= combine_columns(y_train)\n",
    "y_test_new= combine_columns(y_test)\n",
    "y_validation_new= combine_columns(y_validation)\n",
    "\n",
    "# drop the convective inhibition and cloud_base_height\n",
    "X_train_new = X_train_new.drop(columns = ['convective_inhibition','cloud_base_height'])\n",
    "X_test_new = X_test_new.drop(columns = ['convective_inhibition','cloud_base_height'])\n",
    "X_validation_new = X_validation_new.drop(columns = ['convective_inhibition','cloud_base_height'])"
   ]
  },
  {
   "cell_type": "code",
   "execution_count": 11,
   "metadata": {},
   "outputs": [
    {
     "data": {
      "text/plain": [
       "\"X_train_new['target'] = y_train_new\\nX_train_new = X_train_new.dropna()\\ny_train_new = X_train_new['target']\\nX_train_new = X_train_new.drop(columns = ['target'])\\n\\nX_test_new['target'] = y_test_new\\nX_test_new = X_test_new.dropna()\\ny_test_new = X_test_new['target']\\nX_test_new = X_test_new.drop(columns = ['target'])\\n\\nX_validation_new['target'] = y_validation_new\\nX_validation_new = X_validation_new.dropna()\\ny_validation_new = X_validation_new['target']\\nX_validation_new = X_validation_new.drop(columns = ['target'])\\n\\n# check the shape of the new X and y\\nprint(X_train_new.shape, y_train_new.shape)\\nprint(X_test_new.shape, y_test_new.shape)\\nprint(X_validation_new.shape, y_validation_new.shape)\""
      ]
     },
     "execution_count": 11,
     "metadata": {},
     "output_type": "execute_result"
    }
   ],
   "source": [
    "# drop nan values by merging the X and y\n",
    "\n",
    "def drop_nan(X, y):\n",
    "    X['target'] = y\n",
    "    X = X.dropna()\n",
    "    y = X['target']\n",
    "    X = X.drop(columns = ['target'])\n",
    "    return X, y\n",
    "\n",
    "X_train_new, y_train_new = drop_nan(X_train_new, y_train_new)\n",
    "X_test_new, y_test_new = drop_nan(X_test_new, y_test_new)\n",
    "X_validation_new, y_validation_new = drop_nan(X_validation_new, y_validation_new)\n",
    "\n",
    "'''X_train_new['target'] = y_train_new\n",
    "X_train_new = X_train_new.dropna()\n",
    "y_train_new = X_train_new['target']\n",
    "X_train_new = X_train_new.drop(columns = ['target'])\n",
    "\n",
    "X_test_new['target'] = y_test_new\n",
    "X_test_new = X_test_new.dropna()\n",
    "y_test_new = X_test_new['target']\n",
    "X_test_new = X_test_new.drop(columns = ['target'])\n",
    "\n",
    "X_validation_new['target'] = y_validation_new\n",
    "X_validation_new = X_validation_new.dropna()\n",
    "y_validation_new = X_validation_new['target']\n",
    "X_validation_new = X_validation_new.drop(columns = ['target'])\n",
    "\n",
    "# check the shape of the new X and y\n",
    "print(X_train_new.shape, y_train_new.shape)\n",
    "print(X_test_new.shape, y_test_new.shape)\n",
    "print(X_validation_new.shape, y_validation_new.shape)'''"
   ]
  },
  {
   "cell_type": "code",
   "execution_count": 12,
   "metadata": {},
   "outputs": [
    {
     "name": "stdout",
     "output_type": "stream",
     "text": [
      "./LSTM_basic_logs/run_005\n"
     ]
    }
   ],
   "source": [
    "run_index = 5 # it should be an integer, e.g. 1\n",
    "\n",
    "run_logdir = os.path.join(os.curdir, \"LSTM_basic_logs/\", \"run_{:03d}\".format(run_index))\n",
    "\n",
    "print(run_logdir)"
   ]
  },
  {
   "cell_type": "code",
   "execution_count": 13,
   "metadata": {},
   "outputs": [],
   "source": [
    "# Define callbacks (they can really improve the accuracy if well-chosen!)\n",
    "import tensorflow as tf\n",
    "\n",
    "early_stopping_cb = tf.keras.callbacks.EarlyStopping(patience=30)\n",
    "checkpoint_cb = tf.keras.callbacks.ModelCheckpoint(\"model.h5\", \n",
    "                                                   save_best_only=True,\n",
    "                                                   monitor='loss')\n",
    "tensorboard_cb = tf.keras.callbacks.TensorBoard(run_logdir)"
   ]
  },
  {
   "cell_type": "code",
   "execution_count": 14,
   "metadata": {},
   "outputs": [
    {
     "name": "stdout",
     "output_type": "stream",
     "text": [
      "Epoch 1/156\n"
     ]
    },
    {
     "name": "stderr",
     "output_type": "stream",
     "text": [
      "2024-06-03 18:23:07.316918: W tensorflow/tsl/platform/profile_utils/cpu_utils.cc:128] Failed to get CPU frequency: 0 Hz\n"
     ]
    },
    {
     "name": "stdout",
     "output_type": "stream",
     "text": [
      "100/100 [==============================] - 1s 6ms/step - loss: 3260294.2500 - val_loss: 186163.0312\n",
      "Epoch 2/156\n",
      "100/100 [==============================] - 0s 5ms/step - loss: 19381.1191 - val_loss: 96.2705\n",
      "Epoch 3/156\n",
      "100/100 [==============================] - 0s 5ms/step - loss: 107.4200 - val_loss: 87.9632\n",
      "Epoch 4/156\n",
      "100/100 [==============================] - 0s 5ms/step - loss: 105.6560 - val_loss: 86.6082\n",
      "Epoch 5/156\n",
      "100/100 [==============================] - 0s 5ms/step - loss: 105.4712 - val_loss: 88.8137\n",
      "Epoch 6/156\n",
      "100/100 [==============================] - 0s 4ms/step - loss: 105.7394 - val_loss: 87.8484\n",
      "Epoch 7/156\n",
      "100/100 [==============================] - 0s 4ms/step - loss: 105.0366 - val_loss: 84.1880\n",
      "Epoch 8/156\n",
      "100/100 [==============================] - 0s 4ms/step - loss: 104.0252 - val_loss: 85.9640\n",
      "Epoch 9/156\n",
      "100/100 [==============================] - 0s 4ms/step - loss: 103.4155 - val_loss: 85.6142\n",
      "Epoch 10/156\n",
      "100/100 [==============================] - 0s 4ms/step - loss: 102.5816 - val_loss: 85.5883\n",
      "Epoch 11/156\n",
      "100/100 [==============================] - 0s 5ms/step - loss: 102.2244 - val_loss: 86.2861\n",
      "Epoch 12/156\n",
      "100/100 [==============================] - 0s 4ms/step - loss: 102.3821 - val_loss: 84.3009\n",
      "Epoch 13/156\n",
      "100/100 [==============================] - 0s 4ms/step - loss: 103.4171 - val_loss: 92.6150\n",
      "Epoch 14/156\n",
      "100/100 [==============================] - 0s 5ms/step - loss: 115.7851 - val_loss: 92.4427\n",
      "Epoch 15/156\n",
      "100/100 [==============================] - 0s 5ms/step - loss: 115.2812 - val_loss: 93.4397\n",
      "Epoch 16/156\n",
      "100/100 [==============================] - 0s 5ms/step - loss: 114.3091 - val_loss: 92.5007\n",
      "Epoch 17/156\n",
      "100/100 [==============================] - 0s 5ms/step - loss: 113.6153 - val_loss: 90.2773\n",
      "Epoch 18/156\n",
      "100/100 [==============================] - 0s 4ms/step - loss: 112.9503 - val_loss: 93.6168\n",
      "Epoch 19/156\n",
      "100/100 [==============================] - 0s 4ms/step - loss: 112.6686 - val_loss: 94.5592\n",
      "Epoch 20/156\n",
      "100/100 [==============================] - 0s 4ms/step - loss: 111.8740 - val_loss: 94.3558\n",
      "Epoch 21/156\n",
      "100/100 [==============================] - 0s 4ms/step - loss: 110.7739 - val_loss: 88.4209\n",
      "Epoch 22/156\n",
      "100/100 [==============================] - 0s 4ms/step - loss: 108.9386 - val_loss: 89.0814\n",
      "Epoch 23/156\n",
      "100/100 [==============================] - 0s 4ms/step - loss: 107.1597 - val_loss: 86.8865\n",
      "Epoch 24/156\n",
      "100/100 [==============================] - 0s 4ms/step - loss: 105.6978 - val_loss: 92.3538\n",
      "Epoch 25/156\n",
      "100/100 [==============================] - 0s 4ms/step - loss: 105.2727 - val_loss: 82.5327\n",
      "Epoch 26/156\n",
      "100/100 [==============================] - 0s 4ms/step - loss: 103.9714 - val_loss: 82.5287\n",
      "Epoch 27/156\n",
      "100/100 [==============================] - 0s 4ms/step - loss: 132.5795 - val_loss: 133.0467\n",
      "Epoch 28/156\n",
      "100/100 [==============================] - 0s 4ms/step - loss: 112.7954 - val_loss: 90.3991\n",
      "Epoch 29/156\n",
      "100/100 [==============================] - 0s 4ms/step - loss: 107.7698 - val_loss: 87.5398\n",
      "Epoch 30/156\n",
      "100/100 [==============================] - 0s 4ms/step - loss: 107.7067 - val_loss: 89.2508\n",
      "Epoch 31/156\n",
      "100/100 [==============================] - 0s 4ms/step - loss: 108.8015 - val_loss: 87.7312\n",
      "Epoch 32/156\n",
      "100/100 [==============================] - 0s 4ms/step - loss: 107.4451 - val_loss: 86.1495\n",
      "Epoch 33/156\n",
      "100/100 [==============================] - 0s 4ms/step - loss: 105.2108 - val_loss: 85.5220\n",
      "Epoch 34/156\n",
      "100/100 [==============================] - 0s 4ms/step - loss: 105.6723 - val_loss: 86.7384\n",
      "Epoch 35/156\n",
      "100/100 [==============================] - 0s 4ms/step - loss: 105.1143 - val_loss: 87.2707\n",
      "Epoch 36/156\n",
      "100/100 [==============================] - 0s 4ms/step - loss: 102.5605 - val_loss: 84.4707\n",
      "Epoch 37/156\n",
      "100/100 [==============================] - 0s 4ms/step - loss: 99.4918 - val_loss: 83.9473\n",
      "Epoch 38/156\n",
      "100/100 [==============================] - 0s 4ms/step - loss: 95.0444 - val_loss: 80.7202\n",
      "Epoch 39/156\n",
      "100/100 [==============================] - 0s 5ms/step - loss: 159.5584 - val_loss: 79.2888\n",
      "Epoch 40/156\n",
      "100/100 [==============================] - 0s 5ms/step - loss: 5094323712.0000 - val_loss: 5460842.5000\n",
      "Epoch 41/156\n",
      "100/100 [==============================] - 1s 5ms/step - loss: 1915812.6250 - val_loss: 6067.0229\n",
      "Epoch 42/156\n",
      "100/100 [==============================] - 0s 5ms/step - loss: 4919.5532 - val_loss: 3993.3550\n",
      "Epoch 43/156\n",
      "100/100 [==============================] - 0s 5ms/step - loss: 3182.1411 - val_loss: 1372.9417\n",
      "Epoch 44/156\n",
      "100/100 [==============================] - 0s 4ms/step - loss: 1016.7697 - val_loss: 1253.4532\n",
      "Epoch 45/156\n",
      "100/100 [==============================] - 0s 4ms/step - loss: 942.8659 - val_loss: 1245.2955\n",
      "Epoch 46/156\n",
      "100/100 [==============================] - 0s 4ms/step - loss: 944.5571 - val_loss: 1241.2052\n",
      "Epoch 47/156\n",
      "100/100 [==============================] - 0s 4ms/step - loss: 943.1215 - val_loss: 1230.9374\n",
      "Epoch 48/156\n",
      "100/100 [==============================] - 0s 4ms/step - loss: 935.1663 - val_loss: 1247.5245\n",
      "Epoch 49/156\n",
      "100/100 [==============================] - 0s 4ms/step - loss: 940.5150 - val_loss: 1214.7523\n",
      "Epoch 50/156\n",
      "100/100 [==============================] - 0s 4ms/step - loss: 941.9537 - val_loss: 1201.0645\n",
      "Epoch 51/156\n",
      "100/100 [==============================] - 0s 4ms/step - loss: 830.6362 - val_loss: 943.2822\n",
      "Epoch 52/156\n",
      "100/100 [==============================] - 0s 4ms/step - loss: 583.3168 - val_loss: 875.1549\n",
      "Epoch 53/156\n",
      "100/100 [==============================] - 0s 4ms/step - loss: 539.7508 - val_loss: 846.7897\n",
      "Epoch 54/156\n",
      "100/100 [==============================] - 0s 4ms/step - loss: 505.0817 - val_loss: 795.4618\n",
      "Epoch 55/156\n",
      "100/100 [==============================] - 0s 4ms/step - loss: 482.0625 - val_loss: 742.3938\n",
      "Epoch 56/156\n",
      "100/100 [==============================] - 0s 4ms/step - loss: 462.0992 - val_loss: 659.8091\n",
      "Epoch 57/156\n",
      "100/100 [==============================] - 0s 4ms/step - loss: 450.0508 - val_loss: 652.9859\n",
      "Epoch 58/156\n",
      "100/100 [==============================] - 0s 5ms/step - loss: 417.7853 - val_loss: 625.2673\n",
      "Epoch 59/156\n",
      "100/100 [==============================] - 0s 4ms/step - loss: 408.4485 - val_loss: 547.6119\n",
      "Epoch 60/156\n",
      "100/100 [==============================] - 0s 4ms/step - loss: 401.9749 - val_loss: 488.3905\n",
      "Epoch 61/156\n",
      "100/100 [==============================] - 0s 4ms/step - loss: 396.4505 - val_loss: 1115.3646\n",
      "Epoch 62/156\n",
      "100/100 [==============================] - 0s 4ms/step - loss: 454.9190 - val_loss: 1052.3398\n",
      "Epoch 63/156\n",
      "100/100 [==============================] - 0s 4ms/step - loss: 459.1465 - val_loss: 1041.2822\n",
      "Epoch 64/156\n",
      "100/100 [==============================] - 0s 4ms/step - loss: 440.5500 - val_loss: 1028.5648\n",
      "Epoch 65/156\n",
      "100/100 [==============================] - 0s 4ms/step - loss: 418.9902 - val_loss: 360.4864\n",
      "Epoch 66/156\n",
      "100/100 [==============================] - 0s 4ms/step - loss: 367.6538 - val_loss: 453.9971\n",
      "Epoch 67/156\n",
      "100/100 [==============================] - 0s 4ms/step - loss: 355.9538 - val_loss: 989.8312\n",
      "Epoch 68/156\n",
      "100/100 [==============================] - 0s 4ms/step - loss: 358.7689 - val_loss: 319.8132\n",
      "Epoch 69/156\n",
      "100/100 [==============================] - 0s 4ms/step - loss: 344.4591 - val_loss: 905.3889\n",
      "26/26 [==============================] - 0s 1ms/step\n"
     ]
    }
   ],
   "source": [
    "from tensorflow.keras.models import Sequential\n",
    "from tensorflow.keras.layers import LSTM, Dense\n",
    "\n",
    "# Définir le modèle\n",
    "'''X = df #pd.concat([locals()[f'{x_var}']['0'] for x_var in variable_w_high_corr if f'{x_var}' in locals()], axis=1)\n",
    "X_train, X_test, y_train, y_test = train_test_split(X, target_variable, test_size=0.2, random_state=42)\n",
    "'''\n",
    "model = Sequential()\n",
    "# Ajouter le nombre de variables à haute corrélation comme variable indépendante\n",
    "model.add(LSTM(50, activation='relu', input_shape=(X_train_new.shape[1], 1)))\n",
    "model.add(Dense(1))\n",
    "\n",
    "# Diviser les données en ensembles de formation et de test\n",
    "#X_train, X_test, y_train, y_test = train_test_split(X, target_variable, test_size=0.2, random_state=42)\n",
    "\n",
    "# Compiler le modèle\n",
    "model.compile(optimizer='adam', loss='mse')\n",
    "\n",
    "# Redimensionner les données pour LSTM\n",
    "'''if len(X_train.shape) == 2:\n",
    "    X_train = X_train.values.reshape((X_train.shape[0], X_train.shape[1]))\n",
    "    X_test = X_test.values.reshape((X_test.shape[0], X_test.shape[1]))\n",
    "    y_train = y_train.values.reshape((y_train.shape[0], y_train.shape[1]))\n",
    "    y_test = y_test.values.reshape((y_test.shape[0], y_test.shape[1]))'''\n",
    "\n",
    "# Entraîner le modèle\n",
    "model.fit(X_train_new, y_train_new, \n",
    "          epochs=156, \n",
    "          verbose=1, \n",
    "          use_multiprocessing=True, \n",
    "          validation_data=(X_validation_new, y_validation_new), \n",
    "          callbacks=[early_stopping_cb, checkpoint_cb, tensorboard_cb])\n",
    "\n",
    "# Faire des prédictions\n",
    "y_pred = model.predict(X_test_new)"
   ]
  },
  {
   "cell_type": "code",
   "execution_count": 15,
   "metadata": {},
   "outputs": [],
   "source": [
    "#%tensorboard --logdir=./LSTM_basic_logs --port=1234\n",
    "# to launch tensorboard in the terminal\n",
    "#tensorboard --logdir=/Users/fabienaugsburger/Documents/GitHub/master-project/case_study/LSTM_basic_logs --port=1234"
   ]
  },
  {
   "cell_type": "code",
   "execution_count": 19,
   "metadata": {},
   "outputs": [
    {
     "name": "stderr",
     "output_type": "stream",
     "text": [
      " 29%|██▉       | 29/100 [01:43<04:24,  3.72s/it]"
     ]
    },
    {
     "ename": "",
     "evalue": "",
     "output_type": "error",
     "traceback": [
      "\u001b[1;31mLe noyau s’est bloqué lors de l’exécution du code dans une cellule active ou une cellule précédente. \n",
      "\u001b[1;31mVeuillez vérifier le code dans la ou les cellules pour identifier une cause possible de l’échec. \n",
      "\u001b[1;31mCliquez <a href='https://aka.ms/vscodeJupyterKernelCrash'>ici</a> pour plus d’informations. \n",
      "\u001b[1;31mPour plus d’informations, consultez Jupyter <a href='command:jupyter.viewOutput'>log</a>."
     ]
    }
   ],
   "source": [
    "# use shapely to calculate the shap values\n",
    "\n",
    "import shap\n",
    "\n",
    "# Sample a subset of the data\n",
    "sample_size = 100  # Adjust this to a size your machine can handle\n",
    "X_sample = X_test_new.sample(sample_size, random_state=42)\n",
    "\n",
    "# see the explanation for the model's predictions using SHAP\n",
    "#explainer = shap.DeepExplainer(model, X_test_new)\n",
    "explainer = shap.KernelExplainer(model, X_sample)\n",
    "shap_values = explainer(X_sample)\n",
    "\n",
    "#shap.summary_plot(shap_values, X_test_new)\n",
    "\n"
   ]
  },
  {
   "cell_type": "code",
   "execution_count": null,
   "metadata": {},
   "outputs": [],
   "source": [
    "# look at the shap values for the first prediction\n",
    "print(np.asarray(shap_values[:].values).shape)\n",
    "test = np.squeeze(np.asarray(shap_values[:].values))\n",
    "test_m = np.mean(test, axis=0)\n",
    "#shap.plots.waterfall(shap_values[])\n"
   ]
  },
  {
   "cell_type": "code",
   "execution_count": null,
   "metadata": {},
   "outputs": [],
   "source": [
    "# plot the results \n",
    "\n",
    "import matplotlib.pyplot as plt\n",
    "plt.plot(np.squeeze(y_test), label='True', lw=0, marker='o')\n",
    "#plt.plot(y_pred, label='Predicted')\n",
    "plt.legend()\n",
    "plt.show()"
   ]
  },
  {
   "cell_type": "code",
   "execution_count": null,
   "metadata": {},
   "outputs": [],
   "source": [
    "# feature importance \n",
    "\n",
    "from sklearn.inspection import permutation_importance\n",
    "\n",
    "result = permutation_importance(model, X_train, y_train, n_repeats=10, random_state=42, n_jobs=-1)"
   ]
  },
  {
   "cell_type": "code",
   "execution_count": null,
   "metadata": {},
   "outputs": [],
   "source": [
    "# Calculer l'erreur quadratique moyenne\n",
    "mse = mean_squared_error(y_test, y_pred)\n",
    "print(f\"L'erreur quadratique moyenne du modèle avec {variable_w_high_corr} comme variable indépendante est {mse}\")"
   ]
  },
  {
   "cell_type": "code",
   "execution_count": null,
   "metadata": {},
   "outputs": [],
   "source": [
    "from sklearn.metrics import mean_absolute_error\n",
    "mae = mean_absolute_error(y_test, y_pred)\n",
    "print(f\"L'erreur absolue moyenne (MAE) du modèle est {mae}\")"
   ]
  },
  {
   "cell_type": "code",
   "execution_count": null,
   "metadata": {},
   "outputs": [],
   "source": [
    "from math import sqrt\n",
    "rmse = sqrt(mse) # mse est l'erreur quadratique moyenne calculée précédemment\n",
    "print(f\"La racine de l'erreur quadratique moyenne (RMSE) du modèle est {rmse}\")"
   ]
  },
  {
   "cell_type": "code",
   "execution_count": null,
   "metadata": {},
   "outputs": [],
   "source": [
    "from sklearn.metrics import r2_score\n",
    "r2 = r2_score(y_test, y_pred)\n",
    "print(f\"Le coefficient de détermination (R²) du modèle est {r2}\")"
   ]
  }
 ],
 "metadata": {
  "kernelspec": {
   "display_name": "master",
   "language": "python",
   "name": "python3"
  },
  "language_info": {
   "codemirror_mode": {
    "name": "ipython",
    "version": 3
   },
   "file_extension": ".py",
   "mimetype": "text/x-python",
   "name": "python",
   "nbconvert_exporter": "python",
   "pygments_lexer": "ipython3",
   "version": "3.11.5"
  }
 },
 "nbformat": 4,
 "nbformat_minor": 2
}
