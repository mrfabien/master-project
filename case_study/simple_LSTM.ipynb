{
 "cells": [
  {
   "cell_type": "code",
   "execution_count": 1,
   "metadata": {},
   "outputs": [],
   "source": [
    "# creation of a simple regression model with the mean of each variable in datasets_3h folder\n",
    "# and the mean of the target variable in the training set\n",
    "\n",
    "import pandas as pd\n",
    "import numpy as np\n",
    "import os\n",
    "from sklearn.linear_model import LinearRegression\n",
    "from sklearn.metrics import mean_squared_error\n",
    "from sklearn.model_selection import train_test_split\n",
    "from sklearn.preprocessing import StandardScaler\n",
    "import matplotlib.pyplot as plt\n"
   ]
  },
  {
   "cell_type": "code",
   "execution_count": 2,
   "metadata": {},
   "outputs": [
    {
     "data": {
      "text/plain": [
       "[<matplotlib.lines.Line2D at 0x14ff1ae90>]"
      ]
     },
     "execution_count": 2,
     "metadata": {},
     "output_type": "execute_result"
    },
    {
     "data": {
      "image/png": "[encoded data removed]",
      "text/plain": [
       "<Figure size 640x480 with 1 Axes>"
      ]
     },
     "metadata": {},
     "output_type": "display_data"
    }
   ],
   "source": [
    "one_storm = pd.read_csv('/Users/fabienaugsburger/Documents/GitHub/master-project/datasets_3h/instantaneous_10m_wind_gust/storm_1/max_1_0.csv')\n",
    "one_storm = np.asarray(one_storm['0'])\n",
    "plt.plot(one_storm, label='True', lw=0, marker='o')"
   ]
  },
  {
   "cell_type": "code",
   "execution_count": 3,
   "metadata": {},
   "outputs": [
    {
     "data": {
      "text/plain": [
       "\"# test 2\\n\\n# open each csv file and read it into a pandas dataframe\\nname_of_variables = pd.read_csv('/Users/fabienaugsburger/Documents/GitHub/master-project/variable_list_24_v2_1.csv')\\nname_of_variables = name_of_variables['variable'].tolist()\\n\\n# Create a new list of variables\\nnew_name_of_variables = []\\nfor variable in name_of_variables:\\n    if variable == 'geopotential':\\n        new_name_of_variables.extend(['geopotential_500', 'geopotential_1000'])\\n    else:\\n        new_name_of_variables.append(variable)\\n\\n# Iterate over the new list of variables\\nfor i in range(0, len(new_name_of_variables)):\\n\\n    print(new_name_of_variables[i])\\n\\n    locals()[f'max_{new_name_of_variables[i]}'] = pd.DataFrame()\\n    locals()[f'min_{new_name_of_variables[i]}'] = pd.DataFrame()\\n    locals()[f'mean_{new_name_of_variables[i]}'] = pd.DataFrame()\\n    locals()[f'sigma_{new_name_of_variables[i]}'] = pd.DataFrame()\\n\\n    for j in range (1,96+1):\\n        if 'geopotential' in new_name_of_variables[i]:\\n            for k in [500, 1000]:\\n                df_max_temp = pd.read_csv('/Users/fabienaugsburger/Documents/GitHub/master-project/datasets_3h/geopotential/storm_' + str(j) + '/max_'+ str(j) + '_' + str(k) + '.csv')\\n                df_min_temp = pd.read_csv('/Users/fabienaugsburger/Documents/GitHub/master-project/datasets_3h/geopotential/storm_' + str(j) + '/min_'+ str(j) + '_' + str(k) + '.csv')\\n                df_mean_temp = pd.read_csv('/Users/fabienaugsburger/Documents/GitHub/master-project/datasets_3h/geopotential/storm_' + str(j) + '/mean_'+ str(j) + '_' + str(k) + '.csv')\\n                df_sigma_temp = pd.read_csv('/Users/fabienaugsburger/Documents/GitHub/master-project/datasets_3h/geopotential/storm_' + str(j) + '/std_'+ str(j) + '_' + str(k) + '.csv')\\n\\n        else:\\n            df_max_temp = pd.read_csv('/Users/fabienaugsburger/Documents/GitHub/master-project/datasets_3h/' + new_name_of_variables[i] + '/storm_' + str(j) + '/max_'+ str(j) + '_0.csv')\\n            df_min_temp = pd.read_csv('/Users/fabienaugsburger/Documents/GitHub/master-project/datasets_3h/' + new_name_of_variables[i] + '/storm_' + str(j) + '/min_'+ str(j) + '_0.csv')\\n            df_mean_temp = pd.read_csv('/Users/fabienaugsburger/Documents/GitHub/master-project/datasets_3h/' + new_name_of_variables[i] + '/storm_' + str(j) + '/mean_'+ str(j) + '_0.csv')\\n            df_sigma_temp = pd.read_csv('/Users/fabienaugsburger/Documents/GitHub/master-project/datasets_3h/' + new_name_of_variables[i] + '/storm_' + str(j) + '/std_'+ str(j) + '_0.csv')\\n\\n        df_max_temp = df_max_temp.drop(columns = ['Unnamed: 0'])\\n        df_min_temp = df_min_temp.drop(columns = ['Unnamed: 0'])\\n        df_mean_temp = df_mean_temp.drop(columns = ['Unnamed: 0'])\\n        df_sigma_temp = df_sigma_temp.drop(columns = ['Unnamed: 0'])\\n\\n        locals()[f'max_{new_name_of_variables[i]}'] = pd.concat([locals()[f'max_{new_name_of_variables[i]}'], df_max_temp], axis=0)\\n        locals()[f'min_{new_name_of_variables[i]}'] = pd.concat([locals()[f'min_{new_name_of_variables[i]}'], df_min_temp], axis=0)\\n        locals()[f'mean_{new_name_of_variables[i]}'] = pd.concat([locals()[f'mean_{new_name_of_variables[i]}'], df_mean_temp], axis=0)\\n        locals()[f'sigma_{new_name_of_variables[i]}'] = pd.concat([locals()[f'sigma_{new_name_of_variables[i]}'], df_sigma_temp], axis=0)\""
      ]
     },
     "execution_count": 3,
     "metadata": {},
     "output_type": "execute_result"
    }
   ],
   "source": [
    "'''# test 2\n",
    "\n",
    "# open each csv file and read it into a pandas dataframe\n",
    "name_of_variables = pd.read_csv('/Users/fabienaugsburger/Documents/GitHub/master-project/variable_list_24_v2_1.csv')\n",
    "name_of_variables = name_of_variables['variable'].tolist()\n",
    "\n",
    "# Create a new list of variables\n",
    "new_name_of_variables = []\n",
    "for variable in name_of_variables:\n",
    "    if variable == 'geopotential':\n",
    "        new_name_of_variables.extend(['geopotential_500', 'geopotential_1000'])\n",
    "    else:\n",
    "        new_name_of_variables.append(variable)\n",
    "\n",
    "# Iterate over the new list of variables\n",
    "for i in range(0, len(new_name_of_variables)):\n",
    "\n",
    "    print(new_name_of_variables[i])\n",
    "\n",
    "    locals()[f'max_{new_name_of_variables[i]}'] = pd.DataFrame()\n",
    "    locals()[f'min_{new_name_of_variables[i]}'] = pd.DataFrame()\n",
    "    locals()[f'mean_{new_name_of_variables[i]}'] = pd.DataFrame()\n",
    "    locals()[f'sigma_{new_name_of_variables[i]}'] = pd.DataFrame()\n",
    "\n",
    "    for j in range (1,96+1):\n",
    "        if 'geopotential' in new_name_of_variables[i]:\n",
    "            for k in [500, 1000]:\n",
    "                df_max_temp = pd.read_csv('/Users/fabienaugsburger/Documents/GitHub/master-project/datasets_3h/geopotential/storm_' + str(j) + '/max_'+ str(j) + '_' + str(k) + '.csv')\n",
    "                df_min_temp = pd.read_csv('/Users/fabienaugsburger/Documents/GitHub/master-project/datasets_3h/geopotential/storm_' + str(j) + '/min_'+ str(j) + '_' + str(k) + '.csv')\n",
    "                df_mean_temp = pd.read_csv('/Users/fabienaugsburger/Documents/GitHub/master-project/datasets_3h/geopotential/storm_' + str(j) + '/mean_'+ str(j) + '_' + str(k) + '.csv')\n",
    "                df_sigma_temp = pd.read_csv('/Users/fabienaugsburger/Documents/GitHub/master-project/datasets_3h/geopotential/storm_' + str(j) + '/std_'+ str(j) + '_' + str(k) + '.csv')\n",
    "\n",
    "        else:\n",
    "            df_max_temp = pd.read_csv('/Users/fabienaugsburger/Documents/GitHub/master-project/datasets_3h/' + new_name_of_variables[i] + '/storm_' + str(j) + '/max_'+ str(j) + '_0.csv')\n",
    "            df_min_temp = pd.read_csv('/Users/fabienaugsburger/Documents/GitHub/master-project/datasets_3h/' + new_name_of_variables[i] + '/storm_' + str(j) + '/min_'+ str(j) + '_0.csv')\n",
    "            df_mean_temp = pd.read_csv('/Users/fabienaugsburger/Documents/GitHub/master-project/datasets_3h/' + new_name_of_variables[i] + '/storm_' + str(j) + '/mean_'+ str(j) + '_0.csv')\n",
    "            df_sigma_temp = pd.read_csv('/Users/fabienaugsburger/Documents/GitHub/master-project/datasets_3h/' + new_name_of_variables[i] + '/storm_' + str(j) + '/std_'+ str(j) + '_0.csv')\n",
    "\n",
    "        df_max_temp = df_max_temp.drop(columns = ['Unnamed: 0'])\n",
    "        df_min_temp = df_min_temp.drop(columns = ['Unnamed: 0'])\n",
    "        df_mean_temp = df_mean_temp.drop(columns = ['Unnamed: 0'])\n",
    "        df_sigma_temp = df_sigma_temp.drop(columns = ['Unnamed: 0'])\n",
    "\n",
    "        locals()[f'max_{new_name_of_variables[i]}'] = pd.concat([locals()[f'max_{new_name_of_variables[i]}'], df_max_temp], axis=0)\n",
    "        locals()[f'min_{new_name_of_variables[i]}'] = pd.concat([locals()[f'min_{new_name_of_variables[i]}'], df_min_temp], axis=0)\n",
    "        locals()[f'mean_{new_name_of_variables[i]}'] = pd.concat([locals()[f'mean_{new_name_of_variables[i]}'], df_mean_temp], axis=0)\n",
    "        locals()[f'sigma_{new_name_of_variables[i]}'] = pd.concat([locals()[f'sigma_{new_name_of_variables[i]}'], df_sigma_temp], axis=0)'''"
   ]
  },
  {
   "cell_type": "code",
   "execution_count": 4,
   "metadata": {},
   "outputs": [
    {
     "name": "stdout",
     "output_type": "stream",
     "text": [
      "10m_u_component_of_wind\n",
      "10m_v_component_of_wind\n",
      "2m_dewpoint_temperature\n",
      "2m_temperature\n",
      "cloud_base_height\n",
      "convective_available_potential_energy\n",
      "convective_inhibition\n",
      "convective_precipitation\n",
      "convective_rain_rate\n",
      "convective_snowfall\n",
      "geopotential_500\n",
      "geopotential_1000\n",
      "high_cloud_cover\n",
      "instantaneous_10m_wind_gust\n",
      "k_index\n",
      "large_scale_precipitation\n",
      "large_scale_snowfall\n",
      "mean_large_scale_precipitation_rate\n",
      "mean_top_net_long_wave_radiation_flux\n",
      "mean_top_net_short_wave_radiation_flux\n",
      "mean_total_precipitation_rate\n",
      "mean_sea_level_pressure\n",
      "mean_surface_latent_heat_flux\n",
      "mean_surface_net_long_wave_radiation_flux\n",
      "mean_surface_net_short_wave_radiation_flux\n",
      "mean_vertically_integrated_moisture_divergence\n",
      "surface_pressure\n",
      "total_precipitation\n",
      "total_totals_index\n"
     ]
    }
   ],
   "source": [
    "# to separate each storm into one column : \n",
    "\n",
    "# open each csv file and read it into a pandas dataframe\n",
    "name_of_variables = pd.read_csv('/Users/fabienaugsburger/Documents/GitHub/master-project/variable_list_24_v2_1.csv')\n",
    "name_of_variables = name_of_variables['variable'].tolist()\n",
    "\n",
    "# Create a new list of variables\n",
    "new_name_of_variables = []\n",
    "for variable in name_of_variables:\n",
    "    if variable == 'geopotential':\n",
    "        new_name_of_variables.extend(['geopotential_500', 'geopotential_1000'])\n",
    "    else:\n",
    "        new_name_of_variables.append(variable)\n",
    "\n",
    "# Iterate over the new list of variables\n",
    "for i in range(0, len(new_name_of_variables)):\n",
    "\n",
    "    print(new_name_of_variables[i])\n",
    "\n",
    "    locals()[f'max_{new_name_of_variables[i]}'] = pd.DataFrame()\n",
    "    locals()[f'min_{new_name_of_variables[i]}'] = pd.DataFrame()\n",
    "    locals()[f'mean_{new_name_of_variables[i]}'] = pd.DataFrame()\n",
    "    locals()[f'sigma_{new_name_of_variables[i]}'] = pd.DataFrame()\n",
    "\n",
    "    for j in range (1,96+1):\n",
    "        if 'geopotential' in new_name_of_variables[i]:\n",
    "            continue\n",
    "            for k in [500, 1000]:\n",
    "                df_max_temp = pd.read_csv('/Users/fabienaugsburger/Documents/GitHub/master-project/datasets_3h/geopotential/storm_' + str(j) + '/max_'+ str(j) + '_' + str(k) + '.csv')\n",
    "                df_min_temp = pd.read_csv('/Users/fabienaugsburger/Documents/GitHub/master-project/datasets_3h/geopotential/storm_' + str(j) + '/min_'+ str(j) + '_' + str(k) + '.csv')\n",
    "                df_mean_temp = pd.read_csv('/Users/fabienaugsburger/Documents/GitHub/master-project/datasets_3h/geopotential/storm_' + str(j) + '/mean_'+ str(j) + '_' + str(k) + '.csv')\n",
    "                df_sigma_temp = pd.read_csv('/Users/fabienaugsburger/Documents/GitHub/master-project/datasets_3h/geopotential/storm_' + str(j) + '/std_'+ str(j) + '_' + str(k) + '.csv')\n",
    "\n",
    "        else:\n",
    "            df_max_temp = pd.read_csv('/Users/fabienaugsburger/Documents/GitHub/master-project/datasets_3h/' + new_name_of_variables[i] + '/storm_' + str(j) + '/max_'+ str(j) + '_0.csv')\n",
    "            df_min_temp = pd.read_csv('/Users/fabienaugsburger/Documents/GitHub/master-project/datasets_3h/' + new_name_of_variables[i] + '/storm_' + str(j) + '/min_'+ str(j) + '_0.csv')\n",
    "            df_mean_temp = pd.read_csv('/Users/fabienaugsburger/Documents/GitHub/master-project/datasets_3h/' + new_name_of_variables[i] + '/storm_' + str(j) + '/mean_'+ str(j) + '_0.csv')\n",
    "            df_sigma_temp = pd.read_csv('/Users/fabienaugsburger/Documents/GitHub/master-project/datasets_3h/' + new_name_of_variables[i] + '/storm_' + str(j) + '/std_'+ str(j) + '_0.csv')\n",
    "\n",
    "        df_max_temp = df_max_temp.drop(columns = ['Unnamed: 0'])\n",
    "        df_min_temp = df_min_temp.drop(columns = ['Unnamed: 0'])\n",
    "        df_mean_temp = df_mean_temp.drop(columns = ['Unnamed: 0'])\n",
    "        df_sigma_temp = df_sigma_temp.drop(columns = ['Unnamed: 0'])\n",
    "\n",
    "        locals()[f'max_{new_name_of_variables[i]}'][f'storm_{j}'] = df_max_temp['0']\n",
    "        locals()[f'min_{new_name_of_variables[i]}'][f'storm_{j}'] = df_min_temp['0']# = pd.concat([locals()[f'min_{new_name_of_variables[i]}'], df_min_temp], axis=0)\n",
    "        locals()[f'mean_{new_name_of_variables[i]}'][f'storm_{j}'] = df_mean_temp['0'] #= pd.concat([locals()[f'mean_{new_name_of_variables[i]}'], df_mean_temp], axis=0)\n",
    "        locals()[f'sigma_{new_name_of_variables[i]}'][f'storm_{j}'] = df_sigma_temp['0'] #= pd.concat([locals()[f'sigma_{new_name_of_variables[i]}'], df_sigma_temp], axis=0)\n",
    "\n",
    "for k in [500, 1000]:\n",
    "    locals()[f'max_geopotential_{k}'] = pd.DataFrame()\n",
    "    locals()[f'min_geopotential_{k}'] = pd.DataFrame()\n",
    "    locals()[f'mean_geopotential_{k}'] = pd.DataFrame()\n",
    "    locals()[f'sigma_geopotential_{k}'] = pd.DataFrame()\n",
    "    for j in range (1,96+1):\n",
    "        df_max_temp = pd.read_csv('/Users/fabienaugsburger/Documents/GitHub/master-project/datasets_3h/geopotential/storm_' + str(j) + '/max_'+ str(j) + '_' + str(k) + '.csv')\n",
    "        df_min_temp = pd.read_csv('/Users/fabienaugsburger/Documents/GitHub/master-project/datasets_3h/geopotential/storm_' + str(j) + '/min_'+ str(j) + '_' + str(k) + '.csv')\n",
    "        df_mean_temp = pd.read_csv('/Users/fabienaugsburger/Documents/GitHub/master-project/datasets_3h/geopotential/storm_' + str(j) + '/mean_'+ str(j) + '_' + str(k) + '.csv')\n",
    "        df_sigma_temp = pd.read_csv('/Users/fabienaugsburger/Documents/GitHub/master-project/datasets_3h/geopotential/storm_' + str(j) + '/std_'+ str(j) + '_' + str(k) + '.csv')\n",
    "\n",
    "        df_max_temp = df_max_temp.drop(columns = ['Unnamed: 0'])\n",
    "        df_min_temp = df_min_temp.drop(columns = ['Unnamed: 0'])\n",
    "        df_mean_temp = df_mean_temp.drop(columns = ['Unnamed: 0'])\n",
    "        df_sigma_temp = df_sigma_temp.drop(columns = ['Unnamed: 0'])\n",
    "\n",
    "        locals()[f'max_geopotential_{k}'][f'storm_{j}'] = df_max_temp['0']\n",
    "        locals()[f'min_geopotential_{k}'][f'storm_{j}'] = df_min_temp['0']# = pd.concat([locals()[f'min_{new_name_of_variables[i]}'], df_min_temp], axis=0)\n",
    "        locals()[f'mean_geopotential_{k}'][f'storm_{j}'] = df_mean_temp['0'] #= pd.concat([locals()[f'mean_{new_name_of_variables[i]}'], df_mean_temp], axis=0)\n",
    "        locals()[f'sigma_geopotential_{k}'][f'storm_{j}'] = df_sigma_temp['0']\n"
   ]
  },
  {
   "cell_type": "code",
   "execution_count": 5,
   "metadata": {},
   "outputs": [
    {
     "data": {
      "text/plain": [
       "\"def process_storm_data(variable_list_path, data_folder_path):\\n    # Read the list of variables\\n    name_of_variables = pd.read_csv(variable_list_path)\\n    name_of_variables = name_of_variables['variable'].tolist()\\n\\n    # Create a new list of variables\\n    new_name_of_variables = []\\n    for variable in name_of_variables:\\n        if variable == 'geopotential':\\n            new_name_of_variables.extend(['geopotential_500', 'geopotential_1000'])\\n        else:\\n            new_name_of_variables.append(variable)\\n\\n    # Create dictionaries to hold the DataFrames\\n    max_dfs = {}\\n    min_dfs = {}\\n    mean_dfs = {}\\n    sigma_dfs = {}\\n\\n    # Iterate over the new list of variables\\n    for var in new_name_of_variables:\\n        max_dfs[var] = pd.DataFrame()\\n        min_dfs[var] = pd.DataFrame()\\n        mean_dfs[var] = pd.DataFrame()\\n        sigma_dfs[var] = pd.DataFrame()\\n\\n        for storm_num in range(1, 97):\\n            if 'geopotential' in var:\\n                continue  # Skipped to be handled later\\n            else:\\n                file_suffix = '0'\\n                paths = {\\n                    'max': f'{data_folder_path}/{var}/storm_{storm_num}/max_{storm_num}_{file_suffix}.csv',\\n                    'min': f'{data_folder_path}/{var}/storm_{storm_num}/min_{storm_num}_{file_suffix}.csv',\\n                    'mean': f'{data_folder_path}/{var}/storm_{storm_num}/mean_{storm_num}_{file_suffix}.csv',\\n                    'sigma': f'{data_folder_path}/{var}/storm_{storm_num}/std_{storm_num}_{file_suffix}.csv'\\n                }\\n\\n                df_max_temp = pd.read_csv(paths['max']).drop(columns=['Unnamed: 0'])\\n                df_min_temp = pd.read_csv(paths['min']).drop(columns=['Unnamed: 0'])\\n                df_mean_temp = pd.read_csv(paths['mean']).drop(columns=['Unnamed: 0'])\\n                df_sigma_temp = pd.read_csv(paths['sigma']).drop(columns=['Unnamed: 0'])\\n\\n                max_dfs[var][f'storm_{storm_num}'] = df_max_temp['0']\\n                min_dfs[var][f'storm_{storm_num}'] = df_min_temp['0']\\n                mean_dfs[var][f'storm_{storm_num}'] = df_mean_temp['0']\\n                sigma_dfs[var][f'storm_{storm_num}'] = df_sigma_temp['0']\\n\\n    for level in [500, 1000]:\\n        var = f'geopotential_{level}'\\n        max_dfs[var] = pd.DataFrame()\\n        min_dfs[var] = pd.DataFrame()\\n        mean_dfs[var] = pd.DataFrame()\\n        sigma_dfs[var] = pd.DataFrame()\\n\\n        for storm_num in range(1, 97):\\n            paths = {\\n                'max': f'{data_folder_path}/geopotential/storm_{storm_num}/max_{storm_num}_{level}.csv',\\n                'min': f'{data_folder_path}/geopotential/storm_{storm_num}/min_{storm_num}_{level}.csv',\\n                'mean': f'{data_folder_path}/geopotential/storm_{storm_num}/mean_{storm_num}_{level}.csv',\\n                'sigma': f'{data_folder_path}/geopotential/storm_{storm_num}/std_{storm_num}_{level}.csv'\\n            }\\n\\n            df_max_temp = pd.read_csv(paths['max']).drop(columns=['Unnamed: 0'])\\n            df_min_temp = pd.read_csv(paths['min']).drop(columns=['Unnamed: 0'])\\n            df_mean_temp = pd.read_csv(paths['mean']).drop(columns=['Unnamed: 0'])\\n            df_sigma_temp = pd.read_csv(paths['sigma']).drop(columns=['Unnamed: 0'])\\n\\n            max_dfs[var][f'storm_{storm_num}'] = df_max_temp['0']\\n            min_dfs[var][f'storm_{storm_num}'] = df_min_temp['0']\\n            mean_dfs[var][f'storm_{storm_num}'] = df_mean_temp['0']\\n            sigma_dfs[var][f'storm_{storm_num}'] = df_sigma_temp['0']\\n\\n    return max_dfs, min_dfs, mean_dfs, sigma_dfs\\n\\n# Example usage:\\nvariable_list_path = '/Users/fabienaugsburger/Documents/GitHub/master-project/variable_list_24_v2_1.csv'\\ndata_folder_path = '/Users/fabienaugsburger/Documents/GitHub/master-project/datasets_3h'\\nmax_dfs, min_dfs, mean_dfs, sigma_dfs = process_storm_data(variable_list_path, data_folder_path)\\n\\nname_of_variables = pd.read_csv('/Users/fabienaugsburger/Documents/GitHub/master-project/variable_list_24_v2_1.csv')\\nname_of_variables = name_of_variables['variable'].tolist()\\n\\nnew_name_of_variables = []\\nfor variable in name_of_variables:\\n        if variable == 'geopotential':\\n            new_name_of_variables.extend(['geopotential_500', 'geopotential_1000'])\\n        else:\\n            new_name_of_variables.append(variable)\""
      ]
     },
     "execution_count": 5,
     "metadata": {},
     "output_type": "execute_result"
    }
   ],
   "source": [
    "'''def process_storm_data(variable_list_path, data_folder_path):\n",
    "    # Read the list of variables\n",
    "    name_of_variables = pd.read_csv(variable_list_path)\n",
    "    name_of_variables = name_of_variables['variable'].tolist()\n",
    "\n",
    "    # Create a new list of variables\n",
    "    new_name_of_variables = []\n",
    "    for variable in name_of_variables:\n",
    "        if variable == 'geopotential':\n",
    "            new_name_of_variables.extend(['geopotential_500', 'geopotential_1000'])\n",
    "        else:\n",
    "            new_name_of_variables.append(variable)\n",
    "\n",
    "    # Create dictionaries to hold the DataFrames\n",
    "    max_dfs = {}\n",
    "    min_dfs = {}\n",
    "    mean_dfs = {}\n",
    "    sigma_dfs = {}\n",
    "\n",
    "    # Iterate over the new list of variables\n",
    "    for var in new_name_of_variables:\n",
    "        max_dfs[var] = pd.DataFrame()\n",
    "        min_dfs[var] = pd.DataFrame()\n",
    "        mean_dfs[var] = pd.DataFrame()\n",
    "        sigma_dfs[var] = pd.DataFrame()\n",
    "\n",
    "        for storm_num in range(1, 97):\n",
    "            if 'geopotential' in var:\n",
    "                continue  # Skipped to be handled later\n",
    "            else:\n",
    "                file_suffix = '0'\n",
    "                paths = {\n",
    "                    'max': f'{data_folder_path}/{var}/storm_{storm_num}/max_{storm_num}_{file_suffix}.csv',\n",
    "                    'min': f'{data_folder_path}/{var}/storm_{storm_num}/min_{storm_num}_{file_suffix}.csv',\n",
    "                    'mean': f'{data_folder_path}/{var}/storm_{storm_num}/mean_{storm_num}_{file_suffix}.csv',\n",
    "                    'sigma': f'{data_folder_path}/{var}/storm_{storm_num}/std_{storm_num}_{file_suffix}.csv'\n",
    "                }\n",
    "\n",
    "                df_max_temp = pd.read_csv(paths['max']).drop(columns=['Unnamed: 0'])\n",
    "                df_min_temp = pd.read_csv(paths['min']).drop(columns=['Unnamed: 0'])\n",
    "                df_mean_temp = pd.read_csv(paths['mean']).drop(columns=['Unnamed: 0'])\n",
    "                df_sigma_temp = pd.read_csv(paths['sigma']).drop(columns=['Unnamed: 0'])\n",
    "\n",
    "                max_dfs[var][f'storm_{storm_num}'] = df_max_temp['0']\n",
    "                min_dfs[var][f'storm_{storm_num}'] = df_min_temp['0']\n",
    "                mean_dfs[var][f'storm_{storm_num}'] = df_mean_temp['0']\n",
    "                sigma_dfs[var][f'storm_{storm_num}'] = df_sigma_temp['0']\n",
    "\n",
    "    for level in [500, 1000]:\n",
    "        var = f'geopotential_{level}'\n",
    "        max_dfs[var] = pd.DataFrame()\n",
    "        min_dfs[var] = pd.DataFrame()\n",
    "        mean_dfs[var] = pd.DataFrame()\n",
    "        sigma_dfs[var] = pd.DataFrame()\n",
    "\n",
    "        for storm_num in range(1, 97):\n",
    "            paths = {\n",
    "                'max': f'{data_folder_path}/geopotential/storm_{storm_num}/max_{storm_num}_{level}.csv',\n",
    "                'min': f'{data_folder_path}/geopotential/storm_{storm_num}/min_{storm_num}_{level}.csv',\n",
    "                'mean': f'{data_folder_path}/geopotential/storm_{storm_num}/mean_{storm_num}_{level}.csv',\n",
    "                'sigma': f'{data_folder_path}/geopotential/storm_{storm_num}/std_{storm_num}_{level}.csv'\n",
    "            }\n",
    "\n",
    "            df_max_temp = pd.read_csv(paths['max']).drop(columns=['Unnamed: 0'])\n",
    "            df_min_temp = pd.read_csv(paths['min']).drop(columns=['Unnamed: 0'])\n",
    "            df_mean_temp = pd.read_csv(paths['mean']).drop(columns=['Unnamed: 0'])\n",
    "            df_sigma_temp = pd.read_csv(paths['sigma']).drop(columns=['Unnamed: 0'])\n",
    "\n",
    "            max_dfs[var][f'storm_{storm_num}'] = df_max_temp['0']\n",
    "            min_dfs[var][f'storm_{storm_num}'] = df_min_temp['0']\n",
    "            mean_dfs[var][f'storm_{storm_num}'] = df_mean_temp['0']\n",
    "            sigma_dfs[var][f'storm_{storm_num}'] = df_sigma_temp['0']\n",
    "\n",
    "    return max_dfs, min_dfs, mean_dfs, sigma_dfs\n",
    "\n",
    "# Example usage:\n",
    "variable_list_path = '/Users/fabienaugsburger/Documents/GitHub/master-project/variable_list_24_v2_1.csv'\n",
    "data_folder_path = '/Users/fabienaugsburger/Documents/GitHub/master-project/datasets_3h'\n",
    "max_dfs, min_dfs, mean_dfs, sigma_dfs = process_storm_data(variable_list_path, data_folder_path)\n",
    "\n",
    "name_of_variables = pd.read_csv('/Users/fabienaugsburger/Documents/GitHub/master-project/variable_list_24_v2_1.csv')\n",
    "name_of_variables = name_of_variables['variable'].tolist()\n",
    "\n",
    "new_name_of_variables = []\n",
    "for variable in name_of_variables:\n",
    "        if variable == 'geopotential':\n",
    "            new_name_of_variables.extend(['geopotential_500', 'geopotential_1000'])\n",
    "        else:\n",
    "            new_name_of_variables.append(variable)'''"
   ]
  },
  {
   "cell_type": "code",
   "execution_count": 6,
   "metadata": {},
   "outputs": [
    {
     "data": {
      "text/plain": [
       "\"\\n# remove variable with only one repetitive value in each statistic\\nfor i in range (0, len(name_of_variables)):\\n    var_name = name_of_variables[i]\\n    for stat in ['max', 'min', 'mean', 'sigma']:\\n        df = locals()[f'{stat}_{var_name}']\\n        cols_to_drop = [col for col in df.columns if df[col].nunique() <= 1]\\n        locals()[f'{stat}_{var_name}'] = df.drop(columns=cols_to_drop)\\n\\n# drop nan values and remove empty dataframes\\nkept_variables = []\\nfor i in range (0, len(name_of_variables)):\\n    var_name = name_of_variables[i]\\n    for stat in ['max', 'min', 'mean', 'sigma']:\\n        df = locals()[f'{stat}_{var_name}']\\n        df = df.dropna()\\n        if not df.empty:\\n            locals()[f'{stat}_{var_name}'] = df\\n            if var_name not in kept_variables:\\n                kept_variables.append(var_name)\\n        else:\\n            del locals()[f'{stat}_{var_name}']\\n\\ndel max_high_cloud_cover\\ndel min_high_cloud_cover\\n\\n# update name_of_variables to only include kept variables\\nname_of_variables = pd.Series(kept_variables)\""
      ]
     },
     "execution_count": 6,
     "metadata": {},
     "output_type": "execute_result"
    }
   ],
   "source": [
    "\n",
    "'''\n",
    "# remove variable with only one repetitive value in each statistic\n",
    "for i in range (0, len(name_of_variables)):\n",
    "    var_name = name_of_variables[i]\n",
    "    for stat in ['max', 'min', 'mean', 'sigma']:\n",
    "        df = locals()[f'{stat}_{var_name}']\n",
    "        cols_to_drop = [col for col in df.columns if df[col].nunique() <= 1]\n",
    "        locals()[f'{stat}_{var_name}'] = df.drop(columns=cols_to_drop)\n",
    "\n",
    "# drop nan values and remove empty dataframes\n",
    "kept_variables = []\n",
    "for i in range (0, len(name_of_variables)):\n",
    "    var_name = name_of_variables[i]\n",
    "    for stat in ['max', 'min', 'mean', 'sigma']:\n",
    "        df = locals()[f'{stat}_{var_name}']\n",
    "        df = df.dropna()\n",
    "        if not df.empty:\n",
    "            locals()[f'{stat}_{var_name}'] = df\n",
    "            if var_name not in kept_variables:\n",
    "                kept_variables.append(var_name)\n",
    "        else:\n",
    "            del locals()[f'{stat}_{var_name}']\n",
    "\n",
    "del max_high_cloud_cover\n",
    "del min_high_cloud_cover\n",
    "\n",
    "# update name_of_variables to only include kept variables\n",
    "name_of_variables = pd.Series(kept_variables)'''"
   ]
  },
  {
   "cell_type": "code",
   "execution_count": 7,
   "metadata": {},
   "outputs": [
    {
     "data": {
      "text/plain": [
       "'x_variable = mean_total_precipitation\\n\\n# split the data into a training and a test set\\nX_train, X_test, y_train, y_test = train_test_split(x_variable, target_variable, test_size=0.2, random_state=42)'"
      ]
     },
     "execution_count": 7,
     "metadata": {},
     "output_type": "execute_result"
    }
   ],
   "source": [
    "# the target variable is the mean of instanteneous_10m_wind_gust\n",
    "#variable_w_high_corr= ['mean_large_scale_precipitation','mean_total_precipitation','mean_mean_large_scale_precipitation_rate','mean_large_scale_snowfall']\n",
    "#mean_large_scale_precipitation\n",
    "\n",
    "# mean_low_tropospheric_vertical_velocity??\n",
    "# create a dataframe with the target variable\n",
    "\n",
    "#target_variable = mean_instantaneous_10m_wind_gust\n",
    "'''x_variable = mean_total_precipitation\n",
    "\n",
    "# split the data into a training and a test set\n",
    "X_train, X_test, y_train, y_test = train_test_split(x_variable, target_variable, test_size=0.2, random_state=42)'''"
   ]
  },
  {
   "cell_type": "code",
   "execution_count": 8,
   "metadata": {},
   "outputs": [
    {
     "name": "stdout",
     "output_type": "stream",
     "text": [
      "29\n",
      "10\n"
     ]
    },
    {
     "data": {
      "text/plain": [
       "\"df = mean_large_scale_precipitation\\ndf = df.rename(columns={'0':'mean_large_scale_precipitation'})\\n#df['mean_large_scale_precipitation'] = mean_large_scale_precipitation\\ndf['mean_total_precipitation'] = mean_total_precipitation\\ndf['mean_mean_large_scale_precipitation_rate'] = mean_mean_large_scale_precipitation_rate\\ndf['mean_large_scale_snowfall'] = mean_large_scale_snowfall\\n\""
      ]
     },
     "execution_count": 8,
     "metadata": {},
     "output_type": "execute_result"
    }
   ],
   "source": [
    "# store the mean_large_scale_precipitation in a df, set the name as the header of the column and so the same with mean_total_precipitation\n",
    "import random\n",
    "\n",
    "def setup_seed(seed):\n",
    "    random.seed(seed)\n",
    "    np.random.seed(seed)                       \n",
    "setup_seed(42)\n",
    "\n",
    "number_test_storms = round(96*0.3)\n",
    "test_storm_index = random.sample(range(96), number_test_storms)\n",
    "number_validation_storms = round(number_test_storms*1/3)\n",
    "validation_storm_index = random.sample(test_storm_index, number_validation_storms)\n",
    "\n",
    "## for later, pick defined storms for test and validation set rather than random but ranbdomized the seed to have a different random selection\n",
    "\n",
    "# order the index of the test_storm_index and validation_storm_index\n",
    "test_storm_index.sort()\n",
    "validation_storm_index.sort()\n",
    "\n",
    "# remove the index of the validation storms from the test_storm_index\n",
    "'''for i in range(0, len(validation_storm_index)):\n",
    "    test_storm_index.remove(validation_storm_index[i])'''\n",
    "\n",
    "# check the number of storms in each set\n",
    "print(len(test_storm_index))\n",
    "print(len(validation_storm_index))\n",
    "\n",
    "# create the training, validation and test set\n",
    "X_train = pd.DataFrame()\n",
    "X_validation = pd.DataFrame()\n",
    "X_test = pd.DataFrame()\n",
    "y_train = pd.DataFrame()\n",
    "y_validation = pd.DataFrame()\n",
    "y_test = pd.DataFrame()\n",
    "\n",
    "if 'instantaneous_10m_wind_gust' in new_name_of_variables:\n",
    "    new_name_of_variables.remove('instantaneous_10m_wind_gust')\n",
    "\n",
    "for x_var in new_name_of_variables: \n",
    "    for storm_number in locals()[f'mean_{x_var}'].columns:\n",
    "        modified_storm_number = f\"{x_var}_{storm_number}\"\n",
    "        if int(storm_number.split('_')[1]) in test_storm_index:\n",
    "            if int(storm_number.split('_')[1]) in validation_storm_index:\n",
    "                X_validation = pd.concat([X_validation, locals()[f'mean_{x_var}'][storm_number]], axis=1) # [storm_number]\n",
    "                X_validation = X_validation.rename(columns={storm_number: modified_storm_number})\n",
    "                #y_validation = pd.concat([y_validation, mean_instantaneous_10m_wind_gust[storm_number]], axis=1)\n",
    "            else:\n",
    "                X_test = pd.concat([X_test, locals()[f'mean_{x_var}'][storm_number]], axis=1)\n",
    "                X_test = X_test.rename(columns={storm_number: modified_storm_number})\n",
    "                #y_test = pd.concat([y_test, locals()[f'mean_instantaneous_10m_wind_gust'][storm_number]], axis=1)\n",
    "        else:\n",
    "            X_train = pd.concat([X_train, locals()[f'mean_{x_var}'][storm_number]], axis=1)\n",
    "            X_train = X_train.rename(columns={storm_number: modified_storm_number})\n",
    "            #y_train = pd.concat([y_train, locals()[f'mean_instantaneous_10m_wind_gust'][storm_number]], axis=1)\n",
    "\n",
    "for storm_number in mean_instantaneous_10m_wind_gust.columns:\n",
    "    modified_storm_number = f\"mean_instantaneous_10m_wind_gust_{storm_number}\"\n",
    "    if int(storm_number.split('_')[1]) in test_storm_index:\n",
    "        if int(storm_number.split('_')[1]) in validation_storm_index:\n",
    "            y_validation = pd.concat([y_validation, mean_instantaneous_10m_wind_gust[storm_number]], axis=1)\n",
    "            y_validation = y_validation.rename(columns={storm_number: modified_storm_number})\n",
    "        else:\n",
    "            y_test = pd.concat([y_test, mean_instantaneous_10m_wind_gust[storm_number]], axis=1)\n",
    "            y_test = y_test.rename(columns={storm_number: modified_storm_number})\n",
    "    else:\n",
    "        y_train = pd.concat([y_train, mean_instantaneous_10m_wind_gust[storm_number]], axis=1)\n",
    "        y_train = y_train.rename(columns={storm_number: modified_storm_number})\n",
    "\n",
    "\n",
    "'''df = mean_large_scale_precipitation\n",
    "df = df.rename(columns={'0':'mean_large_scale_precipitation'})\n",
    "#df['mean_large_scale_precipitation'] = mean_large_scale_precipitation\n",
    "df['mean_total_precipitation'] = mean_total_precipitation\n",
    "df['mean_mean_large_scale_precipitation_rate'] = mean_mean_large_scale_precipitation_rate\n",
    "df['mean_large_scale_snowfall'] = mean_large_scale_snowfall\n",
    "'''"
   ]
  },
  {
   "cell_type": "code",
   "execution_count": 9,
   "metadata": {},
   "outputs": [
    {
     "data": {
      "text/plain": [
       "'combined_df = combine_columns(df)\\nprint(combined_df)'"
      ]
     },
     "execution_count": 9,
     "metadata": {},
     "output_type": "execute_result"
    }
   ],
   "source": [
    "def combine_columns(df):\n",
    "    # Extract variable names from column names\n",
    "    columns_info = [col.rsplit('_', 2) for col in df.columns]\n",
    "    \n",
    "    # Create a dictionary to hold grouped columns\n",
    "    grouped_columns = {}\n",
    "    for var, unit, storm in columns_info:\n",
    "        variable_name = f\"{var}\"#_{unit}\"\n",
    "        if variable_name not in grouped_columns:\n",
    "            grouped_columns[variable_name] = []\n",
    "        grouped_columns[variable_name].append(f\"{var}_{unit}_{storm}\")\n",
    "    \n",
    "    # Create a new dataframe to hold the combined columns\n",
    "    combined_df = pd.DataFrame()\n",
    "    \n",
    "    for variable, cols in grouped_columns.items():\n",
    "        # Combine the columns for each variable\n",
    "        combined_variable_df = pd.concat([df[col] for col in cols], ignore_index=True) #.dropna()\n",
    "        combined_df[variable] = combined_variable_df\n",
    "        #combined_df = combined_df.dropna(axis=0, how='any')\n",
    "    \n",
    "    return combined_df\n",
    "\n",
    "# Example usage\n",
    "'''data = {\n",
    "    '2m_dewpoint_temperature_storm_1': [1, 2, None, 4],\n",
    "    '2m_dewpoint_temperature_storm_2': [None, 5, 6, None],\n",
    "    '2m_dewpoint_temperature_storm_3': [7, None, 9, 10],\n",
    "    'other_variable_storm_1': [10, 20, 30, 40],\n",
    "    'other_variable_storm_2': [None, 25, 35, None],\n",
    "}\n",
    "\n",
    "df = pd.DataFrame(data)'''\n",
    "'''combined_df = combine_columns(df)\n",
    "print(combined_df)'''"
   ]
  },
  {
   "cell_type": "code",
   "execution_count": 10,
   "metadata": {},
   "outputs": [],
   "source": [
    "#target_variable = mean_instantaneous_10m_wind_gust\n",
    "\n",
    "\n",
    "'''X_train_reshape = X_train.values.reshape((X_train.shape[0], X_train.shape[1]))\n",
    "X_test_reshape = X_test.values.reshape((X_test.shape[0], X_test.shape[1]))\n",
    "y_train_reshape = y_train.values.reshape((y_train.shape[0], y_train.shape[1]))\n",
    "y_test_reshape = y_test.values.reshape((y_test.shape[0], y_test.shape[1]))'''\n",
    "\n",
    "# reshape all X and y such as the shape is (all the storms, all the variables)\n",
    "# Merge the columns\n",
    "\n",
    "X_train_new= combine_columns(X_train)\n",
    "X_test_new= combine_columns(X_test)\n",
    "X_validation_new= combine_columns(X_validation)\n",
    "\n",
    "y_train_new= combine_columns(y_train)\n",
    "y_test_new= combine_columns(y_test)\n",
    "y_validation_new= combine_columns(y_validation)\n",
    "\n",
    "# drop the convective inhibition and cloud_base_height\n",
    "X_train_new = X_train_new.drop(columns = ['convective_inhibition','cloud_base_height'])\n",
    "X_test_new = X_test_new.drop(columns = ['convective_inhibition','cloud_base_height'])\n",
    "X_validation_new = X_validation_new.drop(columns = ['convective_inhibition','cloud_base_height'])\n",
    "new_name_of_variables.remove('convective_inhibition')\n",
    "new_name_of_variables.remove('cloud_base_height')"
   ]
  },
  {
   "cell_type": "code",
   "execution_count": 11,
   "metadata": {},
   "outputs": [
    {
     "data": {
      "text/plain": [
       "\"X_train_new['target'] = y_train_new\\nX_train_new = X_train_new.dropna()\\ny_train_new = X_train_new['target']\\nX_train_new = X_train_new.drop(columns = ['target'])\\n\\nX_test_new['target'] = y_test_new\\nX_test_new = X_test_new.dropna()\\ny_test_new = X_test_new['target']\\nX_test_new = X_test_new.drop(columns = ['target'])\\n\\nX_validation_new['target'] = y_validation_new\\nX_validation_new = X_validation_new.dropna()\\ny_validation_new = X_validation_new['target']\\nX_validation_new = X_validation_new.drop(columns = ['target'])\\n\\n# check the shape of the new X and y\\nprint(X_train_new.shape, y_train_new.shape)\\nprint(X_test_new.shape, y_test_new.shape)\\nprint(X_validation_new.shape, y_validation_new.shape)\""
      ]
     },
     "execution_count": 11,
     "metadata": {},
     "output_type": "execute_result"
    }
   ],
   "source": [
    "# drop nan values by merging the X and y\n",
    "\n",
    "def drop_nan(X, y):\n",
    "    X['target'] = y\n",
    "    X = X.dropna()\n",
    "    y = X['target']\n",
    "    X = X.drop(columns = ['target'])\n",
    "    return X, y\n",
    "\n",
    "X_train_new, y_train_new = drop_nan(X_train_new, y_train_new)\n",
    "X_test_new, y_test_new = drop_nan(X_test_new, y_test_new)\n",
    "X_validation_new, y_validation_new = drop_nan(X_validation_new, y_validation_new)\n",
    "\n",
    "'''X_train_new['target'] = y_train_new\n",
    "X_train_new = X_train_new.dropna()\n",
    "y_train_new = X_train_new['target']\n",
    "X_train_new = X_train_new.drop(columns = ['target'])\n",
    "\n",
    "X_test_new['target'] = y_test_new\n",
    "X_test_new = X_test_new.dropna()\n",
    "y_test_new = X_test_new['target']\n",
    "X_test_new = X_test_new.drop(columns = ['target'])\n",
    "\n",
    "X_validation_new['target'] = y_validation_new\n",
    "X_validation_new = X_validation_new.dropna()\n",
    "y_validation_new = X_validation_new['target']\n",
    "X_validation_new = X_validation_new.drop(columns = ['target'])\n",
    "\n",
    "# check the shape of the new X and y\n",
    "print(X_train_new.shape, y_train_new.shape)\n",
    "print(X_test_new.shape, y_test_new.shape)\n",
    "print(X_validation_new.shape, y_validation_new.shape)'''"
   ]
  },
  {
   "cell_type": "code",
   "execution_count": 22,
   "metadata": {},
   "outputs": [
    {
     "name": "stdout",
     "output_type": "stream",
     "text": [
      "./LSTM_basic_logs/run_007\n"
     ]
    }
   ],
   "source": [
    "run_index = 7 # it should be an integer, e.g. 1\n",
    "\n",
    "run_logdir = os.path.join(os.curdir, \"LSTM_basic_logs/\", \"run_{:03d}\".format(run_index))\n",
    "\n",
    "print(run_logdir)"
   ]
  },
  {
   "cell_type": "code",
   "execution_count": 23,
   "metadata": {},
   "outputs": [],
   "source": [
    "# Define callbacks (they can really improve the accuracy if well-chosen!)\n",
    "import tensorflow as tf\n",
    "\n",
    "early_stopping_cb = tf.keras.callbacks.EarlyStopping(patience=20)\n",
    "checkpoint_cb = tf.keras.callbacks.ModelCheckpoint(\"model.h5\", \n",
    "                                                   save_best_only=True,\n",
    "                                                   monitor='loss')\n",
    "tensorboard_cb = tf.keras.callbacks.TensorBoard(run_logdir)"
   ]
  },
  {
   "cell_type": "code",
   "execution_count": 26,
   "metadata": {},
   "outputs": [
    {
     "name": "stdout",
     "output_type": "stream",
     "text": [
      "Epoch 1/200\n",
      "100/100 [==============================] - 1s 6ms/step - loss: 1698266.8750 - val_loss: 272788.5625\n",
      "Epoch 2/200\n",
      "100/100 [==============================] - 0s 5ms/step - loss: 993199.6875 - val_loss: 241898.0469\n",
      "Epoch 3/200\n",
      "100/100 [==============================] - 0s 5ms/step - loss: 128317.9766 - val_loss: 105662.0156\n",
      "Epoch 4/200\n",
      "100/100 [==============================] - 0s 5ms/step - loss: 26256.8555 - val_loss: 74886.2109\n",
      "Epoch 5/200\n",
      "100/100 [==============================] - 0s 4ms/step - loss: 30029.6465 - val_loss: 354180.7188\n",
      "Epoch 6/200\n",
      "100/100 [==============================] - 0s 4ms/step - loss: 116372.4922 - val_loss: 60381.1953\n",
      "Epoch 7/200\n",
      "100/100 [==============================] - 0s 5ms/step - loss: 42885.3164 - val_loss: 39518.8750\n",
      "Epoch 8/200\n",
      "100/100 [==============================] - 0s 4ms/step - loss: 14785.0488 - val_loss: 18054.3848\n",
      "Epoch 9/200\n",
      "100/100 [==============================] - 0s 4ms/step - loss: 7617.9141 - val_loss: 8605.3262\n",
      "Epoch 10/200\n",
      "100/100 [==============================] - 0s 4ms/step - loss: 5602.9121 - val_loss: 7526.0532\n",
      "Epoch 11/200\n",
      "100/100 [==============================] - 0s 5ms/step - loss: 8559.9961 - val_loss: 32763.5742\n",
      "Epoch 12/200\n",
      "100/100 [==============================] - 0s 5ms/step - loss: 17164.4336 - val_loss: 16740.7773\n",
      "Epoch 13/200\n",
      "100/100 [==============================] - 0s 4ms/step - loss: 9414.5215 - val_loss: 12395.1279\n",
      "Epoch 14/200\n",
      "100/100 [==============================] - 0s 4ms/step - loss: 6906.5249 - val_loss: 6979.5020\n",
      "Epoch 15/200\n",
      "100/100 [==============================] - 0s 5ms/step - loss: 3725.4932 - val_loss: 2614.2256\n",
      "Epoch 16/200\n",
      "100/100 [==============================] - 0s 4ms/step - loss: 3704.9849 - val_loss: 28545.8555\n",
      "Epoch 17/200\n",
      "100/100 [==============================] - 0s 4ms/step - loss: 29975.6855 - val_loss: 12677.2012\n",
      "Epoch 18/200\n",
      "100/100 [==============================] - 0s 5ms/step - loss: 21013.4727 - val_loss: 2437.7107\n",
      "Epoch 19/200\n",
      "100/100 [==============================] - 0s 4ms/step - loss: 82929.3047 - val_loss: 5736.0703\n",
      "Epoch 20/200\n",
      "100/100 [==============================] - 0s 4ms/step - loss: 6695.5068 - val_loss: 3899.1440\n",
      "Epoch 21/200\n",
      "100/100 [==============================] - 0s 4ms/step - loss: 3073.9189 - val_loss: 3024.8325\n",
      "Epoch 22/200\n",
      "100/100 [==============================] - 0s 4ms/step - loss: 2398.6147 - val_loss: 2818.6189\n",
      "Epoch 23/200\n",
      "100/100 [==============================] - 0s 4ms/step - loss: 2176.8643 - val_loss: 2346.9314\n",
      "Epoch 24/200\n",
      "100/100 [==============================] - 0s 4ms/step - loss: 1951.7898 - val_loss: 2413.8862\n",
      "Epoch 25/200\n",
      "100/100 [==============================] - 0s 4ms/step - loss: 1756.6171 - val_loss: 2101.1484\n",
      "Epoch 26/200\n",
      "100/100 [==============================] - 0s 4ms/step - loss: 1650.5908 - val_loss: 1665.3654\n",
      "Epoch 27/200\n",
      "100/100 [==============================] - 0s 4ms/step - loss: 1509.0264 - val_loss: 2328.5935\n",
      "Epoch 28/200\n",
      "100/100 [==============================] - 0s 5ms/step - loss: 1754.3177 - val_loss: 1842.3091\n",
      "Epoch 29/200\n",
      "100/100 [==============================] - 0s 4ms/step - loss: 1295.3625 - val_loss: 1156.7904\n",
      "Epoch 30/200\n",
      "100/100 [==============================] - 0s 5ms/step - loss: 890.7996 - val_loss: 918.1912\n",
      "Epoch 31/200\n",
      "100/100 [==============================] - 0s 4ms/step - loss: 690.6456 - val_loss: 737.6562\n",
      "Epoch 32/200\n",
      "100/100 [==============================] - 0s 5ms/step - loss: 615.6037 - val_loss: 693.9562\n",
      "Epoch 33/200\n",
      "100/100 [==============================] - 0s 5ms/step - loss: 566.8619 - val_loss: 749.9089\n",
      "Epoch 34/200\n",
      "100/100 [==============================] - 0s 5ms/step - loss: 594.7661 - val_loss: 727.2239\n",
      "Epoch 35/200\n",
      "100/100 [==============================] - 0s 4ms/step - loss: 550.9046 - val_loss: 623.0551\n",
      "Epoch 36/200\n",
      "100/100 [==============================] - 0s 4ms/step - loss: 512.3783 - val_loss: 570.3012\n",
      "Epoch 37/200\n",
      "100/100 [==============================] - 0s 5ms/step - loss: 663.0843 - val_loss: 638.4232\n",
      "Epoch 38/200\n",
      "100/100 [==============================] - 0s 5ms/step - loss: 502.6162 - val_loss: 595.6058\n",
      "Epoch 39/200\n",
      "100/100 [==============================] - 0s 5ms/step - loss: 3830.5603 - val_loss: 9518.5947\n",
      "Epoch 40/200\n",
      "100/100 [==============================] - 0s 5ms/step - loss: 4233.3188 - val_loss: 8190.7856\n",
      "Epoch 41/200\n",
      "100/100 [==============================] - 1s 6ms/step - loss: 3832.8718 - val_loss: 7090.8481\n",
      "Epoch 42/200\n",
      "100/100 [==============================] - 1s 5ms/step - loss: 3202.9468 - val_loss: 6437.5088\n",
      "Epoch 43/200\n",
      "100/100 [==============================] - 0s 5ms/step - loss: 2712.7903 - val_loss: 6024.3765\n",
      "Epoch 44/200\n",
      "100/100 [==============================] - 0s 5ms/step - loss: 2410.9651 - val_loss: 5130.8579\n",
      "Epoch 45/200\n",
      "100/100 [==============================] - 0s 5ms/step - loss: 2099.4321 - val_loss: 2900.7131\n",
      "Epoch 46/200\n",
      "100/100 [==============================] - 0s 5ms/step - loss: 2122.5562 - val_loss: 2728.8435\n",
      "Epoch 47/200\n",
      "100/100 [==============================] - 0s 5ms/step - loss: 1661.0842 - val_loss: 4501.4668\n",
      "Epoch 48/200\n",
      "100/100 [==============================] - 0s 5ms/step - loss: 2122.3833 - val_loss: 7958.4800\n",
      "Epoch 49/200\n",
      "100/100 [==============================] - 0s 5ms/step - loss: 2906.7957 - val_loss: 3078.0098\n",
      "Epoch 50/200\n",
      "100/100 [==============================] - 0s 5ms/step - loss: 1167.8356 - val_loss: 4333.4214\n",
      "Epoch 51/200\n",
      "100/100 [==============================] - 0s 5ms/step - loss: 1098.9911 - val_loss: 2419.4392\n",
      "Epoch 52/200\n",
      "100/100 [==============================] - 0s 5ms/step - loss: 935.0217 - val_loss: 2292.9106\n",
      "Epoch 53/200\n",
      "100/100 [==============================] - 0s 5ms/step - loss: 1105.3094 - val_loss: 2235.2444\n",
      "Epoch 54/200\n",
      "100/100 [==============================] - 0s 4ms/step - loss: 980.3011 - val_loss: 1951.9453\n",
      "Epoch 55/200\n",
      "100/100 [==============================] - 0s 5ms/step - loss: 625.1943 - val_loss: 1681.3420\n",
      "Epoch 56/200\n",
      "100/100 [==============================] - 0s 4ms/step - loss: 575.8810 - val_loss: 1378.8796\n",
      "26/26 [==============================] - 0s 1ms/step\n"
     ]
    }
   ],
   "source": [
    "from tensorflow.keras.models import Sequential\n",
    "from tensorflow.keras.layers import LSTM, Dense\n",
    "\n",
    "# Définir le modèle\n",
    "'''X = df #pd.concat([locals()[f'{x_var}']['0'] for x_var in variable_w_high_corr if f'{x_var}' in locals()], axis=1)\n",
    "X_train, X_test, y_train, y_test = train_test_split(X, target_variable, test_size=0.2, random_state=42)\n",
    "'''\n",
    "model = Sequential()\n",
    "# Ajouter le nombre de variables à haute corrélation comme variable indépendante\n",
    "model.add(LSTM(50, activation='relu', input_shape=(X_train_new.shape[1], 1)))\n",
    "model.add(Dense(1))\n",
    "\n",
    "# Diviser les données en ensembles de formation et de test\n",
    "#X_train, X_test, y_train, y_test = train_test_split(X, target_variable, test_size=0.2, random_state=42)\n",
    "\n",
    "# Compiler le modèle\n",
    "model.compile(optimizer='adam', loss='mse')\n",
    "\n",
    "# Redimensionner les données pour LSTM\n",
    "'''if len(X_train.shape) == 2:\n",
    "    X_train = X_train.values.reshape((X_train.shape[0], X_train.shape[1]))\n",
    "    X_test = X_test.values.reshape((X_test.shape[0], X_test.shape[1]))\n",
    "    y_train = y_train.values.reshape((y_train.shape[0], y_train.shape[1]))\n",
    "    y_test = y_test.values.reshape((y_test.shape[0], y_test.shape[1]))'''\n",
    "\n",
    "# Entraîner le modèle\n",
    "model.fit(X_train_new, y_train_new, \n",
    "          epochs=200, \n",
    "          verbose=1, \n",
    "          use_multiprocessing=True, \n",
    "          validation_data=(X_validation_new, y_validation_new), \n",
    "          callbacks=[early_stopping_cb, checkpoint_cb, tensorboard_cb])\n",
    "\n",
    "# Faire des prédictions\n",
    "y_pred = model.predict(X_test_new)"
   ]
  },
  {
   "cell_type": "code",
   "execution_count": null,
   "metadata": {},
   "outputs": [],
   "source": [
    "#%tensorboard --logdir=./LSTM_basic_logs --port=1234\n",
    "# to launch tensorboard in the terminal\n",
    "#tensorboard --logdir=/Users/fabienaugsburger/Documents/GitHub/master-project/case_study/LSTM_basic_logs --port=1234"
   ]
  },
  {
   "cell_type": "code",
   "execution_count": 38,
   "metadata": {},
   "outputs": [],
   "source": [
    "new = pd.DataFrame(y_pred)\n",
    "new = new.rename(columns={0: 'y_pred'})\n",
    "new = new.reset_index(drop=True)\n",
    "new = new.set_index(X_test_new.index)"
   ]
  },
  {
   "cell_type": "code",
   "execution_count": 17,
   "metadata": {},
   "outputs": [
    {
     "name": "stdout",
     "output_type": "stream",
     "text": [
      "100/100 [==============================] - 0s 1ms/step\n"
     ]
    }
   ],
   "source": [
    "y_pred_train = model.predict(X_train_new)\n",
    "\n",
    "new_train = pd.DataFrame(y_pred_train)\n",
    "new_train = new_train.rename(columns={0: 'y_pred'})\n",
    "new_train = new_train.reset_index(drop=True)\n",
    "new_train = new_train.set_index(X_train_new.index)"
   ]
  },
  {
   "cell_type": "code",
   "execution_count": 42,
   "metadata": {},
   "outputs": [
    {
     "name": "stderr",
     "output_type": "stream",
     "text": [
      "100%|██████████| 1/1 [00:00<00:00, 56.91it/s]\n"
     ]
    },
    {
     "ename": "TypeError",
     "evalue": "'numpy.float64' object is not iterable",
     "output_type": "error",
     "traceback": [
      "\u001b[0;31m---------------------------------------------------------------------------\u001b[0m",
      "\u001b[0;31mTypeError\u001b[0m                                 Traceback (most recent call last)",
      "Cell \u001b[0;32mIn[42], line 15\u001b[0m\n\u001b[1;32m     12\u001b[0m explainer \u001b[38;5;241m=\u001b[39m shap\u001b[38;5;241m.\u001b[39mKernelExplainer(model, X_sample, feature_names\u001b[38;5;241m=\u001b[39mX_sample\u001b[38;5;241m.\u001b[39mcolumns)\n\u001b[1;32m     13\u001b[0m shap_values \u001b[38;5;241m=\u001b[39m explainer(X_sample)\n\u001b[0;32m---> 15\u001b[0m shap\u001b[38;5;241m.\u001b[39mplots\u001b[38;5;241m.\u001b[39mbar(shap_values[\u001b[38;5;241m0\u001b[39m])\n",
      "File \u001b[0;32m~/anaconda3/envs/tensor_flow/lib/python3.11/site-packages/shap/plots/_bar.py:290\u001b[0m, in \u001b[0;36mbar\u001b[0;34m(shap_values, max_display, order, clustering, clustering_cutoff, show_data, ax, show)\u001b[0m\n\u001b[1;32m    287\u001b[0m     ax\u001b[38;5;241m.\u001b[39maxhline(i\u001b[38;5;241m+\u001b[39m\u001b[38;5;241m1\u001b[39m, color\u001b[38;5;241m=\u001b[39m\u001b[38;5;124m\"\u001b[39m\u001b[38;5;124m#888888\u001b[39m\u001b[38;5;124m\"\u001b[39m, lw\u001b[38;5;241m=\u001b[39m\u001b[38;5;241m0.5\u001b[39m, dashes\u001b[38;5;241m=\u001b[39m(\u001b[38;5;241m1\u001b[39m, \u001b[38;5;241m5\u001b[39m), zorder\u001b[38;5;241m=\u001b[39m\u001b[38;5;241m-\u001b[39m\u001b[38;5;241m1\u001b[39m)\n\u001b[1;32m    289\u001b[0m \u001b[38;5;28;01mif\u001b[39;00m features \u001b[38;5;129;01mis\u001b[39;00m \u001b[38;5;129;01mnot\u001b[39;00m \u001b[38;5;28;01mNone\u001b[39;00m:\n\u001b[0;32m--> 290\u001b[0m     features \u001b[38;5;241m=\u001b[39m \u001b[38;5;28mlist\u001b[39m(features)\n\u001b[1;32m    292\u001b[0m     \u001b[38;5;66;03m# try and round off any trailing zeros after the decimal point in the feature values\u001b[39;00m\n\u001b[1;32m    293\u001b[0m     \u001b[38;5;28;01mfor\u001b[39;00m i \u001b[38;5;129;01min\u001b[39;00m \u001b[38;5;28mrange\u001b[39m(\u001b[38;5;28mlen\u001b[39m(features)):\n",
      "\u001b[0;31mTypeError\u001b[0m: 'numpy.float64' object is not iterable"
     ]
    },
    {
     "data": {
      "image/png": "[encoded data removed]",
      "text/plain": [
       "<Figure size 800x200 with 1 Axes>"
      ]
     },
     "metadata": {},
     "output_type": "display_data"
    }
   ],
   "source": [
    "# use shapely to calculate the shap values\n",
    "\n",
    "import shap\n",
    "\n",
    "# Sample a subset of the data\n",
    "sample_size = 1  # Adjust this to a size your machine can handle\n",
    "X_sample = X_test_new.sample(sample_size, random_state=42)\n",
    "new_sample = new.loc[X_sample.index]\n",
    "\n",
    "# see the explanation for the model's predictions using SHAP\n",
    "#explainer = shap.DeepExplainer(model, X_test_new)\n",
    "explainer = shap.KernelExplainer(model, X_sample, feature_names=X_sample.columns)\n",
    "shap_values = explainer(X_sample)\n",
    "\n",
    "shap.plots.bar(shap_values[0])\n"
   ]
  },
  {
   "cell_type": "code",
   "execution_count": 21,
   "metadata": {},
   "outputs": [
    {
     "ename": "TypeError",
     "evalue": "'numpy.float64' object is not iterable",
     "output_type": "error",
     "traceback": [
      "\u001b[0;31m---------------------------------------------------------------------------\u001b[0m",
      "\u001b[0;31mTypeError\u001b[0m                                 Traceback (most recent call last)",
      "Cell \u001b[0;32mIn[21], line 2\u001b[0m\n\u001b[1;32m      1\u001b[0m \u001b[38;5;28;01mfor\u001b[39;00m i \u001b[38;5;129;01min\u001b[39;00m \u001b[38;5;28mrange\u001b[39m(\u001b[38;5;241m0\u001b[39m, \u001b[38;5;28mlen\u001b[39m(new_name_of_variables)):\n\u001b[0;32m----> 2\u001b[0m     shap\u001b[38;5;241m.\u001b[39mplots\u001b[38;5;241m.\u001b[39mbar(shap_values[i], max_display\u001b[38;5;241m=\u001b[39m\u001b[38;5;241m10\u001b[39m)\n",
      "File \u001b[0;32m~/anaconda3/envs/tensor_flow/lib/python3.11/site-packages/shap/plots/_bar.py:290\u001b[0m, in \u001b[0;36mbar\u001b[0;34m(shap_values, max_display, order, clustering, clustering_cutoff, show_data, ax, show)\u001b[0m\n\u001b[1;32m    287\u001b[0m     ax\u001b[38;5;241m.\u001b[39maxhline(i\u001b[38;5;241m+\u001b[39m\u001b[38;5;241m1\u001b[39m, color\u001b[38;5;241m=\u001b[39m\u001b[38;5;124m\"\u001b[39m\u001b[38;5;124m#888888\u001b[39m\u001b[38;5;124m\"\u001b[39m, lw\u001b[38;5;241m=\u001b[39m\u001b[38;5;241m0.5\u001b[39m, dashes\u001b[38;5;241m=\u001b[39m(\u001b[38;5;241m1\u001b[39m, \u001b[38;5;241m5\u001b[39m), zorder\u001b[38;5;241m=\u001b[39m\u001b[38;5;241m-\u001b[39m\u001b[38;5;241m1\u001b[39m)\n\u001b[1;32m    289\u001b[0m \u001b[38;5;28;01mif\u001b[39;00m features \u001b[38;5;129;01mis\u001b[39;00m \u001b[38;5;129;01mnot\u001b[39;00m \u001b[38;5;28;01mNone\u001b[39;00m:\n\u001b[0;32m--> 290\u001b[0m     features \u001b[38;5;241m=\u001b[39m \u001b[38;5;28mlist\u001b[39m(features)\n\u001b[1;32m    292\u001b[0m     \u001b[38;5;66;03m# try and round off any trailing zeros after the decimal point in the feature values\u001b[39;00m\n\u001b[1;32m    293\u001b[0m     \u001b[38;5;28;01mfor\u001b[39;00m i \u001b[38;5;129;01min\u001b[39;00m \u001b[38;5;28mrange\u001b[39m(\u001b[38;5;28mlen\u001b[39m(features)):\n",
      "\u001b[0;31mTypeError\u001b[0m: 'numpy.float64' object is not iterable"
     ]
    },
    {
     "data": {
      "image/png": "[encoded data removed]",
      "text/plain": [
       "<Figure size 800x200 with 1 Axes>"
      ]
     },
     "metadata": {},
     "output_type": "display_data"
    }
   ],
   "source": [
    "for i in range(0, len(new_name_of_variables)):\n",
    "    shap.plots.bar(shap_values[i], max_display=10)\n"
   ]
  },
  {
   "cell_type": "code",
   "execution_count": 82,
   "metadata": {},
   "outputs": [
    {
     "name": "stderr",
     "output_type": "stream",
     "text": [
      " 10%|█         | 3/30 [00:03<00:33,  1.24s/it]"
     ]
    },
    {
     "ename": "",
     "evalue": "",
     "output_type": "error",
     "traceback": [
      "\u001b[1;31mLe noyau s’est bloqué lors de l’exécution du code dans une cellule active ou une cellule précédente. \n",
      "\u001b[1;31mVeuillez vérifier le code dans la ou les cellules pour identifier une cause possible de l’échec. \n",
      "\u001b[1;31mCliquez <a href='https://aka.ms/vscodeJupyterKernelCrash'>ici</a> pour plus d’informations. \n",
      "\u001b[1;31mPour plus d’informations, consultez Jupyter <a href='command:jupyter.viewOutput'>log</a>."
     ]
    }
   ],
   "source": [
    "# Utilisation de DeepExplainer pour expliquer les prédictions du modèle\n",
    "background = X_sample\n",
    "explainer = shap.KernelExplainer(model, background)\n",
    "shap_values = explainer.shap_values(X_sample)\n",
    "\n",
    "# Utilisation de shap.plots.bar pour visualiser l'importance des features\n",
    "shap.plots.bar(shap_values[0])"
   ]
  },
  {
   "cell_type": "code",
   "execution_count": 39,
   "metadata": {},
   "outputs": [
    {
     "ename": "NameError",
     "evalue": "name 'shape_values' is not defined",
     "output_type": "error",
     "traceback": [
      "\u001b[0;31m---------------------------------------------------------------------------\u001b[0m",
      "\u001b[0;31mNameError\u001b[0m                                 Traceback (most recent call last)",
      "Cell \u001b[0;32mIn[39], line 1\u001b[0m\n\u001b[0;32m----> 1\u001b[0m shape_values(X_sample, npermutations\u001b[38;5;241m=\u001b[39m\u001b[38;5;241m100\u001b[39m)\n",
      "\u001b[0;31mNameError\u001b[0m: name 'shape_values' is not defined"
     ]
    }
   ],
   "source": [
    "shape_values(X_sample, npermutations=100)   "
   ]
  },
  {
   "cell_type": "code",
   "execution_count": 43,
   "metadata": {},
   "outputs": [
    {
     "name": "stdout",
     "output_type": "stream",
     "text": [
      "(1, 26, 1)\n"
     ]
    }
   ],
   "source": [
    "# look at the shap values for the first prediction\n",
    "print(np.asarray(shap_values[:].values).shape)\n",
    "test = np.squeeze(np.asarray(shap_values[:].values))\n",
    "test_m = np.mean(test, axis=0)\n",
    "#shap.plots.waterfall(shap_values[])\n"
   ]
  },
  {
   "cell_type": "code",
   "execution_count": 25,
   "metadata": {},
   "outputs": [
    {
     "data": {
      "image/png": "[encoded data removed]",
      "text/plain": [
       "<Figure size 640x480 with 1 Axes>"
      ]
     },
     "metadata": {},
     "output_type": "display_data"
    }
   ],
   "source": [
    "# plot the results \n",
    "\n",
    "import matplotlib.pyplot as plt\n",
    "plt.plot(np.squeeze(y_train_new), label='True', lw=0, marker='x')\n",
    "plt.plot(new_train, label='Predicted')\n",
    "plt.ylim(0, 50)\n",
    "plt.xlim(1000,1500)\n",
    "plt.legend()\n",
    "plt.show()"
   ]
  },
  {
   "cell_type": "code",
   "execution_count": 27,
   "metadata": {},
   "outputs": [
    {
     "name": "stdout",
     "output_type": "stream",
     "text": [
      "100/100 [==============================] - 0s 1ms/step\n"
     ]
    },
    {
     "ename": "BrokenProcessPool",
     "evalue": "A task has failed to un-serialize. Please ensure that the arguments of the function are all picklable.",
     "output_type": "error",
     "traceback": [
      "\u001b[0;31m---------------------------------------------------------------------------\u001b[0m",
      "\u001b[0;31m_RemoteTraceback\u001b[0m                          Traceback (most recent call last)",
      "\u001b[0;31m_RemoteTraceback\u001b[0m: \n\"\"\"\nTraceback (most recent call last):\n  File \"/Users/fabienaugsburger/anaconda3/envs/tensor_flow/lib/python3.11/site-packages/joblib/externals/loky/process_executor.py\", line 426, in _process_worker\n    call_item = call_queue.get(block=True, timeout=timeout)\n                ^^^^^^^^^^^^^^^^^^^^^^^^^^^^^^^^^^^^^^^^^^^\n  File \"/Users/fabienaugsburger/anaconda3/envs/tensor_flow/lib/python3.11/multiprocessing/queues.py\", line 122, in get\n    return _ForkingPickler.loads(res)\n           ^^^^^^^^^^^^^^^^^^^^^^^^^^\n  File \"/Users/fabienaugsburger/anaconda3/envs/tensor_flow/lib/python3.11/site-packages/keras/saving/pickle_utils.py\", line 48, in deserialize_model_from_bytecode\n    raise e\n  File \"/Users/fabienaugsburger/anaconda3/envs/tensor_flow/lib/python3.11/site-packages/keras/saving/pickle_utils.py\", line 46, in deserialize_model_from_bytecode\n    model = saving_lib.load_model(filepath, safe_mode=False)\n            ^^^^^^^^^^^^^^^^^^^^^^^^^^^^^^^^^^^^^^^^^^^^^^^^\n  File \"/Users/fabienaugsburger/anaconda3/envs/tensor_flow/lib/python3.11/site-packages/keras/saving/saving_lib.py\", line 277, in load_model\n    raise e\n  File \"/Users/fabienaugsburger/anaconda3/envs/tensor_flow/lib/python3.11/site-packages/keras/saving/saving_lib.py\", line 242, in load_model\n    model = deserialize_keras_object(\n            ^^^^^^^^^^^^^^^^^^^^^^^^^\n  File \"/Users/fabienaugsburger/anaconda3/envs/tensor_flow/lib/python3.11/site-packages/keras/saving/serialization_lib.py\", line 508, in deserialize_keras_object\n    instance.compile_from_config(compile_config)\n  File \"/Users/fabienaugsburger/anaconda3/envs/tensor_flow/lib/python3.11/site-packages/keras/engine/training.py\", line 3392, in compile_from_config\n    self.optimizer.build(self.trainable_variables)\n    ^^^^^^^^^^^^^^^^^^^^\n  File \"/Users/fabienaugsburger/anaconda3/envs/tensor_flow/lib/python3.11/site-packages/keras/optimizers/legacy/optimizer_v2.py\", line 984, in __getattribute__\n    raise e\n  File \"/Users/fabienaugsburger/anaconda3/envs/tensor_flow/lib/python3.11/site-packages/keras/optimizers/legacy/optimizer_v2.py\", line 974, in __getattribute__\n    return super().__getattribute__(name)\n           ^^^^^^^^^^^^^^^^^^^^^^^^^^^^^^\nAttributeError: 'Adam' object has no attribute 'build'\n\"\"\"",
      "\nThe above exception was the direct cause of the following exception:\n",
      "\u001b[0;31mBrokenProcessPool\u001b[0m                         Traceback (most recent call last)",
      "Cell \u001b[0;32mIn[27], line 5\u001b[0m\n\u001b[1;32m      1\u001b[0m \u001b[38;5;66;03m# feature importance \u001b[39;00m\n\u001b[1;32m      3\u001b[0m \u001b[38;5;28;01mfrom\u001b[39;00m \u001b[38;5;21;01msklearn\u001b[39;00m\u001b[38;5;21;01m.\u001b[39;00m\u001b[38;5;21;01minspection\u001b[39;00m \u001b[38;5;28;01mimport\u001b[39;00m permutation_importance\n\u001b[0;32m----> 5\u001b[0m result \u001b[38;5;241m=\u001b[39m permutation_importance(model, X_train_new, y_train_new, n_repeats\u001b[38;5;241m=\u001b[39m\u001b[38;5;241m10\u001b[39m, random_state\u001b[38;5;241m=\u001b[39m\u001b[38;5;241m42\u001b[39m, n_jobs\u001b[38;5;241m=\u001b[39m\u001b[38;5;241m-\u001b[39m\u001b[38;5;241m1\u001b[39m, scoring\u001b[38;5;241m=\u001b[39m\u001b[38;5;124m'\u001b[39m\u001b[38;5;124mneg_root_mean_squared_error\u001b[39m\u001b[38;5;124m'\u001b[39m)\n",
      "File \u001b[0;32m~/anaconda3/envs/tensor_flow/lib/python3.11/site-packages/sklearn/utils/_param_validation.py:213\u001b[0m, in \u001b[0;36mvalidate_params.<locals>.decorator.<locals>.wrapper\u001b[0;34m(*args, **kwargs)\u001b[0m\n\u001b[1;32m    207\u001b[0m \u001b[38;5;28;01mtry\u001b[39;00m:\n\u001b[1;32m    208\u001b[0m     \u001b[38;5;28;01mwith\u001b[39;00m config_context(\n\u001b[1;32m    209\u001b[0m         skip_parameter_validation\u001b[38;5;241m=\u001b[39m(\n\u001b[1;32m    210\u001b[0m             prefer_skip_nested_validation \u001b[38;5;129;01mor\u001b[39;00m global_skip_validation\n\u001b[1;32m    211\u001b[0m         )\n\u001b[1;32m    212\u001b[0m     ):\n\u001b[0;32m--> 213\u001b[0m         \u001b[38;5;28;01mreturn\u001b[39;00m func(\u001b[38;5;241m*\u001b[39margs, \u001b[38;5;241m*\u001b[39m\u001b[38;5;241m*\u001b[39mkwargs)\n\u001b[1;32m    214\u001b[0m \u001b[38;5;28;01mexcept\u001b[39;00m InvalidParameterError \u001b[38;5;28;01mas\u001b[39;00m e:\n\u001b[1;32m    215\u001b[0m     \u001b[38;5;66;03m# When the function is just a wrapper around an estimator, we allow\u001b[39;00m\n\u001b[1;32m    216\u001b[0m     \u001b[38;5;66;03m# the function to delegate validation to the estimator, but we replace\u001b[39;00m\n\u001b[1;32m    217\u001b[0m     \u001b[38;5;66;03m# the name of the estimator by the name of the function in the error\u001b[39;00m\n\u001b[1;32m    218\u001b[0m     \u001b[38;5;66;03m# message to avoid confusion.\u001b[39;00m\n\u001b[1;32m    219\u001b[0m     msg \u001b[38;5;241m=\u001b[39m re\u001b[38;5;241m.\u001b[39msub(\n\u001b[1;32m    220\u001b[0m         \u001b[38;5;124mr\u001b[39m\u001b[38;5;124m\"\u001b[39m\u001b[38;5;124mparameter of \u001b[39m\u001b[38;5;124m\\\u001b[39m\u001b[38;5;124mw+ must be\u001b[39m\u001b[38;5;124m\"\u001b[39m,\n\u001b[1;32m    221\u001b[0m         \u001b[38;5;124mf\u001b[39m\u001b[38;5;124m\"\u001b[39m\u001b[38;5;124mparameter of \u001b[39m\u001b[38;5;132;01m{\u001b[39;00mfunc\u001b[38;5;241m.\u001b[39m\u001b[38;5;18m__qualname__\u001b[39m\u001b[38;5;132;01m}\u001b[39;00m\u001b[38;5;124m must be\u001b[39m\u001b[38;5;124m\"\u001b[39m,\n\u001b[1;32m    222\u001b[0m         \u001b[38;5;28mstr\u001b[39m(e),\n\u001b[1;32m    223\u001b[0m     )\n",
      "File \u001b[0;32m~/anaconda3/envs/tensor_flow/lib/python3.11/site-packages/sklearn/inspection/_permutation_importance.py:292\u001b[0m, in \u001b[0;36mpermutation_importance\u001b[0;34m(estimator, X, y, scoring, n_repeats, n_jobs, random_state, sample_weight, max_samples)\u001b[0m\n\u001b[1;32m    288\u001b[0m     scorer \u001b[38;5;241m=\u001b[39m _MultimetricScorer(scorers\u001b[38;5;241m=\u001b[39mscorers_dict)\n\u001b[1;32m    290\u001b[0m baseline_score \u001b[38;5;241m=\u001b[39m _weights_scorer(scorer, estimator, X, y, sample_weight)\n\u001b[0;32m--> 292\u001b[0m scores \u001b[38;5;241m=\u001b[39m Parallel(n_jobs\u001b[38;5;241m=\u001b[39mn_jobs)(\n\u001b[1;32m    293\u001b[0m     delayed(_calculate_permutation_scores)(\n\u001b[1;32m    294\u001b[0m         estimator,\n\u001b[1;32m    295\u001b[0m         X,\n\u001b[1;32m    296\u001b[0m         y,\n\u001b[1;32m    297\u001b[0m         sample_weight,\n\u001b[1;32m    298\u001b[0m         col_idx,\n\u001b[1;32m    299\u001b[0m         random_seed,\n\u001b[1;32m    300\u001b[0m         n_repeats,\n\u001b[1;32m    301\u001b[0m         scorer,\n\u001b[1;32m    302\u001b[0m         max_samples,\n\u001b[1;32m    303\u001b[0m     )\n\u001b[1;32m    304\u001b[0m     \u001b[38;5;28;01mfor\u001b[39;00m col_idx \u001b[38;5;129;01min\u001b[39;00m \u001b[38;5;28mrange\u001b[39m(X\u001b[38;5;241m.\u001b[39mshape[\u001b[38;5;241m1\u001b[39m])\n\u001b[1;32m    305\u001b[0m )\n\u001b[1;32m    307\u001b[0m \u001b[38;5;28;01mif\u001b[39;00m \u001b[38;5;28misinstance\u001b[39m(baseline_score, \u001b[38;5;28mdict\u001b[39m):\n\u001b[1;32m    308\u001b[0m     \u001b[38;5;28;01mreturn\u001b[39;00m {\n\u001b[1;32m    309\u001b[0m         name: _create_importances_bunch(\n\u001b[1;32m    310\u001b[0m             baseline_score[name],\n\u001b[0;32m   (...)\u001b[0m\n\u001b[1;32m    314\u001b[0m         \u001b[38;5;28;01mfor\u001b[39;00m name \u001b[38;5;129;01min\u001b[39;00m baseline_score\n\u001b[1;32m    315\u001b[0m     }\n",
      "File \u001b[0;32m~/anaconda3/envs/tensor_flow/lib/python3.11/site-packages/sklearn/utils/parallel.py:67\u001b[0m, in \u001b[0;36mParallel.__call__\u001b[0;34m(self, iterable)\u001b[0m\n\u001b[1;32m     62\u001b[0m config \u001b[38;5;241m=\u001b[39m get_config()\n\u001b[1;32m     63\u001b[0m iterable_with_config \u001b[38;5;241m=\u001b[39m (\n\u001b[1;32m     64\u001b[0m     (_with_config(delayed_func, config), args, kwargs)\n\u001b[1;32m     65\u001b[0m     \u001b[38;5;28;01mfor\u001b[39;00m delayed_func, args, kwargs \u001b[38;5;129;01min\u001b[39;00m iterable\n\u001b[1;32m     66\u001b[0m )\n\u001b[0;32m---> 67\u001b[0m \u001b[38;5;28;01mreturn\u001b[39;00m \u001b[38;5;28msuper\u001b[39m()\u001b[38;5;241m.\u001b[39m\u001b[38;5;21m__call__\u001b[39m(iterable_with_config)\n",
      "File \u001b[0;32m~/anaconda3/envs/tensor_flow/lib/python3.11/site-packages/joblib/parallel.py:2007\u001b[0m, in \u001b[0;36mParallel.__call__\u001b[0;34m(self, iterable)\u001b[0m\n\u001b[1;32m   2001\u001b[0m \u001b[38;5;66;03m# The first item from the output is blank, but it makes the interpreter\u001b[39;00m\n\u001b[1;32m   2002\u001b[0m \u001b[38;5;66;03m# progress until it enters the Try/Except block of the generator and\u001b[39;00m\n\u001b[1;32m   2003\u001b[0m \u001b[38;5;66;03m# reach the first `yield` statement. This starts the aynchronous\u001b[39;00m\n\u001b[1;32m   2004\u001b[0m \u001b[38;5;66;03m# dispatch of the tasks to the workers.\u001b[39;00m\n\u001b[1;32m   2005\u001b[0m \u001b[38;5;28mnext\u001b[39m(output)\n\u001b[0;32m-> 2007\u001b[0m \u001b[38;5;28;01mreturn\u001b[39;00m output \u001b[38;5;28;01mif\u001b[39;00m \u001b[38;5;28mself\u001b[39m\u001b[38;5;241m.\u001b[39mreturn_generator \u001b[38;5;28;01melse\u001b[39;00m \u001b[38;5;28mlist\u001b[39m(output)\n",
      "File \u001b[0;32m~/anaconda3/envs/tensor_flow/lib/python3.11/site-packages/joblib/parallel.py:1650\u001b[0m, in \u001b[0;36mParallel._get_outputs\u001b[0;34m(self, iterator, pre_dispatch)\u001b[0m\n\u001b[1;32m   1647\u001b[0m     \u001b[38;5;28;01myield\u001b[39;00m\n\u001b[1;32m   1649\u001b[0m     \u001b[38;5;28;01mwith\u001b[39;00m \u001b[38;5;28mself\u001b[39m\u001b[38;5;241m.\u001b[39m_backend\u001b[38;5;241m.\u001b[39mretrieval_context():\n\u001b[0;32m-> 1650\u001b[0m         \u001b[38;5;28;01myield from\u001b[39;00m \u001b[38;5;28mself\u001b[39m\u001b[38;5;241m.\u001b[39m_retrieve()\n\u001b[1;32m   1652\u001b[0m \u001b[38;5;28;01mexcept\u001b[39;00m \u001b[38;5;167;01mGeneratorExit\u001b[39;00m:\n\u001b[1;32m   1653\u001b[0m     \u001b[38;5;66;03m# The generator has been garbage collected before being fully\u001b[39;00m\n\u001b[1;32m   1654\u001b[0m     \u001b[38;5;66;03m# consumed. This aborts the remaining tasks if possible and warn\u001b[39;00m\n\u001b[1;32m   1655\u001b[0m     \u001b[38;5;66;03m# the user if necessary.\u001b[39;00m\n\u001b[1;32m   1656\u001b[0m     \u001b[38;5;28mself\u001b[39m\u001b[38;5;241m.\u001b[39m_exception \u001b[38;5;241m=\u001b[39m \u001b[38;5;28;01mTrue\u001b[39;00m\n",
      "File \u001b[0;32m~/anaconda3/envs/tensor_flow/lib/python3.11/site-packages/joblib/parallel.py:1754\u001b[0m, in \u001b[0;36mParallel._retrieve\u001b[0;34m(self)\u001b[0m\n\u001b[1;32m   1747\u001b[0m \u001b[38;5;28;01mwhile\u001b[39;00m \u001b[38;5;28mself\u001b[39m\u001b[38;5;241m.\u001b[39m_wait_retrieval():\n\u001b[1;32m   1748\u001b[0m \n\u001b[1;32m   1749\u001b[0m     \u001b[38;5;66;03m# If the callback thread of a worker has signaled that its task\u001b[39;00m\n\u001b[1;32m   1750\u001b[0m     \u001b[38;5;66;03m# triggered an exception, or if the retrieval loop has raised an\u001b[39;00m\n\u001b[1;32m   1751\u001b[0m     \u001b[38;5;66;03m# exception (e.g. `GeneratorExit`), exit the loop and surface the\u001b[39;00m\n\u001b[1;32m   1752\u001b[0m     \u001b[38;5;66;03m# worker traceback.\u001b[39;00m\n\u001b[1;32m   1753\u001b[0m     \u001b[38;5;28;01mif\u001b[39;00m \u001b[38;5;28mself\u001b[39m\u001b[38;5;241m.\u001b[39m_aborting:\n\u001b[0;32m-> 1754\u001b[0m         \u001b[38;5;28mself\u001b[39m\u001b[38;5;241m.\u001b[39m_raise_error_fast()\n\u001b[1;32m   1755\u001b[0m         \u001b[38;5;28;01mbreak\u001b[39;00m\n\u001b[1;32m   1757\u001b[0m     \u001b[38;5;66;03m# If the next job is not ready for retrieval yet, we just wait for\u001b[39;00m\n\u001b[1;32m   1758\u001b[0m     \u001b[38;5;66;03m# async callbacks to progress.\u001b[39;00m\n",
      "File \u001b[0;32m~/anaconda3/envs/tensor_flow/lib/python3.11/site-packages/joblib/parallel.py:1789\u001b[0m, in \u001b[0;36mParallel._raise_error_fast\u001b[0;34m(self)\u001b[0m\n\u001b[1;32m   1785\u001b[0m \u001b[38;5;66;03m# If this error job exists, immediatly raise the error by\u001b[39;00m\n\u001b[1;32m   1786\u001b[0m \u001b[38;5;66;03m# calling get_result. This job might not exists if abort has been\u001b[39;00m\n\u001b[1;32m   1787\u001b[0m \u001b[38;5;66;03m# called directly or if the generator is gc'ed.\u001b[39;00m\n\u001b[1;32m   1788\u001b[0m \u001b[38;5;28;01mif\u001b[39;00m error_job \u001b[38;5;129;01mis\u001b[39;00m \u001b[38;5;129;01mnot\u001b[39;00m \u001b[38;5;28;01mNone\u001b[39;00m:\n\u001b[0;32m-> 1789\u001b[0m     error_job\u001b[38;5;241m.\u001b[39mget_result(\u001b[38;5;28mself\u001b[39m\u001b[38;5;241m.\u001b[39mtimeout)\n",
      "File \u001b[0;32m~/anaconda3/envs/tensor_flow/lib/python3.11/site-packages/joblib/parallel.py:745\u001b[0m, in \u001b[0;36mBatchCompletionCallBack.get_result\u001b[0;34m(self, timeout)\u001b[0m\n\u001b[1;32m    739\u001b[0m backend \u001b[38;5;241m=\u001b[39m \u001b[38;5;28mself\u001b[39m\u001b[38;5;241m.\u001b[39mparallel\u001b[38;5;241m.\u001b[39m_backend\n\u001b[1;32m    741\u001b[0m \u001b[38;5;28;01mif\u001b[39;00m backend\u001b[38;5;241m.\u001b[39msupports_retrieve_callback:\n\u001b[1;32m    742\u001b[0m     \u001b[38;5;66;03m# We assume that the result has already been retrieved by the\u001b[39;00m\n\u001b[1;32m    743\u001b[0m     \u001b[38;5;66;03m# callback thread, and is stored internally. It's just waiting to\u001b[39;00m\n\u001b[1;32m    744\u001b[0m     \u001b[38;5;66;03m# be returned.\u001b[39;00m\n\u001b[0;32m--> 745\u001b[0m     \u001b[38;5;28;01mreturn\u001b[39;00m \u001b[38;5;28mself\u001b[39m\u001b[38;5;241m.\u001b[39m_return_or_raise()\n\u001b[1;32m    747\u001b[0m \u001b[38;5;66;03m# For other backends, the main thread needs to run the retrieval step.\u001b[39;00m\n\u001b[1;32m    748\u001b[0m \u001b[38;5;28;01mtry\u001b[39;00m:\n",
      "File \u001b[0;32m~/anaconda3/envs/tensor_flow/lib/python3.11/site-packages/joblib/parallel.py:763\u001b[0m, in \u001b[0;36mBatchCompletionCallBack._return_or_raise\u001b[0;34m(self)\u001b[0m\n\u001b[1;32m    761\u001b[0m \u001b[38;5;28;01mtry\u001b[39;00m:\n\u001b[1;32m    762\u001b[0m     \u001b[38;5;28;01mif\u001b[39;00m \u001b[38;5;28mself\u001b[39m\u001b[38;5;241m.\u001b[39mstatus \u001b[38;5;241m==\u001b[39m TASK_ERROR:\n\u001b[0;32m--> 763\u001b[0m         \u001b[38;5;28;01mraise\u001b[39;00m \u001b[38;5;28mself\u001b[39m\u001b[38;5;241m.\u001b[39m_result\n\u001b[1;32m    764\u001b[0m     \u001b[38;5;28;01mreturn\u001b[39;00m \u001b[38;5;28mself\u001b[39m\u001b[38;5;241m.\u001b[39m_result\n\u001b[1;32m    765\u001b[0m \u001b[38;5;28;01mfinally\u001b[39;00m:\n",
      "\u001b[0;31mBrokenProcessPool\u001b[0m: A task has failed to un-serialize. Please ensure that the arguments of the function are all picklable."
     ]
    }
   ],
   "source": [
    "# feature importance \n",
    "\n",
    "from sklearn.inspection import permutation_importance\n",
    "\n",
    "result = permutation_importance(model, X_train_new, y_train_new, n_repeats=10, random_state=42, n_jobs=-1, scoring='neg_root_mean_squared_error')"
   ]
  }
 ],
 "metadata": {
  "kernelspec": {
   "display_name": "master",
   "language": "python",
   "name": "python3"
  },
  "language_info": {
   "codemirror_mode": {
    "name": "ipython",
    "version": 3
   },
   "file_extension": ".py",
   "mimetype": "text/x-python",
   "name": "python",
   "nbconvert_exporter": "python",
   "pygments_lexer": "ipython3",
   "version": "3.11.5"
  }
 },
 "nbformat": 4,
 "nbformat_minor": 2
}
