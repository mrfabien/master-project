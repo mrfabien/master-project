{
 "cells": [
  {
   "cell_type": "code",
   "execution_count": 9,
   "metadata": {},
   "outputs": [],
   "source": [
    "import pandas as pd\n",
    "import numpy as np"
   ]
  },
  {
   "cell_type": "code",
   "execution_count": 10,
   "metadata": {},
   "outputs": [],
   "source": [
    "# load each tc_irad_*.txt file into a dataframe\n",
    "\n",
    "for i in range(1, 97):\n",
    "    locals()['tc_irad_' + str(i)] = pd.read_csv('tc_irad_' + str(i) + '.txt', sep=',')"
   ]
  },
  {
   "cell_type": "code",
   "execution_count": 11,
   "metadata": {},
   "outputs": [],
   "source": [
    "# in the columns lon_east and lon_west, substract the value 360 from all values greater than 360\n",
    "\n",
    "for i in range(1, 97):\n",
    "    locals()['tc_irad_' + str(i)]['lon_east'] = locals()['tc_irad_' + str(i)]['lon_east'].apply(lambda x: x - 360 if x > 360 else x)\n",
    "    locals()['tc_irad_' + str(i)]['lon_west'] = locals()['tc_irad_' + str(i)]['lon_west'].apply(lambda x: x - 360 if x > 360 else x)\n",
    "    "
   ]
  },
  {
   "cell_type": "code",
   "execution_count": 12,
   "metadata": {},
   "outputs": [],
   "source": [
    "# if any value has more than 6 decimals, round it to 6 decimals\n",
    "\n",
    "for i in range(1, 97):\n",
    "    locals()['tc_irad_' + str(i)] = locals()['tc_irad_' + str(i)].round(6)"
   ]
  },
  {
   "cell_type": "code",
   "execution_count": 6,
   "metadata": {},
   "outputs": [],
   "source": [
    "# save them as a txt file\n",
    "\n",
    "for i in range(1, 97):\n",
    "    locals()['tc_irad_' + str(i)].to_csv('tc_irad_' + str(i) + '.txt', sep=',', index=False)"
   ]
  }
 ],
 "metadata": {
  "kernelspec": {
   "display_name": "master",
   "language": "python",
   "name": "python3"
  },
  "language_info": {
   "codemirror_mode": {
    "name": "ipython",
    "version": 3
   },
   "file_extension": ".py",
   "mimetype": "text/x-python",
   "name": "python",
   "nbconvert_exporter": "python",
   "pygments_lexer": "ipython3",
   "version": "3.11.5"
  }
 },
 "nbformat": 4,
 "nbformat_minor": 2
}
