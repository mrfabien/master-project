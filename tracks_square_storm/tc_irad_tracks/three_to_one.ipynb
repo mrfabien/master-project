{
 "cells": [
  {
   "cell_type": "code",
   "execution_count": 12,
   "metadata": {},
   "outputs": [],
   "source": [
    "# libriairies\n",
    "\n",
    "import pandas as pd\n",
    "import numpy as np"
   ]
  },
  {
   "cell_type": "code",
   "execution_count": 13,
   "metadata": {},
   "outputs": [],
   "source": [
    "for i in range(1,97):\n",
    "    locals()['tracks_'+str(i)] = pd.read_csv('tc_3_hours/tc_irad_'+str(i)+'.txt')\n",
    "    locals()['lon_east_'+str(i)] = locals()['tracks_'+str(i)]['lon_east']\n",
    "    locals()['lat_north_'+str(i)] = locals()['tracks_'+str(i)]['lat_north']\n",
    "    locals()['lon_west_'+str(i)] = locals()['tracks_'+str(i)]['lon_west']\n",
    "    locals()['lat_south_'+str(i)] = locals()['tracks_'+str(i)]['lat_south']"
   ]
  },
  {
   "cell_type": "code",
   "execution_count": 14,
   "metadata": {},
   "outputs": [],
   "source": [
    "# interpolation between 2 points in a vector\n",
    "\n",
    "def interpolate_vector(data, factor):\n",
    "    n = len(data)\n",
    "    # X interpolation points. For factor=4, it is [0, 0.25, 0.5, 0.75, 1, 1.25, 1.5, ...]\n",
    "    x = np.linspace(0, n - 1, (n - 1) * factor + 1)\n",
    "    # Alternatively:\n",
    "    # x = np.arange((n - 1) * factor + 1) / factor\n",
    "    # X data points: [0, 1, 2, ...]\n",
    "    xp = np.arange(n)\n",
    "    # Interpolate\n",
    "    return np.round(np.interp(x, xp, np.asarray(data)),6)\n"
   ]
  },
  {
   "cell_type": "code",
   "execution_count": 15,
   "metadata": {},
   "outputs": [],
   "source": [
    "# apply the interpolation to each longitude and latitude vectors\n",
    "\n",
    "factor = 3\n",
    "\n",
    "# for latitudes\n",
    "\n",
    "for i in range(1,97):\n",
    "    locals()['lat_north_'+str(i)+'_interp'] = interpolate_vector(locals()['lat_north_'+str(i)], 3)\n",
    "    locals()['lat_south_'+str(i)+'_interp'] = interpolate_vector(locals()['lat_south_'+str(i)], 3)\n",
    "\n",
    "# for longitudes \n",
    "\n",
    "for i in range(1,97):\n",
    "\n",
    "    locals()['lon_east_'+str(i)+'_interp'] = []\n",
    "\n",
    "    for j in range(0,len(locals()['lon_east_'+str(i)])-1):\n",
    "\n",
    "        if abs(locals()['lon_east_'+str(i)][j] - locals()['lon_east_'+str(i)][j+1]) > 300:\n",
    "            if locals()['lon_east_'+str(i)][j] > locals()['lon_east_'+str(i)][j+1]:\n",
    "                delta_before_360 = 360 - locals()['lon_east_'+str(i)][j]\n",
    "                delta_after_360 = locals()['lon_east_'+str(i)][j+1]\n",
    "                sum_deltas = delta_before_360 + delta_after_360\n",
    "                delta_factor = sum_deltas / factor\n",
    "\n",
    "                locals()['lon_east_'+str(i)+'_interp'].append(locals()['lon_east_'+str(i)][j])\n",
    "                if (locals()['lon_east_'+str(i)][j]+delta_factor) > 360:\n",
    "                    locals()['lon_east_'+str(i)+'_interp'].append(locals()['lon_east_'+str(i)][j]+delta_factor-360)\n",
    "                else:\n",
    "                    locals()['lon_east_'+str(i)+'_interp'].append(locals()['lon_east_'+str(i)][j]+delta_factor)\n",
    "                if (locals()['lon_east_'+str(i)][j]+2*delta_factor) > 360:\n",
    "                    locals()['lon_east_'+str(i)+'_interp'].append(locals()['lon_east_'+str(i)][j]+2*delta_factor-360)\n",
    "                else:\n",
    "                    locals()['lon_east_'+str(i)+'_interp'].append(locals()['lon_east_'+str(i)][j]+2*delta_factor)\n",
    "            else:\n",
    "                delta_before_360 = 360 - locals()['lon_east_'+str(i)][j+1]\n",
    "                delta_after_360 = locals()['lon_east_'+str(i)][j]\n",
    "                sum_deltas = delta_before_360 + delta_after_360\n",
    "                delta_factor = -sum_deltas / factor\n",
    "\n",
    "                locals()['lon_east_'+str(i)+'_interp'].append(locals()['lon_east_'+str(i)][j])\n",
    "                if (locals()['lon_east_'+str(i)][j]+delta_factor) < 0:\n",
    "                    locals()['lon_east_'+str(i)+'_interp'].append(360+locals()['lon_east_'+str(i)][j]+delta_factor)\n",
    "                else:\n",
    "                    locals()['lon_east_'+str(i)+'_interp'].append(locals()['lon_east_'+str(i)][j]+delta_factor)\n",
    "                if (locals()['lon_east_'+str(i)][j]+2*delta_factor) < 0:\n",
    "                    locals()['lon_east_'+str(i)+'_interp'].append(360+locals()['lon_east_'+str(i)][j]+2*delta_factor)\n",
    "                else:\n",
    "                    locals()['lon_east_'+str(i)+'_interp'].append(locals()['lon_east_'+str(i)][j]+2*delta_factor)\n",
    "\n",
    "        else:\n",
    "\n",
    "            delta_before_360 = locals()['lon_east_'+str(i)][j+1] - locals()['lon_east_'+str(i)][j]\n",
    "            delta_factor = delta_before_360 / factor\n",
    "            \n",
    "            locals()['lon_east_'+str(i)+'_interp'].append(locals()['lon_east_'+str(i)][j])\n",
    "            locals()['lon_east_'+str(i)+'_interp'].append(locals()['lon_east_'+str(i)][j]+delta_factor)\n",
    "            locals()['lon_east_'+str(i)+'_interp'].append(locals()['lon_east_'+str(i)][j]+2*delta_factor)\n",
    "\n",
    "    locals()['lon_east_'+str(i)+'_interp'].append(locals()['lon_east_'+str(i)][len(locals()['lon_east_'+str(i)])-1])\n",
    "\n",
    "for i in range(1,97):\n",
    "\n",
    "    locals()['lon_west_'+str(i)+'_interp'] = []\n",
    "\n",
    "    for j in range(0,len(locals()['lon_west_'+str(i)])-1):\n",
    "\n",
    "        if abs(locals()['lon_west_'+str(i)][j] - locals()['lon_west_'+str(i)][j+1]) > 300:\n",
    "            if locals()['lon_west_'+str(i)][j] > locals()['lon_west_'+str(i)][j+1]:\n",
    "                delta_before_360 = 360 - locals()['lon_west_'+str(i)][j]\n",
    "                delta_after_360 = locals()['lon_west_'+str(i)][j+1]\n",
    "                sum_deltas = delta_before_360 + delta_after_360\n",
    "                delta_factor = sum_deltas / factor\n",
    "\n",
    "                locals()['lon_west_'+str(i)+'_interp'].append(locals()['lon_west_'+str(i)][j])\n",
    "                if (locals()['lon_west_'+str(i)][j]+delta_factor) > 360:\n",
    "                    locals()['lon_west_'+str(i)+'_interp'].append(locals()['lon_west_'+str(i)][j]+delta_factor-360)\n",
    "                else:\n",
    "                    locals()['lon_west_'+str(i)+'_interp'].append(locals()['lon_west_'+str(i)][j]+delta_factor)\n",
    "                if (locals()['lon_west_'+str(i)][j]+2*delta_factor) > 360:\n",
    "                    locals()['lon_west_'+str(i)+'_interp'].append(locals()['lon_west_'+str(i)][j]+2*delta_factor-360)\n",
    "                else:\n",
    "                    locals()['lon_west_'+str(i)+'_interp'].append(locals()['lon_west_'+str(i)][j]+2*delta_factor)\n",
    "            else:\n",
    "                delta_before_360 = 360 - locals()['lon_west_'+str(i)][j+1]\n",
    "                delta_after_360 = locals()['lon_west_'+str(i)][j]\n",
    "                sum_deltas = delta_before_360 + delta_after_360\n",
    "                delta_factor = -sum_deltas / factor\n",
    "\n",
    "                locals()['lon_west_'+str(i)+'_interp'].append(locals()['lon_west_'+str(i)][j])\n",
    "                if (locals()['lon_west_'+str(i)][j]+delta_factor) < 0:\n",
    "                    locals()['lon_west_'+str(i)+'_interp'].append(360+locals()['lon_west_'+str(i)][j]+delta_factor)\n",
    "                else:\n",
    "                    locals()['lon_west_'+str(i)+'_interp'].append(locals()['lon_west_'+str(i)][j]+delta_factor)\n",
    "                if (locals()['lon_west_'+str(i)][j]+2*delta_factor) < 0:\n",
    "                    locals()['lon_west_'+str(i)+'_interp'].append(360+locals()['lon_west_'+str(i)][j]+2*delta_factor)\n",
    "                else:\n",
    "                    locals()['lon_west_'+str(i)+'_interp'].append(locals()['lon_west_'+str(i)][j]+2*delta_factor)\n",
    "\n",
    "        else:\n",
    "\n",
    "            delta_before_360 = locals()['lon_west_'+str(i)][j+1] - locals()['lon_west_'+str(i)][j]\n",
    "            delta_factor = delta_before_360 / factor\n",
    "            \n",
    "            locals()['lon_west_'+str(i)+'_interp'].append(locals()['lon_west_'+str(i)][j])\n",
    "            locals()['lon_west_'+str(i)+'_interp'].append(locals()['lon_west_'+str(i)][j]+delta_factor)\n",
    "            locals()['lon_west_'+str(i)+'_interp'].append(locals()['lon_west_'+str(i)][j]+2*delta_factor)\n",
    "\n",
    "    locals()['lon_west_'+str(i)+'_interp'].append(locals()['lon_west_'+str(i)][len(locals()['lon_west_'+str(i)])-1])\n",
    "\n",
    "# round the values to 6 decimals\n",
    "\n",
    "for i in range(1,97):\n",
    "    locals()['lon_east_'+str(i)+'_interp'] = [round(num, 6) for num in locals()['lon_east_'+str(i)+'_interp']]\n",
    "    locals()['lon_west_'+str(i)+'_interp'] = [round(num, 6) for num in locals()['lon_west_'+str(i)+'_interp']]\n",
    "    locals()['lat_north_'+str(i)+'_interp'] = [round(num, 6) for num in locals()['lat_north_'+str(i)+'_interp']]\n",
    "    locals()['lat_south_'+str(i)+'_interp'] = [round(num, 6) for num in locals()['lat_south_'+str(i)+'_interp']]\n"
   ]
  },
  {
   "cell_type": "code",
   "execution_count": 16,
   "metadata": {},
   "outputs": [],
   "source": [
    "# combine the interpolated vectors into a dataframe\n",
    "\n",
    "for i in range(1,97):\n",
    "    locals()['tracks_'+str(i)+'_interp'] = pd.DataFrame({'lon_east':locals()['lon_east_'+str(i)+'_interp'],'lon_west':locals()['lon_west_'+str(i)+'_interp'],'lat_south':locals()['lat_south_'+str(i)+'_interp'],'lat_north':locals()['lat_north_'+str(i)+'_interp']})"
   ]
  },
  {
   "cell_type": "code",
   "execution_count": 17,
   "metadata": {},
   "outputs": [],
   "source": [
    "# save the interpolated dataframes to txt files\n",
    "\n",
    "for i in range(1,97):\n",
    "    locals()['tracks_'+str(i)+'_interp'].to_csv('tc_1_hour/tc_irad_'+str(i)+'_interp.txt',index=False)"
   ]
  },
  {
   "cell_type": "code",
   "execution_count": 7,
   "metadata": {},
   "outputs": [
    {
     "name": "stdout",
     "output_type": "stream",
     "text": [
      "108 108 109 109\n"
     ]
    }
   ],
   "source": [
    "print(len(lon_east_42_interp), len(lon_west_42_interp), len(lat_north_42_interp), len(lat_south_42_interp))"
   ]
  }
 ],
 "metadata": {
  "kernelspec": {
   "display_name": "master",
   "language": "python",
   "name": "python3"
  },
  "language_info": {
   "codemirror_mode": {
    "name": "ipython",
    "version": 3
   },
   "file_extension": ".py",
   "mimetype": "text/x-python",
   "name": "python",
   "nbconvert_exporter": "python",
   "pygments_lexer": "ipython3",
   "version": "3.11.5"
  }
 },
 "nbformat": 4,
 "nbformat_minor": 2
}
