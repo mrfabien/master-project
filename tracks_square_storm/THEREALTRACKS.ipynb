{
 "cells": [
  {
   "cell_type": "code",
   "execution_count": 38,
   "metadata": {},
   "outputs": [],
   "source": [
    "import pandas as pd\n",
    "\n",
    "storms = range(1,97)\n",
    "start_end = pd.read_csv('/Users/fabienaugsburger/Documents/GitHub/master-project/tracks_square_storm/storms_with_steps_and_index.csv')\n",
    "\n",
    "for storm in storms:\n",
    "\n",
    "    master_1h = pd.read_csv(f'/Users/fabienaugsburger/Documents/GitHub/master-project/tracks_square_storm/ALL_TRACKS/tracks_1h/storm_{storm}.csv')\n",
    "    #csv = pd.read_csv(f'/Users/fabienaugsburger/Documents/GitHub/master-project/datasets_3h/2m_dewpoint_temperature/storm_{storm}/max_{storm}_0.csv')\n",
    "\n",
    "    timesteps_correct = start_end['1_hour_steps'][storm-1]+1\n",
    "    timesteps_master = master_1h.shape[0]\n",
    "    #timesteps_master = csv.shape[0]\n",
    "\n",
    "    if timesteps_correct != timesteps_master:\n",
    "        print(f'Error in storm {storm} with {timesteps_correct} steps and {timesteps_master} steps in master file')"
   ]
  },
  {
   "cell_type": "code",
   "execution_count": 39,
   "metadata": {},
   "outputs": [],
   "source": [
    "# retrieve original storm tracks\n",
    "\n",
    "storm_C3S = pd.read_csv('/Users/fabienaugsburger/Documents/GitHub/master-project/tracks_square_storm/C3S_StormTracks_era5_19792021_0100_v3.csv',\n",
    "                        delimiter=';')"
   ]
  },
  {
   "cell_type": "code",
   "execution_count": 40,
   "metadata": {},
   "outputs": [],
   "source": [
    "# Create an empty list to store the storm dataframes\n",
    "storm_dataframes = []\n",
    "df = storm_C3S\n",
    "\n",
    "# Split the dataframe whenever the first column starts with 'TRACK_ID'\n",
    "split_indices = df.index[df.iloc[:, 0].str.startswith('TRACK_ID', na=False)].tolist()\n",
    "split_indices.append(len(df))  # Add the last index to capture the final segment\n",
    "\n",
    "# Generate the new dataframes\n",
    "for i in range(len(split_indices) - 1):\n",
    "    start_idx = split_indices[i]\n",
    "    end_idx = split_indices[i + 1]\n",
    "    storm_df = df.iloc[start_idx:end_idx].reset_index(drop=True)\n",
    "    locals()[f'storm_{i + 1}'] = storm_df\n",
    "    #storm_dataframes.append(storm_df)\n",
    "\n",
    "#for idx, storm_df in enumerate(storm_dataframes):\n",
    "#   tools.display_dataframe_to_user(name=f\"storm_{idx + 1}\", dataframe=storm_df)"
   ]
  },
  {
   "cell_type": "code",
   "execution_count": 8,
   "metadata": {},
   "outputs": [],
   "source": [
    "# save the new storm tracks\n",
    "\n",
    "'''for i in range(1,97):\n",
    "    locals()[f'storm_{i}'].to_csv(f'/Users/fabienaugsburger/Documents/GitHub/master-project/tracks_square_storm/ALL_TRACKS/storm_{i}.csv', index=False)'''"
   ]
  },
  {
   "cell_type": "code",
   "execution_count": 41,
   "metadata": {},
   "outputs": [],
   "source": [
    "# create 4 new columns named lon_east, lon_west, lat_north and lat_south\n",
    "degree = 4\n",
    "\n",
    "for i in range(1,97):\n",
    "\n",
    "    # remove the 2 first rows of every storm\n",
    "    locals()[f'storm_{i}'] = locals()[f'storm_{i}'].iloc[2:].reset_index(drop=True)\n",
    "\n",
    "    # split the first column into 3 columns names Date, Longitude and Latitude\n",
    "    locals()[f'storm_{i}'][['Date', 'Longitude', 'Latitude','Vorticity']] = locals()[f'storm_{i}']['Time&Longitude&Latitude'].str.split(' ', expand=True)\n",
    "    locals()[f'storm_{i}'] = locals()[f'storm_{i}'].drop(columns=['Time&Longitude&Latitude'])\n",
    "\n",
    "    # move the columns Date, Longitude and Latitude to the first columns\n",
    "    cols = locals()[f'storm_{i}'].columns.tolist()\n",
    "    cols = cols[-4:] + cols[:-4]\n",
    "    locals()[f'storm_{i}'] = locals()[f'storm_{i}'][cols]\n",
    "    \n",
    "    # replace each value = 1e25 by NaN\n",
    "    locals()[f'storm_{i}'] = locals()[f'storm_{i}'].replace(1e+25, float('nan'))\n",
    "\n",
    "    # remove all columns expect Longitude and Latitude\n",
    "    locals()[f'storm_{i}'] = locals()[f'storm_{i}'][['Longitude', 'Latitude']]\n",
    "\n",
    "    locals()[f'storm_{i}']['lon_east'] = locals()[f'storm_{i}']['Longitude'].astype(float) - degree\n",
    "    locals()[f'storm_{i}']['lon_west'] = locals()[f'storm_{i}']['Longitude'].astype(float) + degree\n",
    "    locals()[f'storm_{i}']['lat_north'] = locals()[f'storm_{i}']['Latitude'].astype(float) + degree\n",
    "    locals()[f'storm_{i}']['lat_south'] = locals()[f'storm_{i}']['Latitude'].astype(float) - degree\n",
    "\n",
    "    # drop the columns Longitude and Latitude\n",
    "    locals()[f'storm_{i}'] = locals()[f'storm_{i}'].drop(columns=['Longitude', 'Latitude'])\n",
    "\n",
    "    # if the values in lon_east and lon_west are > 360, subtract 360\n",
    "    locals()[f'storm_{i}']['lon_east'] = locals()[f'storm_{i}']['lon_east'].apply(lambda x: x - 360 if x > 360 else x)\n",
    "    locals()[f'storm_{i}']['lon_east'] = locals()[f'storm_{i}']['lon_east'].apply(lambda x: 360 + x if x < 0 else x)\n",
    "    locals()[f'storm_{i}']['lon_west'] = locals()[f'storm_{i}']['lon_west'].apply(lambda x: x - 360 if x > 360 else x)\n",
    "    locals()[f'storm_{i}']['lon_west'] = locals()[f'storm_{i}']['lon_west'].apply(lambda x: 360 + x if x < 0 else x)\n",
    "\n",
    "    # round the values in lon_east and lon_west to 6 decimals\n",
    "    locals()[f'storm_{i}']['lon_east'] = locals()[f'storm_{i}']['lon_east'].round(6)\n",
    "    locals()[f'storm_{i}']['lon_west'] = locals()[f'storm_{i}']['lon_west'].round(6)\n",
    "    locals()[f'storm_{i}']['lat_north'] = locals()[f'storm_{i}']['lat_north'].round(6)\n",
    "    locals()[f'storm_{i}']['lat_south'] = locals()[f'storm_{i}']['lat_south'].round(6)\n",
    "\n",
    "    # save the new storm tracks\n",
    "\n",
    "    locals()[f'storm_{i}'].to_csv(f'/Users/fabienaugsburger/Documents/GitHub/master-project/tracks_square_storm/ALL_TRACKS/tracks_3h/storm_{i}.csv', index=False)"
   ]
  }
 ],
 "metadata": {
  "kernelspec": {
   "display_name": "master",
   "language": "python",
   "name": "python3"
  },
  "language_info": {
   "codemirror_mode": {
    "name": "ipython",
    "version": 3
   },
   "file_extension": ".py",
   "mimetype": "text/x-python",
   "name": "python",
   "nbconvert_exporter": "python",
   "pygments_lexer": "ipython3",
   "version": "3.11.9"
  }
 },
 "nbformat": 4,
 "nbformat_minor": 2
}
