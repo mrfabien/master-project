{
 "cells": [
  {
   "cell_type": "code",
   "execution_count": 1,
   "metadata": {},
   "outputs": [],
   "source": [
    "import xarray as xr\n",
    "import numpy as np\n",
    "import pandas as pd"
   ]
  },
  {
   "cell_type": "code",
   "execution_count": 9,
   "metadata": {},
   "outputs": [],
   "source": [
    "# variable that I want to extract for each storm\n",
    "\n",
    "folder = '2m_temperature'\n",
    "\n",
    "year = '1990'\n",
    "\n",
    "var = 'ERA5_'+year+'_'+folder"
   ]
  },
  {
   "cell_type": "code",
   "execution_count": 10,
   "metadata": {},
   "outputs": [],
   "source": [
    "servor_path = '/work/FAC/FGSE/IDYST/tbeucler/default/raw_data/ECMWF/ERA5/SL/'+folder+'/'+var+'.nc'\n",
    "\n",
    "dew_point_xr = xr.open_dataset(servor_path)\n",
    "\n",
    "specific_var = list(dew_point_xr.variables)[3]"
   ]
  },
  {
   "cell_type": "code",
   "execution_count": 11,
   "metadata": {},
   "outputs": [],
   "source": [
    "# import all tracks\n",
    "\n",
    "dates = pd.read_csv('storms_start_end.csv', sep=',')\n",
    "dates['year'] = dates['start_date'].str[:4]\n",
    "\n",
    "length_year = dates[dates['year'] == year].shape[0]\n",
    "index_year = dates[dates['year'] == year].index[0]\n",
    "\n",
    "for i in range(index_year,index_year+length_year):\n",
    "    locals()['track_' + str(i+1)] = pd.read_csv('tc_irad_tracks/tc_irad_' + str(i+1) + '.txt')\n",
    "    "
   ]
  },
  {
   "cell_type": "code",
   "execution_count": 12,
   "metadata": {},
   "outputs": [],
   "source": [
    "# slice the time dimension\n",
    "\n",
    "for i in range(index_year,index_year + length_year):\n",
    "    start_temp = dates['start_date'][i]\n",
    "    end_temp = dates['end_date'][i]\n",
    "\n",
    "    # Create a new dataset for each iteration\n",
    "    new_dataset = xr.Dataset({\n",
    "        specific_var: dew_point_xr[specific_var],\n",
    "        # Add other variables as needed\n",
    "    })\n",
    "\n",
    "    # Optionally, you can update the time dimension for the new dataset\n",
    "    new_dataset = new_dataset.sel(time=slice(start_temp, end_temp))\n",
    "\n",
    "    # Dynamically name the dataset variable\n",
    "    locals()[f\"dew_point_xr_{i}\"] = new_dataset"
   ]
  },
  {
   "cell_type": "code",
   "execution_count": 13,
   "metadata": {},
   "outputs": [],
   "source": [
    "# iterate through each time step\n",
    "\n",
    "var_out = []\n",
    "var_out\n",
    "for j in range (index_year,index_year + length_year):\n",
    "    track_temp = pd.read_csv(f'tc_irad_tracks/tc_irad_{j+1}.txt')\n",
    "    dew_point_temp = locals()[f\"dew_point_xr_{j}\"]\n",
    "    var_out_temp = []\n",
    "    for i in range(0, len(track_temp)):\n",
    "        lon_e_temp, lon_w_temp, lat_s_temp, lat_n_temp = track_temp.iloc[i]\n",
    "\n",
    "        lon_test = np.asanyarray(dew_point_temp.longitude[:])\n",
    "        lat_test = np.asanyarray(dew_point_temp.latitude[:])\n",
    "\n",
    "        closest_lon_w = np.abs(lon_test - lon_w_temp).argmin()\n",
    "        closest_lon_e = np.abs(lon_test - lon_e_temp).argmin()\n",
    "        closest_lat_s = np.abs(lat_test - lat_s_temp).argmin()\n",
    "        closest_lat_n = np.abs(lat_test - lat_n_temp).argmin()\n",
    "\n",
    "        closest_lon_w_coor = lon_test[closest_lon_w]\n",
    "        closest_lon_e_coor = lon_test[closest_lon_e]\n",
    "        closest_lat_s_coor = lat_test[closest_lat_s]\n",
    "        closest_lat_n_coor = lat_test[closest_lat_n]\n",
    "\n",
    "        # Use .roll to handle the 0°/360° boundary\n",
    "\n",
    "        if closest_lon_w_coor < 100 and closest_lon_e_coor > 100:\n",
    "            roll_shift = {'longitude':int(round(closest_lon_w_coor,0)), 'longitude': int(round(closest_lon_e_coor,0))}\n",
    "            dew_point_temp_rolled = dew_point_temp.roll(roll_shift, roll_coords=True)\n",
    "        else:\n",
    "            dew_point_temp_rolled = dew_point_temp\n",
    "        # Slice the dataset based on the rolled longitudes and latitudes\n",
    "        temp_ds_time = dew_point_temp_rolled[specific_var].isel(time=i)\n",
    "        temp_ds = temp_ds_time.sel(latitude=slice(closest_lat_n_coor, closest_lat_s_coor),\n",
    "                                   longitude=slice(closest_lon_e_coor, closest_lon_w_coor)).values\n",
    "\n",
    "        #temp_ds = np.asarray(dew_point_temp['d2m'])\n",
    "\n",
    "        #var_out_temp.append(temp_ds[i,closest_lat_n:closest_lat_s,closest_lon_e:closest_lon_w])\n",
    "        var_out_temp.append(temp_ds)\n",
    "\n",
    "    locals()[f\"var_out_{j+1}\"] = var_out_temp\n"
   ]
  },
  {
   "cell_type": "code",
   "execution_count": 14,
   "metadata": {},
   "outputs": [],
   "source": [
    "# mean, min, max value of each time step\n",
    "\n",
    "mean_out = []\n",
    "min_out = []\n",
    "max_out = []\n",
    "sigma_out = []\n",
    "skweness_out = []\n",
    "kurto_out = []\n",
    "\n",
    "stats_list = []\n",
    "all_stats = []\n",
    "for j in range(index_year, index_year + length_year):\n",
    "\n",
    "    var_out = locals()[f\"var_out_{j+1}\"]\n",
    "    mean_out_temp = []\n",
    "    min_out_temp = []\n",
    "    max_out_temp = []\n",
    "    sigma_out_temp = []\n",
    "    skweness_out_temp = []\n",
    "    kurto_out_temp = []\n",
    "\n",
    "    for i in range(0, len(var_out)):\n",
    "        mean_out_temp.append(np.mean(var_out[i]))\n",
    "        min_out_temp.append(np.min(var_out[i]))\n",
    "        max_out_temp.append(np.max(var_out[i]))\n",
    "        sigma_out_temp.append(np.std(var_out[i]))\n",
    "        skweness_out_temp.append(pd.Series(np.asarray(var_out[i]).reshape(-1)).skew())\n",
    "        kurto_out_temp.append(pd.Series(np.asarray(var_out[i]).reshape(-1)).kurtosis())\n",
    "    \n",
    "    mean_out.append(mean_out_temp)\n",
    "    min_out.append(min_out_temp)\n",
    "    max_out.append(max_out_temp)\n",
    "    sigma_out.append(sigma_out_temp)\n",
    "    skweness_out.append(skweness_out_temp)\n",
    "    kurto_out.append(kurto_out_temp)\n",
    "\n",
    "    locals()[f\"mean_out_{j+1}\"] = mean_out_temp\n",
    "    locals()[f\"min_out_{j+1}\"] = min_out_temp\n",
    "    locals()[f\"max_out_{j+1}\"] = max_out_temp\n",
    "    locals()[f\"sigma_out_{j+1}\"] = sigma_out_temp\n",
    "    locals()[f\"skweness_out_{j+1}\"] = skweness_out_temp\n",
    "    locals()[f\"kurto_out_{j+1}\"] = kurto_out_temp"
   ]
  },
  {
   "cell_type": "code",
   "execution_count": 15,
   "metadata": {},
   "outputs": [],
   "source": [
    "# save as csv\n",
    "\n",
    "for j in range(index_year,index_year+length_year):\n",
    "\n",
    "    locals()[f\"mean_out_{j+1}\"] = pd.DataFrame(locals()[f\"mean_out_{j+1}\"])\n",
    "    locals()[f\"min_out_{j+1}\"] = pd.DataFrame(locals()[f\"min_out_{j+1}\"])\n",
    "    locals()[f\"max_out_{j+1}\"] = pd.DataFrame(locals()[f\"max_out_{j+1}\"])\n",
    "    locals()[f\"sigma_out_{j+1}\"] = pd.DataFrame(locals()[f\"sigma_out_{j+1}\"])\n",
    "    locals()[f\"skweness_out_{j+1}\"] = pd.DataFrame(locals()[f\"skweness_out_{j+1}\"])\n",
    "    locals()[f\"kurto_out_{j+1}\"] = pd.DataFrame(locals()[f\"kurto_out_{j+1}\"])\n",
    "\n",
    "    locals()[f\"mean_out_{j+1}\"].to_csv(f'datasets/{folder}/storm_{j+1}/mean_{j+1}.csv')\n",
    "    locals()[f\"min_out_{j+1}\"].to_csv(f'datasets/{folder}/storm_{j+1}/min_{j+1}.csv')\n",
    "    locals()[f\"max_out_{j+1}\"].to_csv(f'datasets/{folder}/storm_{j+1}/max_{j+1}.csv')\n",
    "    locals()[f\"sigma_out_{j+1}\"].to_csv(f'datasets/{folder}/storm_{j+1}/sigma_{j+1}.csv')\n",
    "    locals()[f\"skweness_out_{j+1}\"].to_csv(f'datasets/{folder}/storm_{j+1}/skweness_{j+1}.csv')\n",
    "    locals()[f\"kurto_out_{j+1}\"].to_csv(f'datasets/{folder}/storm_{j+1}/kurto_{j+1}.csv')"
   ]
  },
  {
   "cell_type": "markdown",
   "metadata": {},
   "source": [
    "For all variables, (class by variable (folder), then by storm)) "
   ]
  }
 ],
 "metadata": {
  "kernelspec": {
   "display_name": "Python 3 (ipykernel)",
   "language": "python",
   "name": "python3"
  },
  "language_info": {
   "codemirror_mode": {
    "name": "ipython",
    "version": 3
   },
   "file_extension": ".py",
   "mimetype": "text/x-python",
   "name": "python",
   "nbconvert_exporter": "python",
   "pygments_lexer": "ipython3",
   "version": "3.9.16"
  }
 },
 "nbformat": 4,
 "nbformat_minor": 2
}
