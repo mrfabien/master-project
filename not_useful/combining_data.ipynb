{
 "cells": [
  {
   "cell_type": "code",
   "execution_count": 8,
   "metadata": {},
   "outputs": [],
   "source": [
    "import xarray as xr\n",
    "import pandas as pd"
   ]
  },
  {
   "cell_type": "code",
   "execution_count": 2,
   "metadata": {},
   "outputs": [],
   "source": [
    "# import data\n",
    "\n",
    "chemin = '/Users/fabienaugsburger/myCloud/Unil/Master/Thesis/*.nc'\n",
    "\n",
    "ds = xr.open_mfdataset(chemin, combine='by_coords')"
   ]
  },
  {
   "cell_type": "code",
   "execution_count": 11,
   "metadata": {},
   "outputs": [],
   "source": [
    "dates = ds.time\n",
    "\n",
    "dates = dates.to_dataframe()\n",
    "\n",
    "# export data as netcdf4\n",
    "\n",
    "ds.to_netcdf('/Users/fabienaugsburger/myCloud/Unil/Master/Thesis/ERA5_2000_2m_dewpoint_temperature.nc')"
   ]
  }
 ],
 "metadata": {
  "kernelspec": {
   "display_name": "master",
   "language": "python",
   "name": "python3"
  },
  "language_info": {
   "codemirror_mode": {
    "name": "ipython",
    "version": 3
   },
   "file_extension": ".py",
   "mimetype": "text/x-python",
   "name": "python",
   "nbconvert_exporter": "python",
   "pygments_lexer": "ipython3",
   "version": "3.11.5"
  }
 },
 "nbformat": 4,
 "nbformat_minor": 2
}
