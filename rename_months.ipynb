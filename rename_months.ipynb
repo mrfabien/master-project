{
 "cells": [
  {
   "cell_type": "code",
   "execution_count": 7,
   "metadata": {},
   "outputs": [
    {
     "name": "stdout",
     "output_type": "stream",
     "text": [
      "Skipping '.DS_Store' as it is not a NetCDF file.\n",
      "Renaming 'ERA5_2010-09_cloud_base_height.nc' to 'ERA5_2010-9_cloud_base_height.nc'\n",
      "Renaming 'ERA5_1996-09_cloud_base_height.nc' to 'ERA5_1996-9_cloud_base_height.nc'\n",
      "File 'ERA5_2010-12_cloud_base_height.nc' does not need to be renamed.\n"
     ]
    }
   ],
   "source": [
    "import re\n",
    "import os\n",
    "\n",
    "def rename_files(directory):\n",
    "    for filename in os.listdir(directory):\n",
    "        if filename.endswith(\".nc\"):\n",
    "            match = re.match(r'ERA5_(\\d{4})-(\\d{2})_(.*)\\.nc', filename)\n",
    "            if match:\n",
    "                year = match.group(1)\n",
    "                month = match.group(2).lstrip(\"0\")\n",
    "                variable_name = match.group(3)\n",
    "                new_filename = f\"ERA5_{year}-{month}_{variable_name}.nc\"\n",
    "                if filename != new_filename:\n",
    "                    print(f\"Renaming '{filename}' to '{new_filename}'\")\n",
    "                    os.rename(os.path.join(directory, filename), os.path.join(directory, new_filename))\n",
    "                else:\n",
    "                    print(f\"File '{filename}' does not need to be renamed.\")\n",
    "            else:\n",
    "                print(f\"Skipping '{filename}' as it does not match the naming pattern.\")\n",
    "        else:\n",
    "            print(f\"Skipping '{filename}' as it is not a NetCDF file.\")\n",
    "\n",
    "# Replace 'directory_path' with the path to the directory containing the files you want to rename\n",
    "directory_path = \"/Users/fabienaugsburger/Desktop/cloud_base_height\"\n",
    "rename_files(directory_path)\n"
   ]
  }
 ],
 "metadata": {
  "kernelspec": {
   "display_name": "master",
   "language": "python",
   "name": "python3"
  },
  "language_info": {
   "codemirror_mode": {
    "name": "ipython",
    "version": 3
   },
   "file_extension": ".py",
   "mimetype": "text/x-python",
   "name": "python",
   "nbconvert_exporter": "python",
   "pygments_lexer": "ipython3",
   "version": "3.11.9"
  }
 },
 "nbformat": 4,
 "nbformat_minor": 2
}
