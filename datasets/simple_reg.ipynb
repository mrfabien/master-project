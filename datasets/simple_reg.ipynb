{
 "cells": [
  {
   "cell_type": "code",
   "execution_count": 2,
   "metadata": {},
   "outputs": [],
   "source": [
    "#import seaborn as sns\n",
    "import matplotlib.pyplot as plt\n",
    "import numpy as np\n",
    "import pandas as pd"
   ]
  },
  {
   "cell_type": "code",
   "execution_count": 36,
   "metadata": {},
   "outputs": [
    {
     "data": {
      "text/plain": [
       "\"temp_mean = pd.read_csv('/work/FAC/FGSE/IDYST/tbeucler/default/raw_data/ECMWF/WS_fabien/datasets/2m_temperature/storm_1/mean_1.csv')\\ntemp_min = pd.read_csv('/work/FAC/FGSE/IDYST/tbeucler/default/raw_data/ECMWF/WS_fabien/datasets/2m_temperature/storm_1/min_1.csv')\\ntemp_std = pd.read_csv('/work/FAC/FGSE/IDYST/tbeucler/default/raw_data/ECMWF/WS_fabien/datasets/2m_temperature/storm_1/sigma_1.csv')\\n\""
      ]
     },
     "execution_count": 36,
     "metadata": {},
     "output_type": "execute_result"
    }
   ],
   "source": [
    "# import mean, max, min, and std deviation of instantenous wind gusts\n",
    "\n",
    "inst_10m_max = pd.read_csv('convective_available_potential_energy/storm_1/mean_1.csv')\n",
    "'''inst_10m_mean = pd.read_csv('/work/FAC/FGSE/IDYST/tbeucler/default/raw_data/ECMWF/WS_fabien/datasets/instantaneous_10m_wind_gust/storm_1/mean_1.csv')\n",
    "inst_10m_min = pd.read_csv('/work/FAC/FGSE/IDYST/tbeucler/default/raw_data/ECMWF/WS_fabien/datasets/instantaneous_10m_wind_gust/storm_1/min_1.csv')\n",
    "inst_10m_std = pd.read_csv('/work/FAC/FGSE/IDYST/tbeucler/default/raw_data/ECMWF/WS_fabien/datasets/instantaneous_10m_wind_gust/storm_1/sigma_1.csv')\n",
    "\n",
    "d2m_max = pd.read_csv('/work/FAC/FGSE/IDYST/tbeucler/default/raw_data/ECMWF/WS_fabien/datasets/2m_dewpoint_temperature/storm_1/max_1.csv')\n",
    "d2m_mean = pd.read_csv('/work/FAC/FGSE/IDYST/tbeucler/default/raw_data/ECMWF/WS_fabien/datasets/2m_dewpoint_temperature/storm_1/mean_1.csv')\n",
    "d2m_min = pd.read_csv('/work/FAC/FGSE/IDYST/tbeucler/default/raw_data/ECMWF/WS_fabien/datasets/2m_dewpoint_temperature/storm_1/min_1.csv')\n",
    "d2m_std = pd.read_csv('/work/FAC/FGSE/IDYST/tbeucler/default/raw_data/ECMWF/WS_fabien/datasets/2m_dewpoint_temperature/storm_1/sigma_1.csv')'''\n",
    "\n",
    "temp_max = pd.read_csv('2m_temperature/storm_1/mean_1.csv')\n",
    "'''temp_mean = pd.read_csv('/work/FAC/FGSE/IDYST/tbeucler/default/raw_data/ECMWF/WS_fabien/datasets/2m_temperature/storm_1/mean_1.csv')\n",
    "temp_min = pd.read_csv('/work/FAC/FGSE/IDYST/tbeucler/default/raw_data/ECMWF/WS_fabien/datasets/2m_temperature/storm_1/min_1.csv')\n",
    "temp_std = pd.read_csv('/work/FAC/FGSE/IDYST/tbeucler/default/raw_data/ECMWF/WS_fabien/datasets/2m_temperature/storm_1/sigma_1.csv')\n",
    "'''\n",
    "# change to array\n",
    "\n"
   ]
  },
  {
   "cell_type": "code",
   "execution_count": null,
   "metadata": {},
   "outputs": [],
   "source": []
  },
  {
   "cell_type": "code",
   "execution_count": 37,
   "metadata": {},
   "outputs": [
    {
     "data": {
      "text/plain": [
       "<matplotlib.collections.PathCollection at 0x17a86dad0>"
      ]
     },
     "execution_count": 37,
     "metadata": {},
     "output_type": "execute_result"
    },
    {
     "data": {
      "image/png": "[encoded data removed]",
      "text/plain": [
       "<Figure size 640x480 with 1 Axes>"
      ]
     },
     "metadata": {},
     "output_type": "display_data"
    }
   ],
   "source": [
    "# plot the max values ig inst_10m_max compared to d2m_max\n",
    "\n",
    "plt.scatter(inst_10m_max.iloc[:,1], temp_max.iloc[:,1])"
   ]
  },
  {
   "cell_type": "code",
   "execution_count": 38,
   "metadata": {},
   "outputs": [
    {
     "name": "stdout",
     "output_type": "stream",
     "text": [
      "[[1.         0.59094362]\n",
      " [0.59094362 1.        ]]\n"
     ]
    }
   ],
   "source": [
    "# change to array to calculate correlation\n",
    "\n",
    "inst_10m_max = inst_10m_max.to_numpy()\n",
    "temp_max = temp_max.to_numpy()\n",
    "\n",
    "# calculate correlation\n",
    "\n",
    "correlation = np.corrcoef(inst_10m_max[:,1], temp_max[:,1])\n",
    "print(correlation)"
   ]
  },
  {
   "cell_type": "code",
   "execution_count": 20,
   "metadata": {},
   "outputs": [],
   "source": [
    "inst_10m_max = np.asarray(inst_10m_max)\n",
    "d2m_max = np.asarray(d2m_max)\n"
   ]
  },
  {
   "cell_type": "code",
   "execution_count": 40,
   "metadata": {},
   "outputs": [
    {
     "name": "stdout",
     "output_type": "stream",
     "text": [
      "0.5909436214327168\n"
     ]
    }
   ],
   "source": [
    "# acp of inst_10m_max and d2m_max\n",
    "\n",
    "inst_10m_max = inst_10m_max[:,1]\n",
    "temp_max = temp_max[:,1]\n",
    "\n",
    "inst_10m_max = inst_10m_max - np.mean(inst_10m_max)\n",
    "temp_max = temp_max - np.mean(temp_max)\n",
    "\n",
    "acp = np.dot(inst_10m_max, temp_max) / (np.linalg.norm(inst_10m_max) * np.linalg.norm(temp_max))\n",
    "print(acp)"
   ]
  },
  {
   "cell_type": "code",
   "execution_count": null,
   "metadata": {},
   "outputs": [],
   "source": [
    "# import each variable as a dataframe\n",
    "\n",
    "for i in range(0,23):\n",
    "    open"
   ]
  }
 ],
 "metadata": {
  "kernelspec": {
   "display_name": "Python 3 (ipykernel)",
   "language": "python",
   "name": "python3"
  },
  "language_info": {
   "codemirror_mode": {
    "name": "ipython",
    "version": 3
   },
   "file_extension": ".py",
   "mimetype": "text/x-python",
   "name": "python",
   "nbconvert_exporter": "python",
   "pygments_lexer": "ipython3",
   "version": "3.11.5"
  }
 },
 "nbformat": 4,
 "nbformat_minor": 2
}
